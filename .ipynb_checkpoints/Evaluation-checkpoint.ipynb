{
 "cells": [
  {
   "cell_type": "code",
   "execution_count": 118,
   "id": "descending-explosion",
   "metadata": {},
   "outputs": [],
   "source": [
    "from pathlib import Path\n",
    "import os\n",
    "import json\n",
    "script_dir = os.path.dirname(Path().absolute())\n",
    "generated_snippets = json.load(open(os.path.join(script_dir, \"ExtractiveSnipp/data/snippetsGenerated.txt\")))\n",
    "data_snippets = json.load(open(os.path.join(script_dir, \"ExtractiveSnipp/data/snippets.txt\")))\n"
   ]
  },
  {
   "cell_type": "code",
   "execution_count": 119,
   "id": "ahead-plaintiff",
   "metadata": {},
   "outputs": [
    {
     "data": {
      "text/plain": [
       "[{'id': 'abortion-01',\n",
       "  'title': 'In the U.S. black women are 3.3 times likely to have an abortion than white women.',\n",
       "  'text': [\"There are about 1.7% of abortion of women's ages from 15-44 each year.\",\n",
       "   'In the U.S. black women are 3.3 times likely to have an abortion than white women.'],\n",
       "  'aspects': {'abortion': 0.5, 'women': 0.5}},\n",
       " {'id': 'abortion-02',\n",
       "  'title': '!',\n",
       "  'text': ['Abortion is MURDER!!!', '!'],\n",
       "  'aspects': {'abortion': 1.0}},\n",
       " {'id': 'abortion-03',\n",
       "  'title': 'Abortion should have never been legal.',\n",
       "  'text': ['Abortion, what does this really mean?',\n",
       "   'Abortion should have never been legal.'],\n",
       "  'aspects': {'abortion': 0.8, 'mother teresa': 0.1, 'women': 0.1}}]"
      ]
     },
     "execution_count": 119,
     "metadata": {},
     "output_type": "execute_result"
    }
   ],
   "source": [
    "generated_snippets[0:3]"
   ]
  },
  {
   "cell_type": "code",
   "execution_count": 120,
   "id": "small-notion",
   "metadata": {},
   "outputs": [
    {
     "data": {
      "text/plain": [
       "100"
      ]
     },
     "execution_count": 120,
     "metadata": {},
     "output_type": "execute_result"
    }
   ],
   "source": [
    "aspect_list=[]\n",
    "for argument in generated_snippets:\n",
    "    aspects= argument['aspects']\n",
    "    aspect_list.append(aspects)\n",
    "    \n",
    "len(aspect_list)"
   ]
  },
  {
   "cell_type": "code",
   "execution_count": 121,
   "id": "suspected-anthony",
   "metadata": {},
   "outputs": [
    {
     "data": {
      "text/plain": [
       "[{'topic': 'Abortion',\n",
       "  'query': 'abortion',\n",
       "  'arg_id': 'abortion-01',\n",
       "  'sentences': ['In 2011 there were about 730,322 abortions reported to the centers for disease control.',\n",
       "   \"There are about 1.7% of abortion of women's ages from 15-44 each year.\",\n",
       "   'Women who already had abortion earlier in there life time have abortion again.',\n",
       "   'At the age of 45 a women will have at least one abortion.',\n",
       "   'By the 12th week of pregnancies 88.7% of women have abortion.',\n",
       "   'In the U.S. black women are 3.3 times likely to have an abortion than white women.'],\n",
       "  'snippet': ['Women who already had abortion earlier in there life time have abortion again.',\n",
       "   'At the age of 45 a women will have at least one abortion.']},\n",
       " {'topic': 'Abortion',\n",
       "  'query': 'abortion',\n",
       "  'arg_id': 'abortion-02',\n",
       "  'sentences': ['Abortion is wrong!',\n",
       "   'Abortion Is gross!',\n",
       "   'Abortion is MURDER!!!!'],\n",
       "  'snippet': ['Abortion is wrong!', 'Abortion is MURDER!!!!']}]"
      ]
     },
     "execution_count": 121,
     "metadata": {},
     "output_type": "execute_result"
    }
   ],
   "source": [
    "data_snippets[0:2]"
   ]
  },
  {
   "cell_type": "code",
   "execution_count": 128,
   "id": "sonic-budget",
   "metadata": {},
   "outputs": [],
   "source": [
    "import pandas as pd\n",
    "data_snippets_df = pd.json_normalize(data_snippets)\n",
    "generated_snippets_df = pd.json_normalize(generated_snippets)\n"
   ]
  },
  {
   "cell_type": "code",
   "execution_count": 129,
   "id": "heated-cursor",
   "metadata": {},
   "outputs": [
    {
     "data": {
      "text/html": [
       "<div>\n",
       "<style scoped>\n",
       "    .dataframe tbody tr th:only-of-type {\n",
       "        vertical-align: middle;\n",
       "    }\n",
       "\n",
       "    .dataframe tbody tr th {\n",
       "        vertical-align: top;\n",
       "    }\n",
       "\n",
       "    .dataframe thead th {\n",
       "        text-align: right;\n",
       "    }\n",
       "</style>\n",
       "<table border=\"1\" class=\"dataframe\">\n",
       "  <thead>\n",
       "    <tr style=\"text-align: right;\">\n",
       "      <th></th>\n",
       "      <th>id</th>\n",
       "      <th>title</th>\n",
       "      <th>text</th>\n",
       "    </tr>\n",
       "  </thead>\n",
       "  <tbody>\n",
       "    <tr>\n",
       "      <th>0</th>\n",
       "      <td>abortion-01</td>\n",
       "      <td>In the U.S. black women are 3.3 times likely t...</td>\n",
       "      <td>[There are about 1.7% of abortion of women's a...</td>\n",
       "    </tr>\n",
       "    <tr>\n",
       "      <th>1</th>\n",
       "      <td>abortion-02</td>\n",
       "      <td>!</td>\n",
       "      <td>[Abortion is MURDER!!!, !]</td>\n",
       "    </tr>\n",
       "    <tr>\n",
       "      <th>2</th>\n",
       "      <td>abortion-03</td>\n",
       "      <td>Abortion should have never been legal.</td>\n",
       "      <td>[Abortion, what does this really mean?, Aborti...</td>\n",
       "    </tr>\n",
       "    <tr>\n",
       "      <th>3</th>\n",
       "      <td>abortion-04</td>\n",
       "      <td>*the fetus is a person because there is no way...</td>\n",
       "      <td>[And the mothers life in danger doesn't always...</td>\n",
       "    </tr>\n",
       "    <tr>\n",
       "      <th>4</th>\n",
       "      <td>abortion-05</td>\n",
       "      <td>References [1] [2]</td>\n",
       "      <td>[Counter-arguments \"Note: My firs round was no...</td>\n",
       "    </tr>\n",
       "  </tbody>\n",
       "</table>\n",
       "</div>"
      ],
      "text/plain": [
       "            id                                              title  \\\n",
       "0  abortion-01  In the U.S. black women are 3.3 times likely t...   \n",
       "1  abortion-02                                                  !   \n",
       "2  abortion-03             Abortion should have never been legal.   \n",
       "3  abortion-04  *the fetus is a person because there is no way...   \n",
       "4  abortion-05                                 References [1] [2]   \n",
       "\n",
       "                                                text  \n",
       "0  [There are about 1.7% of abortion of women's a...  \n",
       "1                         [Abortion is MURDER!!!, !]  \n",
       "2  [Abortion, what does this really mean?, Aborti...  \n",
       "3  [And the mothers life in danger doesn't always...  \n",
       "4  [Counter-arguments \"Note: My firs round was no...  "
      ]
     },
     "execution_count": 129,
     "metadata": {},
     "output_type": "execute_result"
    }
   ],
   "source": [
    "generated_snippets_df=generated_snippets_df=generated_snippets_df.iloc[:,0:3]\n",
    "generated_snippets_df.head()"
   ]
  },
  {
   "cell_type": "code",
   "execution_count": 130,
   "id": "boxed-grace",
   "metadata": {},
   "outputs": [
    {
     "data": {
      "text/html": [
       "<div>\n",
       "<style scoped>\n",
       "    .dataframe tbody tr th:only-of-type {\n",
       "        vertical-align: middle;\n",
       "    }\n",
       "\n",
       "    .dataframe tbody tr th {\n",
       "        vertical-align: top;\n",
       "    }\n",
       "\n",
       "    .dataframe thead th {\n",
       "        text-align: right;\n",
       "    }\n",
       "</style>\n",
       "<table border=\"1\" class=\"dataframe\">\n",
       "  <thead>\n",
       "    <tr style=\"text-align: right;\">\n",
       "      <th></th>\n",
       "      <th>topic</th>\n",
       "      <th>query</th>\n",
       "      <th>arg_id</th>\n",
       "      <th>sentences</th>\n",
       "      <th>snippet</th>\n",
       "    </tr>\n",
       "  </thead>\n",
       "  <tbody>\n",
       "    <tr>\n",
       "      <th>0</th>\n",
       "      <td>Abortion</td>\n",
       "      <td>abortion</td>\n",
       "      <td>abortion-01</td>\n",
       "      <td>[In 2011 there were about 730,322 abortions re...</td>\n",
       "      <td>[Women who already had abortion earlier in the...</td>\n",
       "    </tr>\n",
       "    <tr>\n",
       "      <th>1</th>\n",
       "      <td>Abortion</td>\n",
       "      <td>abortion</td>\n",
       "      <td>abortion-02</td>\n",
       "      <td>[Abortion is wrong!, Abortion Is gross!, Abort...</td>\n",
       "      <td>[Abortion is wrong!, Abortion is MURDER!!!!]</td>\n",
       "    </tr>\n",
       "  </tbody>\n",
       "</table>\n",
       "</div>"
      ],
      "text/plain": [
       "      topic     query       arg_id  \\\n",
       "0  Abortion  abortion  abortion-01   \n",
       "1  Abortion  abortion  abortion-02   \n",
       "\n",
       "                                           sentences  \\\n",
       "0  [In 2011 there were about 730,322 abortions re...   \n",
       "1  [Abortion is wrong!, Abortion Is gross!, Abort...   \n",
       "\n",
       "                                             snippet  \n",
       "0  [Women who already had abortion earlier in the...  \n",
       "1       [Abortion is wrong!, Abortion is MURDER!!!!]  "
      ]
     },
     "execution_count": 130,
     "metadata": {},
     "output_type": "execute_result"
    }
   ],
   "source": [
    "data_snippets_df.head(2)"
   ]
  },
  {
   "cell_type": "code",
   "execution_count": 131,
   "id": "confused-elder",
   "metadata": {},
   "outputs": [
    {
     "data": {
      "text/html": [
       "<div>\n",
       "<style scoped>\n",
       "    .dataframe tbody tr th:only-of-type {\n",
       "        vertical-align: middle;\n",
       "    }\n",
       "\n",
       "    .dataframe tbody tr th {\n",
       "        vertical-align: top;\n",
       "    }\n",
       "\n",
       "    .dataframe thead th {\n",
       "        text-align: right;\n",
       "    }\n",
       "</style>\n",
       "<table border=\"1\" class=\"dataframe\">\n",
       "  <thead>\n",
       "    <tr style=\"text-align: right;\">\n",
       "      <th></th>\n",
       "      <th>id</th>\n",
       "      <th>title</th>\n",
       "      <th>text</th>\n",
       "    </tr>\n",
       "  </thead>\n",
       "  <tbody>\n",
       "    <tr>\n",
       "      <th>0</th>\n",
       "      <td>abortion-01</td>\n",
       "      <td>In the U.S. black women are 3.3 times likely t...</td>\n",
       "      <td>[There are about 1.7% of abortion of women's a...</td>\n",
       "    </tr>\n",
       "    <tr>\n",
       "      <th>1</th>\n",
       "      <td>abortion-02</td>\n",
       "      <td>!</td>\n",
       "      <td>[Abortion is MURDER!!!, !]</td>\n",
       "    </tr>\n",
       "  </tbody>\n",
       "</table>\n",
       "</div>"
      ],
      "text/plain": [
       "            id                                              title  \\\n",
       "0  abortion-01  In the U.S. black women are 3.3 times likely t...   \n",
       "1  abortion-02                                                  !   \n",
       "\n",
       "                                                text  \n",
       "0  [There are about 1.7% of abortion of women's a...  \n",
       "1                         [Abortion is MURDER!!!, !]  "
      ]
     },
     "execution_count": 131,
     "metadata": {},
     "output_type": "execute_result"
    }
   ],
   "source": [
    "generated_snippets_df.head(2)"
   ]
  },
  {
   "cell_type": "code",
   "execution_count": 132,
   "id": "artificial-independence",
   "metadata": {},
   "outputs": [],
   "source": [
    "generated_snippets_df.insert(2,'generated_snippets',data_snippets_df['snippet'])"
   ]
  },
  {
   "cell_type": "code",
   "execution_count": 133,
   "id": "injured-cemetery",
   "metadata": {},
   "outputs": [
    {
     "data": {
      "text/html": [
       "<div>\n",
       "<style scoped>\n",
       "    .dataframe tbody tr th:only-of-type {\n",
       "        vertical-align: middle;\n",
       "    }\n",
       "\n",
       "    .dataframe tbody tr th {\n",
       "        vertical-align: top;\n",
       "    }\n",
       "\n",
       "    .dataframe thead th {\n",
       "        text-align: right;\n",
       "    }\n",
       "</style>\n",
       "<table border=\"1\" class=\"dataframe\">\n",
       "  <thead>\n",
       "    <tr style=\"text-align: right;\">\n",
       "      <th></th>\n",
       "      <th>id</th>\n",
       "      <th>title</th>\n",
       "      <th>generated_snippets</th>\n",
       "      <th>text</th>\n",
       "    </tr>\n",
       "  </thead>\n",
       "  <tbody>\n",
       "    <tr>\n",
       "      <th>0</th>\n",
       "      <td>abortion-01</td>\n",
       "      <td>In the U.S. black women are 3.3 times likely t...</td>\n",
       "      <td>[Women who already had abortion earlier in the...</td>\n",
       "      <td>[There are about 1.7% of abortion of women's a...</td>\n",
       "    </tr>\n",
       "    <tr>\n",
       "      <th>1</th>\n",
       "      <td>abortion-02</td>\n",
       "      <td>!</td>\n",
       "      <td>[Abortion is wrong!, Abortion is MURDER!!!!]</td>\n",
       "      <td>[Abortion is MURDER!!!, !]</td>\n",
       "    </tr>\n",
       "    <tr>\n",
       "      <th>2</th>\n",
       "      <td>abortion-03</td>\n",
       "      <td>Abortion should have never been legal.</td>\n",
       "      <td>[\"The greatest destroyer of peace is abortion ...</td>\n",
       "      <td>[Abortion, what does this really mean?, Aborti...</td>\n",
       "    </tr>\n",
       "    <tr>\n",
       "      <th>3</th>\n",
       "      <td>abortion-04</td>\n",
       "      <td>*the fetus is a person because there is no way...</td>\n",
       "      <td>[Yes the government has the obligation to prot...</td>\n",
       "      <td>[And the mothers life in danger doesn't always...</td>\n",
       "    </tr>\n",
       "    <tr>\n",
       "      <th>4</th>\n",
       "      <td>abortion-05</td>\n",
       "      <td>References [1] [2]</td>\n",
       "      <td>[There is no child death involved in not getti...</td>\n",
       "      <td>[Counter-arguments \"Note: My firs round was no...</td>\n",
       "    </tr>\n",
       "    <tr>\n",
       "      <th>...</th>\n",
       "      <td>...</td>\n",
       "      <td>...</td>\n",
       "      <td>...</td>\n",
       "      <td>...</td>\n",
       "    </tr>\n",
       "    <tr>\n",
       "      <th>95</th>\n",
       "      <td>vegan-06</td>\n",
       "      <td>but instead \"Why not?\"</td>\n",
       "      <td>[My reasons for becoming vegan : 1) Its health...</td>\n",
       "      <td>[by people, I mean people., but instead \"Why n...</td>\n",
       "    </tr>\n",
       "    <tr>\n",
       "      <th>96</th>\n",
       "      <td>vegan-07</td>\n",
       "      <td>Think of all the fluffy animals that will be g...</td>\n",
       "      <td>[Vegan is healthy, saves animals, and the plan...</td>\n",
       "      <td>[Why wouldn't everyone be vegan?, Think of all...</td>\n",
       "    </tr>\n",
       "    <tr>\n",
       "      <th>97</th>\n",
       "      <td>vegan-08</td>\n",
       "      <td>I am also not saying we should force everyone ...</td>\n",
       "      <td>[]</td>\n",
       "      <td>[This does not include primitive tribes., I am...</td>\n",
       "    </tr>\n",
       "    <tr>\n",
       "      <th>98</th>\n",
       "      <td>vegan-09</td>\n",
       "      <td>1 2 3 (conclusion)</td>\n",
       "      <td>[Disease I've used the very best science avail...</td>\n",
       "      <td>[However, I never said these were sources of B...</td>\n",
       "    </tr>\n",
       "    <tr>\n",
       "      <th>99</th>\n",
       "      <td>vegan-10</td>\n",
       "      <td>I hope pro will join the debate once again and...</td>\n",
       "      <td>[Just as it is not good for everybody to join ...</td>\n",
       "      <td>[Con Since pro decided to skip a round of deba...</td>\n",
       "    </tr>\n",
       "  </tbody>\n",
       "</table>\n",
       "<p>100 rows × 4 columns</p>\n",
       "</div>"
      ],
      "text/plain": [
       "             id                                              title  \\\n",
       "0   abortion-01  In the U.S. black women are 3.3 times likely t...   \n",
       "1   abortion-02                                                  !   \n",
       "2   abortion-03             Abortion should have never been legal.   \n",
       "3   abortion-04  *the fetus is a person because there is no way...   \n",
       "4   abortion-05                                 References [1] [2]   \n",
       "..          ...                                                ...   \n",
       "95     vegan-06                             but instead \"Why not?\"   \n",
       "96     vegan-07  Think of all the fluffy animals that will be g...   \n",
       "97     vegan-08  I am also not saying we should force everyone ...   \n",
       "98     vegan-09                                 1 2 3 (conclusion)   \n",
       "99     vegan-10  I hope pro will join the debate once again and...   \n",
       "\n",
       "                                   generated_snippets  \\\n",
       "0   [Women who already had abortion earlier in the...   \n",
       "1        [Abortion is wrong!, Abortion is MURDER!!!!]   \n",
       "2   [\"The greatest destroyer of peace is abortion ...   \n",
       "3   [Yes the government has the obligation to prot...   \n",
       "4   [There is no child death involved in not getti...   \n",
       "..                                                ...   \n",
       "95  [My reasons for becoming vegan : 1) Its health...   \n",
       "96  [Vegan is healthy, saves animals, and the plan...   \n",
       "97                                                 []   \n",
       "98  [Disease I've used the very best science avail...   \n",
       "99  [Just as it is not good for everybody to join ...   \n",
       "\n",
       "                                                 text  \n",
       "0   [There are about 1.7% of abortion of women's a...  \n",
       "1                          [Abortion is MURDER!!!, !]  \n",
       "2   [Abortion, what does this really mean?, Aborti...  \n",
       "3   [And the mothers life in danger doesn't always...  \n",
       "4   [Counter-arguments \"Note: My firs round was no...  \n",
       "..                                                ...  \n",
       "95  [by people, I mean people., but instead \"Why n...  \n",
       "96  [Why wouldn't everyone be vegan?, Think of all...  \n",
       "97  [This does not include primitive tribes., I am...  \n",
       "98  [However, I never said these were sources of B...  \n",
       "99  [Con Since pro decided to skip a round of deba...  \n",
       "\n",
       "[100 rows x 4 columns]"
      ]
     },
     "execution_count": 133,
     "metadata": {},
     "output_type": "execute_result"
    }
   ],
   "source": [
    "generated_snippets_df"
   ]
  },
  {
   "cell_type": "code",
   "execution_count": 135,
   "id": "welcome-shift",
   "metadata": {},
   "outputs": [],
   "source": [
    "   count = 0\n",
    "for index, row in generated_snippets_df.iterrows():\n",
    "                # x= dict object of aspect detected\n",
    "                snippets_detected=row['generated_snippets']\n",
    "                snippets_answer=row['text']\n",
    "                #print(other_args_dict)\n",
    "               \n",
    "             \n",
    "                for x in snippets_answer:\n",
    "                    for y in snippets_detected:\n",
    "                        # print(x)\n",
    "                        # print(y)\n",
    "                        if x==y:\n",
    "                            count= count + 1\n",
    "                            # print('match')"
   ]
  },
  {
   "cell_type": "code",
   "execution_count": 136,
   "id": "innocent-seminar",
   "metadata": {},
   "outputs": [
    {
     "data": {
      "text/plain": [
       "33"
      ]
     },
     "execution_count": 136,
     "metadata": {},
     "output_type": "execute_result"
    }
   ],
   "source": [
    "count"
   ]
  },
  {
   "cell_type": "code",
   "execution_count": null,
   "id": "economic-rates",
   "metadata": {},
   "outputs": [],
   "source": [
    "from collections import OrderedDict\n",
    "argument_similar_ids=[]\n",
    "argument_similar_ids_count=[]\n",
    "\n",
    "for dict_aspects in aspect_list:\n",
    "    print(dict_aspects)\n",
    "    score=0\n",
    "    arg_id_score= dict()\n",
    "    arg_id_list=[]\n",
    "\n",
    "    for index, row in argumentAspectsDataset_df.iterrows():\n",
    "\n",
    "                # x= dict object of aspect detected\n",
    "                other_args_dict= row['dict_weighted_args_dataset_list_re']\n",
    "\n",
    "                for aspect in dict_aspects:\n",
    "                    aspect_word_count=len(aspect.split())\n",
    "                    aspect_weight=dict_aspects[aspect]\n",
    "                    if aspect_weight >= 0.33:\n",
    "\n",
    "\n",
    "                        if aspect in other_args_dict and other_args_dict[aspect] >0.25:\n",
    "                            arg_id=row['index']\n",
    "                            if arg_id in arg_id_score:\n",
    "                                print('match found')\n",
    "                                print(other_args_dict[aspect])\n",
    "                                score=score + other_args_dict[aspect]\n",
    "                                print(score)\n",
    "                                print(arg_id)\n",
    "                                arg_id_score[arg_id]=score\n",
    "                            #other_args_dict[aspect]= round(other_args_dict[aspect],2)\n",
    "                            else:\n",
    "                                \n",
    "                                score=other_args_dict[aspect]\n",
    "                                arg_id_score[arg_id]=score\n",
    "                            \n",
    "    arg_id_score=dict(sorted(arg_id_score.items(), key=lambda item: item[1],reverse=True))\n",
    "    \n",
    "    #print(arg_id_score)\n",
    "    argument_similar_ids.append(arg_id_score)\n",
    "    print(arg_id_score)\n",
    "    \n",
    "    argument_similar_ids_count.append(len(arg_id_score))\n",
    "    print(len(arg_id_score))"
   ]
  },
  {
   "cell_type": "code",
   "execution_count": null,
   "id": "conventional-sucking",
   "metadata": {},
   "outputs": [],
   "source": []
  },
  {
   "cell_type": "code",
   "execution_count": null,
   "id": "demanding-thriller",
   "metadata": {},
   "outputs": [],
   "source": []
  }
 ],
 "metadata": {
  "kernelspec": {
   "display_name": "Python 3",
   "language": "python",
   "name": "python3"
  },
  "language_info": {
   "codemirror_mode": {
    "name": "ipython",
    "version": 3
   },
   "file_extension": ".py",
   "mimetype": "text/x-python",
   "name": "python",
   "nbconvert_exporter": "python",
   "pygments_lexer": "ipython3",
   "version": "3.7.10"
  }
 },
 "nbformat": 4,
 "nbformat_minor": 5
}
