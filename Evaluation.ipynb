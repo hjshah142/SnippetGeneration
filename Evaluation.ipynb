{
 "cells": [
  {
   "cell_type": "code",
   "execution_count": 50,
   "id": "latter-georgia",
   "metadata": {},
   "outputs": [],
   "source": [
    "from pathlib import Path\n",
    "import os\n",
    "import json\n",
    "script_dir = os.path.dirname(Path().absolute())\n",
    "generated_snippets = json.load(open(os.path.join(script_dir, \"ExtractiveSnipp/data/snippetsGenerated.txt\")))\n",
    "data_snippets = json.load(open(os.path.join(script_dir, \"ExtractiveSnipp/data/snippets.txt\")))\n"
   ]
  },
  {
   "cell_type": "code",
   "execution_count": 51,
   "id": "comfortable-talent",
   "metadata": {},
   "outputs": [
    {
     "data": {
      "text/plain": [
       "[{'id': 'abortion-01',\n",
       "  'snippet-title': 'Women who already had abortion earlier in there life time have abortion again.',\n",
       "  'snippets-text': ['Women who already had abortion earlier in there life time have abortion again.',\n",
       "   'By the 12th week of pregnancies 88.7% of women have abortion.'],\n",
       "  'aspects': {'abortion': 0.5, 'women': 0.5},\n",
       "  'sentences': \"In 2011 there were about 730,322 abortions reported to the centers for disease control. There are about 1.7% of abortion of women's ages from 15-44 each year. Women who already had abortion earlier in there life time have abortion again. At the age of 45 a women will have at least one abortion. By the 12th week of pregnancies 88.7% of women have abortion. In the U.S. black women are 3.3 times likely to have an abortion than white women.\"},\n",
       " {'id': 'abortion-02',\n",
       "  'snippet-title': 'Abortion is wrong!',\n",
       "  'snippets-text': ['Abortion is wrong!', 'Abortion is MURDER!!!'],\n",
       "  'aspects': {'abortion': 1.0},\n",
       "  'sentences': 'Abortion is wrong! Abortion Is gross! Abortion is MURDER!!!!'}]"
      ]
     },
     "execution_count": 51,
     "metadata": {},
     "output_type": "execute_result"
    }
   ],
   "source": [
    "generated_snippets[0:2]"
   ]
  },
  {
   "cell_type": "code",
   "execution_count": 52,
   "id": "encouraging-compression",
   "metadata": {},
   "outputs": [
    {
     "data": {
      "text/plain": [
       "77"
      ]
     },
     "execution_count": 52,
     "metadata": {},
     "output_type": "execute_result"
    }
   ],
   "source": [
    "arg_aspects = []\n",
    "for arguments in generated_snippets:\n",
    "    arg_aspects.append(arguments['aspects'])\n",
    "len(arg_aspects)    "
   ]
  },
  {
   "cell_type": "code",
   "execution_count": 53,
   "id": "progressive-sheet",
   "metadata": {},
   "outputs": [
    {
     "data": {
      "text/plain": [
       "77"
      ]
     },
     "execution_count": 53,
     "metadata": {},
     "output_type": "execute_result"
    }
   ],
   "source": [
    "len(generated_snippets)"
   ]
  },
  {
   "cell_type": "code",
   "execution_count": 54,
   "id": "alive-thong",
   "metadata": {},
   "outputs": [
    {
     "data": {
      "text/plain": [
       "100"
      ]
     },
     "execution_count": 54,
     "metadata": {},
     "output_type": "execute_result"
    }
   ],
   "source": [
    "len(data_snippets)"
   ]
  },
  {
   "cell_type": "code",
   "execution_count": 55,
   "id": "confirmed-vegetation",
   "metadata": {},
   "outputs": [
    {
     "data": {
      "text/plain": [
       "list"
      ]
     },
     "execution_count": 55,
     "metadata": {},
     "output_type": "execute_result"
    }
   ],
   "source": [
    "type(data_snippets)"
   ]
  },
  {
   "cell_type": "code",
   "execution_count": 56,
   "id": "chemical-summer",
   "metadata": {},
   "outputs": [
    {
     "name": "stdout",
     "output_type": "stream",
     "text": [
      "77\n"
     ]
    }
   ],
   "source": [
    "count = 0\n",
    "data_snippets_filtered = []\n",
    "for argument in data_snippets:\n",
    "\n",
    "    # print(argument['sentences'])\n",
    "    if len(argument['sentences']) > 2:\n",
    "        data_snippets_filtered.append(argument)\n",
    "        count = count + 1 \n",
    "        \n",
    "        \n",
    "        \n",
    "print(count)"
   ]
  },
  {
   "cell_type": "code",
   "execution_count": 57,
   "id": "forced-depth",
   "metadata": {},
   "outputs": [
    {
     "data": {
      "text/plain": [
       "[{'topic': 'Abortion',\n",
       "  'query': 'abortion',\n",
       "  'arg_id': 'abortion-01',\n",
       "  'sentences': ['In 2011 there were about 730,322 abortions reported to the centers for disease control.',\n",
       "   \"There are about 1.7% of abortion of women's ages from 15-44 each year.\",\n",
       "   'Women who already had abortion earlier in there life time have abortion again.',\n",
       "   'At the age of 45 a women will have at least one abortion.',\n",
       "   'By the 12th week of pregnancies 88.7% of women have abortion.',\n",
       "   'In the U.S. black women are 3.3 times likely to have an abortion than white women.'],\n",
       "  'snippet': ['Women who already had abortion earlier in there life time have abortion again.',\n",
       "   'At the age of 45 a women will have at least one abortion.']},\n",
       " {'topic': 'Abortion',\n",
       "  'query': 'abortion',\n",
       "  'arg_id': 'abortion-02',\n",
       "  'sentences': ['Abortion is wrong!',\n",
       "   'Abortion Is gross!',\n",
       "   'Abortion is MURDER!!!!'],\n",
       "  'snippet': ['Abortion is wrong!', 'Abortion is MURDER!!!!']}]"
      ]
     },
     "execution_count": 57,
     "metadata": {},
     "output_type": "execute_result"
    }
   ],
   "source": [
    "data_snippets[0:2]"
   ]
  },
  {
   "cell_type": "code",
   "execution_count": 58,
   "id": "peaceful-salmon",
   "metadata": {},
   "outputs": [
    {
     "data": {
      "text/plain": [
       "100"
      ]
     },
     "execution_count": 58,
     "metadata": {},
     "output_type": "execute_result"
    }
   ],
   "source": [
    "len(data_snippets)"
   ]
  },
  {
   "cell_type": "code",
   "execution_count": 59,
   "id": "amateur-weekly",
   "metadata": {},
   "outputs": [
    {
     "name": "stdout",
     "output_type": "stream",
     "text": [
      "23\n"
     ]
    }
   ],
   "source": [
    "count = 0\n",
    "for argument in data_snippets:\n",
    "    if len(argument['sentences']) <= 2:\n",
    "        count +=1\n",
    "print(count)      "
   ]
  },
  {
   "cell_type": "code",
   "execution_count": 60,
   "id": "moved-flashing",
   "metadata": {},
   "outputs": [
    {
     "data": {
      "text/plain": [
       "100"
      ]
     },
     "execution_count": 60,
     "metadata": {},
     "output_type": "execute_result"
    }
   ],
   "source": [
    "len(data_snippets)"
   ]
  },
  {
   "cell_type": "code",
   "execution_count": 61,
   "id": "turkish-advertising",
   "metadata": {},
   "outputs": [
    {
     "data": {
      "text/plain": [
       "100"
      ]
     },
     "execution_count": 61,
     "metadata": {},
     "output_type": "execute_result"
    }
   ],
   "source": [
    "len(data_snippets)"
   ]
  },
  {
   "cell_type": "code",
   "execution_count": 62,
   "id": "composite-shape",
   "metadata": {},
   "outputs": [],
   "source": [
    "import pandas as pd\n",
    "data_snippets_df = pd.json_normalize(data_snippets_filtered)\n",
    "generated_snippets_df = pd.json_normalize(generated_snippets)\n"
   ]
  },
  {
   "cell_type": "code",
   "execution_count": 63,
   "id": "changing-matthew",
   "metadata": {},
   "outputs": [
    {
     "data": {
      "text/html": [
       "<div>\n",
       "<style scoped>\n",
       "    .dataframe tbody tr th:only-of-type {\n",
       "        vertical-align: middle;\n",
       "    }\n",
       "\n",
       "    .dataframe tbody tr th {\n",
       "        vertical-align: top;\n",
       "    }\n",
       "\n",
       "    .dataframe thead th {\n",
       "        text-align: right;\n",
       "    }\n",
       "</style>\n",
       "<table border=\"1\" class=\"dataframe\">\n",
       "  <thead>\n",
       "    <tr style=\"text-align: right;\">\n",
       "      <th></th>\n",
       "      <th>id</th>\n",
       "      <th>snippet-title</th>\n",
       "      <th>snippets-text</th>\n",
       "      <th>sentences</th>\n",
       "      <th>aspects.abortion</th>\n",
       "      <th>aspects.women</th>\n",
       "      <th>aspects.mother teresa</th>\n",
       "      <th>aspects.depression</th>\n",
       "      <th>aspects.woman</th>\n",
       "      <th>aspects.controversy</th>\n",
       "      <th>...</th>\n",
       "      <th>aspects.solar power</th>\n",
       "      <th>aspects.soviet union</th>\n",
       "      <th>aspects.black lives matter</th>\n",
       "      <th>aspects.racism</th>\n",
       "      <th>aspects.obesity</th>\n",
       "      <th>aspects.pat buchanan</th>\n",
       "      <th>aspects.veganism</th>\n",
       "      <th>aspects.cancer</th>\n",
       "      <th>aspects.nutrition</th>\n",
       "      <th>aspects.longevity</th>\n",
       "    </tr>\n",
       "  </thead>\n",
       "  <tbody>\n",
       "    <tr>\n",
       "      <th>0</th>\n",
       "      <td>abortion-01</td>\n",
       "      <td>Women who already had abortion earlier in ther...</td>\n",
       "      <td>[Women who already had abortion earlier in the...</td>\n",
       "      <td>In 2011 there were about 730,322 abortions rep...</td>\n",
       "      <td>0.5</td>\n",
       "      <td>0.5</td>\n",
       "      <td>NaN</td>\n",
       "      <td>NaN</td>\n",
       "      <td>NaN</td>\n",
       "      <td>NaN</td>\n",
       "      <td>...</td>\n",
       "      <td>NaN</td>\n",
       "      <td>NaN</td>\n",
       "      <td>NaN</td>\n",
       "      <td>NaN</td>\n",
       "      <td>NaN</td>\n",
       "      <td>NaN</td>\n",
       "      <td>NaN</td>\n",
       "      <td>NaN</td>\n",
       "      <td>NaN</td>\n",
       "      <td>NaN</td>\n",
       "    </tr>\n",
       "    <tr>\n",
       "      <th>1</th>\n",
       "      <td>abortion-02</td>\n",
       "      <td>Abortion is wrong!</td>\n",
       "      <td>[Abortion is wrong!, Abortion is MURDER!!!]</td>\n",
       "      <td>Abortion is wrong! Abortion Is gross! Abortion...</td>\n",
       "      <td>1.0</td>\n",
       "      <td>NaN</td>\n",
       "      <td>NaN</td>\n",
       "      <td>NaN</td>\n",
       "      <td>NaN</td>\n",
       "      <td>NaN</td>\n",
       "      <td>...</td>\n",
       "      <td>NaN</td>\n",
       "      <td>NaN</td>\n",
       "      <td>NaN</td>\n",
       "      <td>NaN</td>\n",
       "      <td>NaN</td>\n",
       "      <td>NaN</td>\n",
       "      <td>NaN</td>\n",
       "      <td>NaN</td>\n",
       "      <td>NaN</td>\n",
       "      <td>NaN</td>\n",
       "    </tr>\n",
       "  </tbody>\n",
       "</table>\n",
       "<p>2 rows × 57 columns</p>\n",
       "</div>"
      ],
      "text/plain": [
       "            id                                      snippet-title  \\\n",
       "0  abortion-01  Women who already had abortion earlier in ther...   \n",
       "1  abortion-02                                 Abortion is wrong!   \n",
       "\n",
       "                                       snippets-text  \\\n",
       "0  [Women who already had abortion earlier in the...   \n",
       "1        [Abortion is wrong!, Abortion is MURDER!!!]   \n",
       "\n",
       "                                           sentences  aspects.abortion  \\\n",
       "0  In 2011 there were about 730,322 abortions rep...               0.5   \n",
       "1  Abortion is wrong! Abortion Is gross! Abortion...               1.0   \n",
       "\n",
       "   aspects.women  aspects.mother teresa  aspects.depression  aspects.woman  \\\n",
       "0            0.5                    NaN                 NaN            NaN   \n",
       "1            NaN                    NaN                 NaN            NaN   \n",
       "\n",
       "   aspects.controversy  ...  aspects.solar power  aspects.soviet union  \\\n",
       "0                  NaN  ...                  NaN                   NaN   \n",
       "1                  NaN  ...                  NaN                   NaN   \n",
       "\n",
       "   aspects.black lives matter  aspects.racism  aspects.obesity  \\\n",
       "0                         NaN             NaN              NaN   \n",
       "1                         NaN             NaN              NaN   \n",
       "\n",
       "   aspects.pat buchanan  aspects.veganism  aspects.cancer  aspects.nutrition  \\\n",
       "0                   NaN               NaN             NaN                NaN   \n",
       "1                   NaN               NaN             NaN                NaN   \n",
       "\n",
       "   aspects.longevity  \n",
       "0                NaN  \n",
       "1                NaN  \n",
       "\n",
       "[2 rows x 57 columns]"
      ]
     },
     "execution_count": 63,
     "metadata": {},
     "output_type": "execute_result"
    }
   ],
   "source": [
    "generated_snippets_df[0:2]"
   ]
  },
  {
   "cell_type": "code",
   "execution_count": 64,
   "id": "bridal-characteristic",
   "metadata": {},
   "outputs": [
    {
     "data": {
      "text/html": [
       "<div>\n",
       "<style scoped>\n",
       "    .dataframe tbody tr th:only-of-type {\n",
       "        vertical-align: middle;\n",
       "    }\n",
       "\n",
       "    .dataframe tbody tr th {\n",
       "        vertical-align: top;\n",
       "    }\n",
       "\n",
       "    .dataframe thead th {\n",
       "        text-align: right;\n",
       "    }\n",
       "</style>\n",
       "<table border=\"1\" class=\"dataframe\">\n",
       "  <thead>\n",
       "    <tr style=\"text-align: right;\">\n",
       "      <th></th>\n",
       "      <th>topic</th>\n",
       "      <th>query</th>\n",
       "      <th>arg_id</th>\n",
       "      <th>sentences</th>\n",
       "      <th>snippet</th>\n",
       "    </tr>\n",
       "  </thead>\n",
       "  <tbody>\n",
       "    <tr>\n",
       "      <th>0</th>\n",
       "      <td>Abortion</td>\n",
       "      <td>abortion</td>\n",
       "      <td>abortion-01</td>\n",
       "      <td>[In 2011 there were about 730,322 abortions re...</td>\n",
       "      <td>[Women who already had abortion earlier in the...</td>\n",
       "    </tr>\n",
       "    <tr>\n",
       "      <th>1</th>\n",
       "      <td>Abortion</td>\n",
       "      <td>abortion</td>\n",
       "      <td>abortion-02</td>\n",
       "      <td>[Abortion is wrong!, Abortion Is gross!, Abort...</td>\n",
       "      <td>[Abortion is wrong!, Abortion is MURDER!!!!]</td>\n",
       "    </tr>\n",
       "    <tr>\n",
       "      <th>2</th>\n",
       "      <td>Abortion</td>\n",
       "      <td>abortion</td>\n",
       "      <td>abortion-03</td>\n",
       "      <td>[\"The greatest destroyer of peace is abortion ...</td>\n",
       "      <td>[\"The greatest destroyer of peace is abortion ...</td>\n",
       "    </tr>\n",
       "    <tr>\n",
       "      <th>3</th>\n",
       "      <td>abortion</td>\n",
       "      <td>abortion</td>\n",
       "      <td>abortion-04</td>\n",
       "      <td>[Yes the government has the obligation to prot...</td>\n",
       "      <td>[Yes the government has the obligation to prot...</td>\n",
       "    </tr>\n",
       "    <tr>\n",
       "      <th>4</th>\n",
       "      <td>Abortion</td>\n",
       "      <td>abortion</td>\n",
       "      <td>abortion-05</td>\n",
       "      <td>[Thank you, Pro., Negative Case A1: False equi...</td>\n",
       "      <td>[There is no child death involved in not getti...</td>\n",
       "    </tr>\n",
       "  </tbody>\n",
       "</table>\n",
       "</div>"
      ],
      "text/plain": [
       "       topic     query       arg_id  \\\n",
       "0   Abortion  abortion  abortion-01   \n",
       "1   Abortion  abortion  abortion-02   \n",
       "2  Abortion   abortion  abortion-03   \n",
       "3   abortion  abortion  abortion-04   \n",
       "4   Abortion  abortion  abortion-05   \n",
       "\n",
       "                                           sentences  \\\n",
       "0  [In 2011 there were about 730,322 abortions re...   \n",
       "1  [Abortion is wrong!, Abortion Is gross!, Abort...   \n",
       "2  [\"The greatest destroyer of peace is abortion ...   \n",
       "3  [Yes the government has the obligation to prot...   \n",
       "4  [Thank you, Pro., Negative Case A1: False equi...   \n",
       "\n",
       "                                             snippet  \n",
       "0  [Women who already had abortion earlier in the...  \n",
       "1       [Abortion is wrong!, Abortion is MURDER!!!!]  \n",
       "2  [\"The greatest destroyer of peace is abortion ...  \n",
       "3  [Yes the government has the obligation to prot...  \n",
       "4  [There is no child death involved in not getti...  "
      ]
     },
     "execution_count": 64,
     "metadata": {},
     "output_type": "execute_result"
    }
   ],
   "source": [
    "data_snippets_df.head()"
   ]
  },
  {
   "cell_type": "code",
   "execution_count": 65,
   "id": "corresponding-apparatus",
   "metadata": {},
   "outputs": [
    {
     "data": {
      "text/plain": [
       "77"
      ]
     },
     "execution_count": 65,
     "metadata": {},
     "output_type": "execute_result"
    }
   ],
   "source": [
    "len(data_snippets_df)"
   ]
  },
  {
   "cell_type": "code",
   "execution_count": 66,
   "id": "digital-northeast",
   "metadata": {},
   "outputs": [
    {
     "data": {
      "text/html": [
       "<div>\n",
       "<style scoped>\n",
       "    .dataframe tbody tr th:only-of-type {\n",
       "        vertical-align: middle;\n",
       "    }\n",
       "\n",
       "    .dataframe tbody tr th {\n",
       "        vertical-align: top;\n",
       "    }\n",
       "\n",
       "    .dataframe thead th {\n",
       "        text-align: right;\n",
       "    }\n",
       "</style>\n",
       "<table border=\"1\" class=\"dataframe\">\n",
       "  <thead>\n",
       "    <tr style=\"text-align: right;\">\n",
       "      <th></th>\n",
       "      <th>id</th>\n",
       "      <th>snippet-title</th>\n",
       "      <th>snippets-text</th>\n",
       "    </tr>\n",
       "  </thead>\n",
       "  <tbody>\n",
       "    <tr>\n",
       "      <th>0</th>\n",
       "      <td>abortion-01</td>\n",
       "      <td>Women who already had abortion earlier in ther...</td>\n",
       "      <td>[Women who already had abortion earlier in the...</td>\n",
       "    </tr>\n",
       "    <tr>\n",
       "      <th>1</th>\n",
       "      <td>abortion-02</td>\n",
       "      <td>Abortion is wrong!</td>\n",
       "      <td>[Abortion is wrong!, Abortion is MURDER!!!]</td>\n",
       "    </tr>\n",
       "    <tr>\n",
       "      <th>2</th>\n",
       "      <td>abortion-03</td>\n",
       "      <td>Abortion is a big controversial topic, people ...</td>\n",
       "      <td>[Abortion is a big controversial topic, people...</td>\n",
       "    </tr>\n",
       "    <tr>\n",
       "      <th>3</th>\n",
       "      <td>abortion-04</td>\n",
       "      <td>And the mothers life in danger doesn't always ...</td>\n",
       "      <td>[And the mothers life in danger doesn't always...</td>\n",
       "    </tr>\n",
       "    <tr>\n",
       "      <th>4</th>\n",
       "      <td>abortion-05</td>\n",
       "      <td>In other words, it would be okay to abort in t...</td>\n",
       "      <td>[In other words, it would be okay to abort in ...</td>\n",
       "    </tr>\n",
       "  </tbody>\n",
       "</table>\n",
       "</div>"
      ],
      "text/plain": [
       "            id                                      snippet-title  \\\n",
       "0  abortion-01  Women who already had abortion earlier in ther...   \n",
       "1  abortion-02                                 Abortion is wrong!   \n",
       "2  abortion-03  Abortion is a big controversial topic, people ...   \n",
       "3  abortion-04  And the mothers life in danger doesn't always ...   \n",
       "4  abortion-05  In other words, it would be okay to abort in t...   \n",
       "\n",
       "                                       snippets-text  \n",
       "0  [Women who already had abortion earlier in the...  \n",
       "1        [Abortion is wrong!, Abortion is MURDER!!!]  \n",
       "2  [Abortion is a big controversial topic, people...  \n",
       "3  [And the mothers life in danger doesn't always...  \n",
       "4  [In other words, it would be okay to abort in ...  "
      ]
     },
     "execution_count": 66,
     "metadata": {},
     "output_type": "execute_result"
    }
   ],
   "source": [
    "generated_snippets_df=generated_snippets_df=generated_snippets_df.iloc[:,0:3]\n",
    "generated_snippets_df.head()"
   ]
  },
  {
   "cell_type": "code",
   "execution_count": null,
   "id": "frank-harrison",
   "metadata": {},
   "outputs": [],
   "source": []
  },
  {
   "cell_type": "code",
   "execution_count": 67,
   "id": "straight-pixel",
   "metadata": {},
   "outputs": [],
   "source": [
    "# snippets_data = data_snippets_df.to_json(orient='records',lines=True)"
   ]
  },
  {
   "cell_type": "code",
   "execution_count": 68,
   "id": "referenced-imaging",
   "metadata": {},
   "outputs": [
    {
     "data": {
      "text/html": [
       "<div>\n",
       "<style scoped>\n",
       "    .dataframe tbody tr th:only-of-type {\n",
       "        vertical-align: middle;\n",
       "    }\n",
       "\n",
       "    .dataframe tbody tr th {\n",
       "        vertical-align: top;\n",
       "    }\n",
       "\n",
       "    .dataframe thead th {\n",
       "        text-align: right;\n",
       "    }\n",
       "</style>\n",
       "<table border=\"1\" class=\"dataframe\">\n",
       "  <thead>\n",
       "    <tr style=\"text-align: right;\">\n",
       "      <th></th>\n",
       "      <th>topic</th>\n",
       "      <th>query</th>\n",
       "      <th>arg_id</th>\n",
       "      <th>sentences</th>\n",
       "      <th>snippet</th>\n",
       "    </tr>\n",
       "  </thead>\n",
       "  <tbody>\n",
       "    <tr>\n",
       "      <th>0</th>\n",
       "      <td>Abortion</td>\n",
       "      <td>abortion</td>\n",
       "      <td>abortion-01</td>\n",
       "      <td>[In 2011 there were about 730,322 abortions re...</td>\n",
       "      <td>[Women who already had abortion earlier in the...</td>\n",
       "    </tr>\n",
       "    <tr>\n",
       "      <th>1</th>\n",
       "      <td>Abortion</td>\n",
       "      <td>abortion</td>\n",
       "      <td>abortion-02</td>\n",
       "      <td>[Abortion is wrong!, Abortion Is gross!, Abort...</td>\n",
       "      <td>[Abortion is wrong!, Abortion is MURDER!!!!]</td>\n",
       "    </tr>\n",
       "  </tbody>\n",
       "</table>\n",
       "</div>"
      ],
      "text/plain": [
       "      topic     query       arg_id  \\\n",
       "0  Abortion  abortion  abortion-01   \n",
       "1  Abortion  abortion  abortion-02   \n",
       "\n",
       "                                           sentences  \\\n",
       "0  [In 2011 there were about 730,322 abortions re...   \n",
       "1  [Abortion is wrong!, Abortion Is gross!, Abort...   \n",
       "\n",
       "                                             snippet  \n",
       "0  [Women who already had abortion earlier in the...  \n",
       "1       [Abortion is wrong!, Abortion is MURDER!!!!]  "
      ]
     },
     "execution_count": 68,
     "metadata": {},
     "output_type": "execute_result"
    }
   ],
   "source": [
    "data_snippets_df.head(2)"
   ]
  },
  {
   "cell_type": "code",
   "execution_count": 69,
   "id": "earned-consideration",
   "metadata": {},
   "outputs": [
    {
     "data": {
      "text/html": [
       "<div>\n",
       "<style scoped>\n",
       "    .dataframe tbody tr th:only-of-type {\n",
       "        vertical-align: middle;\n",
       "    }\n",
       "\n",
       "    .dataframe tbody tr th {\n",
       "        vertical-align: top;\n",
       "    }\n",
       "\n",
       "    .dataframe thead th {\n",
       "        text-align: right;\n",
       "    }\n",
       "</style>\n",
       "<table border=\"1\" class=\"dataframe\">\n",
       "  <thead>\n",
       "    <tr style=\"text-align: right;\">\n",
       "      <th></th>\n",
       "      <th>id</th>\n",
       "      <th>snippet-title</th>\n",
       "      <th>snippets-text</th>\n",
       "    </tr>\n",
       "  </thead>\n",
       "  <tbody>\n",
       "    <tr>\n",
       "      <th>0</th>\n",
       "      <td>abortion-01</td>\n",
       "      <td>Women who already had abortion earlier in ther...</td>\n",
       "      <td>[Women who already had abortion earlier in the...</td>\n",
       "    </tr>\n",
       "    <tr>\n",
       "      <th>1</th>\n",
       "      <td>abortion-02</td>\n",
       "      <td>Abortion is wrong!</td>\n",
       "      <td>[Abortion is wrong!, Abortion is MURDER!!!]</td>\n",
       "    </tr>\n",
       "  </tbody>\n",
       "</table>\n",
       "</div>"
      ],
      "text/plain": [
       "            id                                      snippet-title  \\\n",
       "0  abortion-01  Women who already had abortion earlier in ther...   \n",
       "1  abortion-02                                 Abortion is wrong!   \n",
       "\n",
       "                                       snippets-text  \n",
       "0  [Women who already had abortion earlier in the...  \n",
       "1        [Abortion is wrong!, Abortion is MURDER!!!]  "
      ]
     },
     "execution_count": 69,
     "metadata": {},
     "output_type": "execute_result"
    }
   ],
   "source": [
    "generated_snippets_df.head(2)"
   ]
  },
  {
   "cell_type": "code",
   "execution_count": 70,
   "id": "declared-insulin",
   "metadata": {},
   "outputs": [],
   "source": [
    "generated_snippets_df.insert(2,'generated_snippets',data_snippets_df['snippet'])"
   ]
  },
  {
   "cell_type": "code",
   "execution_count": 71,
   "id": "tracked-snapshot",
   "metadata": {},
   "outputs": [
    {
     "data": {
      "text/html": [
       "<div>\n",
       "<style scoped>\n",
       "    .dataframe tbody tr th:only-of-type {\n",
       "        vertical-align: middle;\n",
       "    }\n",
       "\n",
       "    .dataframe tbody tr th {\n",
       "        vertical-align: top;\n",
       "    }\n",
       "\n",
       "    .dataframe thead th {\n",
       "        text-align: right;\n",
       "    }\n",
       "</style>\n",
       "<table border=\"1\" class=\"dataframe\">\n",
       "  <thead>\n",
       "    <tr style=\"text-align: right;\">\n",
       "      <th></th>\n",
       "      <th>id</th>\n",
       "      <th>snippet-title</th>\n",
       "      <th>generated_snippets</th>\n",
       "      <th>snippets-text</th>\n",
       "    </tr>\n",
       "  </thead>\n",
       "  <tbody>\n",
       "    <tr>\n",
       "      <th>0</th>\n",
       "      <td>abortion-01</td>\n",
       "      <td>Women who already had abortion earlier in ther...</td>\n",
       "      <td>[Women who already had abortion earlier in the...</td>\n",
       "      <td>[Women who already had abortion earlier in the...</td>\n",
       "    </tr>\n",
       "    <tr>\n",
       "      <th>1</th>\n",
       "      <td>abortion-02</td>\n",
       "      <td>Abortion is wrong!</td>\n",
       "      <td>[Abortion is wrong!, Abortion is MURDER!!!!]</td>\n",
       "      <td>[Abortion is wrong!, Abortion is MURDER!!!]</td>\n",
       "    </tr>\n",
       "  </tbody>\n",
       "</table>\n",
       "</div>"
      ],
      "text/plain": [
       "            id                                      snippet-title  \\\n",
       "0  abortion-01  Women who already had abortion earlier in ther...   \n",
       "1  abortion-02                                 Abortion is wrong!   \n",
       "\n",
       "                                  generated_snippets  \\\n",
       "0  [Women who already had abortion earlier in the...   \n",
       "1       [Abortion is wrong!, Abortion is MURDER!!!!]   \n",
       "\n",
       "                                       snippets-text  \n",
       "0  [Women who already had abortion earlier in the...  \n",
       "1        [Abortion is wrong!, Abortion is MURDER!!!]  "
      ]
     },
     "execution_count": 71,
     "metadata": {},
     "output_type": "execute_result"
    }
   ],
   "source": [
    "generated_snippets_df.head(2)"
   ]
  },
  {
   "cell_type": "code",
   "execution_count": 72,
   "id": "hydraulic-ballot",
   "metadata": {},
   "outputs": [],
   "source": [
    "count = 0\n",
    "for index, row in generated_snippets_df.iterrows():\n",
    "                # x= dict object of aspect detected\n",
    "                snippets_detected=row['generated_snippets']\n",
    "                snippets_answer=row['snippets-text']\n",
    "                #print(other_args_dict)\n",
    "                for x in snippets_answer:\n",
    "                    for y in snippets_detected:\n",
    "                        #print(x)\n",
    "                        #print(y)\n",
    "                        #print(\"-------------\")\n",
    "                        if x==y:\n",
    "                            count= count + 1\n",
    "                            #print('match')"
   ]
  },
  {
   "cell_type": "code",
   "execution_count": 73,
   "id": "comprehensive-champagne",
   "metadata": {},
   "outputs": [
    {
     "data": {
      "text/plain": [
       "63"
      ]
     },
     "execution_count": 73,
     "metadata": {},
     "output_type": "execute_result"
    }
   ],
   "source": [
    "count"
   ]
  },
  {
   "cell_type": "code",
   "execution_count": 74,
   "id": "hollow-greensboro",
   "metadata": {},
   "outputs": [
    {
     "data": {
      "text/plain": [
       "40.90909090909091"
      ]
     },
     "execution_count": 74,
     "metadata": {},
     "output_type": "execute_result"
    }
   ],
   "source": [
    "accuracy =(100.0 * count)/ ( 2 * len(generated_snippets))\n",
    "accuracy"
   ]
  },
  {
   "cell_type": "code",
   "execution_count": 541,
   "id": "critical-shepherd",
   "metadata": {},
   "outputs": [],
   "source": [
    "#import pickle5 as pickle\n",
    "#with open(\"data/argumentAspectsDataset_df_re.pkl\", \"rb\") as fh:\n",
    "  #Arguments_df = pickle.load(fh)"
   ]
  },
  {
   "cell_type": "code",
   "execution_count": 542,
   "id": "logical-former",
   "metadata": {},
   "outputs": [
    {
     "data": {
      "text/html": [
       "<div>\n",
       "<style scoped>\n",
       "    .dataframe tbody tr th:only-of-type {\n",
       "        vertical-align: middle;\n",
       "    }\n",
       "\n",
       "    .dataframe tbody tr th {\n",
       "        vertical-align: top;\n",
       "    }\n",
       "\n",
       "    .dataframe thead th {\n",
       "        text-align: right;\n",
       "    }\n",
       "</style>\n",
       "<table border=\"1\" class=\"dataframe\">\n",
       "  <thead>\n",
       "    <tr style=\"text-align: right;\">\n",
       "      <th></th>\n",
       "      <th>id</th>\n",
       "      <th>text</th>\n",
       "      <th>stance</th>\n",
       "      <th>context.aspects</th>\n",
       "      <th>conclusion</th>\n",
       "      <th>re_aspects_list</th>\n",
       "      <th>dict_weighted_args_dataset_list_re</th>\n",
       "      <th>arg_id</th>\n",
       "    </tr>\n",
       "  </thead>\n",
       "  <tbody>\n",
       "    <tr>\n",
       "      <th>0</th>\n",
       "      <td>S96f2396e-Acb88a01b</td>\n",
       "      <td>A 2010 letter from US senators to president Ob...</td>\n",
       "      <td>PRO</td>\n",
       "      <td>[{'name': 'NATO', 'weight': 1.0, 'normalizedWe...</td>\n",
       "      <td>US and others have securely gone w/o mines for...</td>\n",
       "      <td>{'nato': 1}</td>\n",
       "      <td>{'nato': 1.0}</td>\n",
       "      <td>0</td>\n",
       "    </tr>\n",
       "    <tr>\n",
       "      <th>1</th>\n",
       "      <td>S96f2396e-Aa5e37f4a</td>\n",
       "      <td>\"U.S. Use of Landmines in Korea: Myths and Rea...</td>\n",
       "      <td>PRO</td>\n",
       "      <td>[{'name': 'Korean War', 'weight': 1.0, 'normal...</td>\n",
       "      <td>Landmines in N. Korea are a threat to civilians</td>\n",
       "      <td>{'korean war': 1}</td>\n",
       "      <td>{'korean war': 1.0}</td>\n",
       "      <td>1</td>\n",
       "    </tr>\n",
       "  </tbody>\n",
       "</table>\n",
       "</div>"
      ],
      "text/plain": [
       "                    id                                               text  \\\n",
       "0  S96f2396e-Acb88a01b  A 2010 letter from US senators to president Ob...   \n",
       "1  S96f2396e-Aa5e37f4a  \"U.S. Use of Landmines in Korea: Myths and Rea...   \n",
       "\n",
       "  stance                                    context.aspects  \\\n",
       "0    PRO  [{'name': 'NATO', 'weight': 1.0, 'normalizedWe...   \n",
       "1    PRO  [{'name': 'Korean War', 'weight': 1.0, 'normal...   \n",
       "\n",
       "                                          conclusion    re_aspects_list  \\\n",
       "0  US and others have securely gone w/o mines for...        {'nato': 1}   \n",
       "1    Landmines in N. Korea are a threat to civilians  {'korean war': 1}   \n",
       "\n",
       "  dict_weighted_args_dataset_list_re  arg_id  \n",
       "0                      {'nato': 1.0}       0  \n",
       "1                {'korean war': 1.0}       1  "
      ]
     },
     "execution_count": 542,
     "metadata": {},
     "output_type": "execute_result"
    }
   ],
   "source": [
    "import pandas as pd \n",
    "Arguments_df = pd.read_pickle('data/ArgumentsDatasets.pkl')\n",
    "Arguments_df.head(2)"
   ]
  },
  {
   "cell_type": "code",
   "execution_count": 124,
   "id": "declared-external",
   "metadata": {},
   "outputs": [
    {
     "data": {
      "text/plain": [
       "19957"
      ]
     },
     "execution_count": 124,
     "metadata": {},
     "output_type": "execute_result"
    }
   ],
   "source": [
    "Arguments_df['arg_id'].nunique()"
   ]
  },
  {
   "cell_type": "code",
   "execution_count": 125,
   "id": "changing-bermuda",
   "metadata": {},
   "outputs": [
    {
     "data": {
      "text/plain": [
       "dict"
      ]
     },
     "execution_count": 125,
     "metadata": {},
     "output_type": "execute_result"
    }
   ],
   "source": [
    "arguments_datasets_aspects = Arguments_df['dict_weighted_args_dataset_list_re']\n",
    "type(arguments_datasets_aspects[0])"
   ]
  },
  {
   "cell_type": "code",
   "execution_count": 127,
   "id": "flying-discipline",
   "metadata": {},
   "outputs": [
    {
     "name": "stdout",
     "output_type": "stream",
     "text": [
      "{'abortion': 0.5, 'women': 0.5}\n",
      "1606\n",
      "{'abortion': 1.0}\n",
      "393\n",
      "{'abortion': 0.8, 'mother teresa': 0.1, 'women': 0.1}\n",
      "393\n",
      "{'abortion': 0.7142857142857143, 'depression': 0.07142857142857142, 'woman': 0.07142857142857142, 'women': 0.14285714285714285}\n",
      "393\n",
      "{'abortion': 1.0}\n",
      "393\n",
      "{'abortion': 0.8461538461538461, 'controversy': 0.038461538461538464, 'women': 0.11538461538461539}\n",
      "393\n",
      "{'abortion': 0.8333333333333334, 'women': 0.16666666666666666}\n",
      "393\n",
      "{'abortion': 1.0}\n",
      "393\n",
      "{'abortion': 0.5384615384615384, 'women': 0.46153846153846156}\n",
      "1606\n",
      "{'abortion': 0.8529411764705882, 'depression': 0.029411764705882353, 'rape': 0.029411764705882353, 'woman': 0.058823529411764705, 'women': 0.029411764705882353}\n",
      "393\n",
      "{'european union': 0.125, 'ireland': 0.25, 'japan': 0.125, 'nato': 0.125, 'northern ireland': 0.125, 'spain': 0.125, 'world war ii': 0.125}\n",
      "0\n",
      "{'political correctness': 1.0}\n",
      "18\n",
      "{'free trade': 1.0}\n",
      "294\n",
      "{}\n",
      "0\n",
      "{}\n",
      "0\n",
      "{'european union': 0.8, 'tax': 0.2}\n",
      "451\n",
      "{}\n",
      "0\n",
      "{}\n",
      "0\n",
      "{}\n",
      "0\n",
      "{}\n",
      "0\n",
      "{}\n",
      "0\n",
      "{'global warming': 1.0}\n",
      "352\n",
      "{'pornography': 1.0}\n",
      "141\n",
      "{}\n",
      "0\n",
      "{'al gore': 0.3333333333333333, 'ms': 0.3333333333333333, 'race': 0.3333333333333333}\n",
      "322\n",
      "{}\n",
      "0\n",
      "{'capital punishment': 1.0}\n",
      "159\n",
      "{'capital punishment': 1.0}\n",
      "159\n",
      "{}\n",
      "0\n",
      "{}\n",
      "0\n",
      "{'gun control': 0.5, 'louisiana': 0.5}\n",
      "49\n",
      "{'tax': 1.0}\n",
      "1363\n",
      "{}\n",
      "0\n",
      "{}\n",
      "0\n",
      "{'donald trump': 0.75, 'republican party': 0.25}\n",
      "6\n",
      "{'donald trump': 1.0}\n",
      "6\n",
      "{'donald trump': 0.47619047619047616, 'ku klux klan': 0.047619047619047616, 'mexico': 0.23809523809523808, 'tax': 0.047619047619047616, 'women': 0.19047619047619047}\n",
      "6\n",
      "{'donald trump': 1.0}\n",
      "6\n",
      "{'donald trump': 1.0}\n",
      "6\n",
      "{'donald trump': 1.0}\n",
      "6\n",
      "{'donald trump': 0.6, 'william shakespeare': 0.2, 'women': 0.2}\n",
      "6\n",
      "{'donald trump': 0.8, 'god': 0.2}\n",
      "6\n",
      "{'donald trump': 1.0}\n",
      "6\n",
      "{'cult': 0.03125, 'donald trump': 0.65625, 'drugs': 0.0625, 'islam': 0.09375, 'mexico': 0.03125, 'race': 0.03125, 'rape': 0.09375}\n",
      "6\n",
      "{'feminism': 0.5, 'women': 0.5}\n",
      "1299\n",
      "{'feminism': 0.42857142857142855, 'woman': 0.14285714285714285, 'women': 0.42857142857142855}\n",
      "1299\n",
      "{'feminism': 1.0}\n",
      "29\n",
      "{'feminism': 0.42857142857142855, 'gender': 0.14285714285714285, 'women': 0.42857142857142855}\n",
      "1299\n",
      "{'feminism': 0.5, 'rape': 0.25, 'women': 0.25}\n",
      "29\n",
      "{'feminism': 0.5833333333333334, 'gender': 0.16666666666666666, 'homosexuality': 0.08333333333333333, 'woman': 0.08333333333333333, 'women': 0.08333333333333333}\n",
      "29\n",
      "{'feminism': 0.75, 'women': 0.25}\n",
      "29\n",
      "{'feminism': 1.0}\n",
      "29\n",
      "{'feminism': 0.32, 'gender': 0.04, 'rape': 0.44, 'women': 0.2}\n",
      "121\n",
      "{'google': 1.0}\n",
      "242\n",
      "{'google': 1.0}\n",
      "242\n",
      "{'google': 1.0}\n",
      "242\n",
      "{'google': 1.0}\n",
      "242\n",
      "{'google': 0.875, 'youtube': 0.125}\n",
      "242\n",
      "{'google': 0.9285714285714286, 'youtube': 0.07142857142857142}\n",
      "242\n",
      "{'google': 1.0}\n",
      "242\n",
      "{'google': 1.0}\n",
      "242\n",
      "{'chernobyl': 0.13333333333333333, 'fossil fuels': 0.13333333333333333, 'global warming': 0.06666666666666667, 'japan': 0.13333333333333333, 'nuclear power': 0.2, 'recycling': 0.06666666666666667, 'solar power': 0.13333333333333333, 'soviet union': 0.13333333333333333}\n",
      "0\n",
      "{}\n",
      "0\n",
      "{'nuclear power': 1.0}\n",
      "197\n",
      "{}\n",
      "0\n",
      "{'black lives matter': 0.16666666666666666, 'donald trump': 0.16666666666666666, 'racism': 0.6666666666666666}\n",
      "109\n",
      "{'god': 0.16666666666666666, 'japan': 0.16666666666666666, 'mexico': 0.5, 'obesity': 0.16666666666666666}\n",
      "238\n",
      "{'mexico': 0.3333333333333333, 'pat buchanan': 0.16666666666666666, 'racism': 0.5}\n",
      "345\n",
      "{'donald trump': 0.3333333333333333, 'mexico': 0.6666666666666666}\n",
      "244\n",
      "{'god': 0.125, 'veganism': 0.875}\n",
      "1\n",
      "{'cancer': 0.5, 'controversy': 0.125, 'nutrition': 0.25, 'obesity': 0.125}\n",
      "137\n",
      "{'cancer': 0.5, 'controversy': 0.125, 'nutrition': 0.25, 'obesity': 0.125}\n",
      "137\n",
      "{}\n",
      "0\n",
      "{'god': 0.3333333333333333, 'veganism': 0.6666666666666666}\n",
      "518\n",
      "{}\n",
      "0\n",
      "{'cancer': 0.3333333333333333, 'longevity': 0.3333333333333333, 'nutrition': 0.2222222222222222, 'obesity': 0.1111111111111111}\n",
      "149\n",
      "{'veganism': 1.0}\n",
      "1\n"
     ]
    }
   ],
   "source": [
    "# from collections import OrderedDict\n",
    "argument_similar_ids=[]\n",
    "argument_similar_ids_count=[]\n",
    "\n",
    "for dict_aspects in arg_aspects:\n",
    "    print(dict_aspects)\n",
    "    score=0\n",
    "    arg_id_score= dict()\n",
    "    arg_id_list=[]\n",
    "\n",
    "\n",
    "\n",
    "    for aspect in dict_aspects:\n",
    "        aspect_word_count=len(aspect.split())\n",
    "        aspect_weight=dict_aspects[aspect]\n",
    "        if aspect_weight >= 0.33:\n",
    "            \n",
    "            for index, row in Arguments_df.iterrows():\n",
    "                    # x= dict object of aspect detected\n",
    "                    other_args_dict= row['dict_weighted_args_dataset_list_re']\n",
    "\n",
    "                    if aspect in other_args_dict and other_args_dict[aspect] >0.25:\n",
    "                        arg_id=row['arg_id']\n",
    "                        if arg_id in arg_id_score:\n",
    "                            # print('match found')\n",
    "                            # print(other_args_dict[aspect])\n",
    "                        \n",
    "                            # print(score)\n",
    "                            # print(arg_id)\n",
    "                            arg_id_score[arg_id]= score + other_args_dict[aspect]\n",
    "                        #other_args_dict[aspect]= round(other_args_dict[aspect],2)\n",
    "                        else:\n",
    "\n",
    "                            score=other_args_dict[aspect]\n",
    "                            arg_id_score[arg_id]=score\n",
    "                            \n",
    "    arg_id_score=dict(sorted(arg_id_score.items(), key=lambda item: item[1],reverse=True))\n",
    "    \n",
    "    #print(arg_id_score)\n",
    "    argument_similar_ids.append(arg_id_score)\n",
    "    #print(arg_id_score)\n",
    "    \n",
    "    argument_similar_ids_count.append(len(arg_id_score))\n",
    "    print(len(arg_id_score))"
   ]
  },
  {
   "cell_type": "code",
   "execution_count": 128,
   "id": "frozen-thunder",
   "metadata": {},
   "outputs": [
    {
     "name": "stdout",
     "output_type": "stream",
     "text": [
      "[1606, 393, 393, 393, 393, 393, 393, 393, 1606, 393, 0, 18, 294, 0, 0, 451, 0, 0, 0, 0, 0, 352, 141, 0, 322, 0, 159, 159, 0, 0, 49, 1363, 0, 0, 6, 6, 6, 6, 6, 6, 6, 6, 6, 6, 1299, 1299, 29, 1299, 29, 29, 29, 29, 121, 242, 242, 242, 242, 242, 242, 242, 242, 0, 0, 197, 0, 109, 238, 345, 244, 1, 137, 137, 0, 518, 0, 149, 1]\n"
     ]
    }
   ],
   "source": [
    "print(argument_similar_ids_count)"
   ]
  },
  {
   "cell_type": "code",
   "execution_count": 129,
   "id": "respiratory-moldova",
   "metadata": {},
   "outputs": [
    {
     "data": {
      "text/plain": [
       "'!\"#$%&\\'()*+,-./:;<=>?@[\\\\]^_`{|}~'"
      ]
     },
     "execution_count": 129,
     "metadata": {},
     "output_type": "execute_result"
    }
   ],
   "source": [
    "import string\n",
    "string.punctuation"
   ]
  },
  {
   "cell_type": "code",
   "execution_count": 130,
   "id": "fitting-editor",
   "metadata": {},
   "outputs": [
    {
     "data": {
      "text/plain": [
       "1081"
      ]
     },
     "execution_count": 130,
     "metadata": {},
     "output_type": "execute_result"
    }
   ],
   "source": [
    "f = open(\"data\\WikiAspects.txt\", encoding='utf8')\n",
    "aspect_list = f.read().lower().split('\\n')\n",
    "len(aspect_list)"
   ]
  },
  {
   "cell_type": "code",
   "execution_count": 131,
   "id": "after-practice",
   "metadata": {},
   "outputs": [
    {
     "data": {
      "text/plain": [
       "77"
      ]
     },
     "execution_count": 131,
     "metadata": {},
     "output_type": "execute_result"
    }
   ],
   "source": [
    "len(argument_similar_ids)"
   ]
  },
  {
   "cell_type": "code",
   "execution_count": 132,
   "id": "previous-skill",
   "metadata": {},
   "outputs": [
    {
     "data": {
      "text/plain": [
       "1606"
      ]
     },
     "execution_count": 132,
     "metadata": {},
     "output_type": "execute_result"
    }
   ],
   "source": [
    "len(argument_similar_ids[0])"
   ]
  },
  {
   "cell_type": "code",
   "execution_count": 133,
   "id": "framed-slovenia",
   "metadata": {},
   "outputs": [],
   "source": [
    "ArgumentativeText_args_list =[]\n",
    "for argument_similar_ids_dict in argument_similar_ids:\n",
    "    #print(len(argument_similar_ids_list))\n",
    "    # take first 50 arguments\n",
    "    argument_similar_ids_list = list(argument_similar_ids_dict.keys())\n",
    "    if len(argument_similar_ids_list) <= 50: \n",
    "        argument_similar_ids_top = argument_similar_ids_list\n",
    "    else:\n",
    "        argument_similar_ids_top = argument_similar_ids_list[:50]  \n",
    "        # print(type(argument_similar_ids_top)) \n",
    "    # print(len(argument_similar_ids_top))\n",
    "    ArgumentativeText_args = []\n",
    "    for argument_similar_id in argument_similar_ids_top:\n",
    "        # print(argument_similar_id)\n",
    "        ArgumentativeText = Arguments_df['text'][argument_similar_id] + Arguments_df['conclusion'][argument_similar_id]\n",
    "        ArgumentativeText_args.append(ArgumentativeText)\n",
    "    ArgumentativeText_args_list.append(ArgumentativeText_args)\n"
   ]
  },
  {
   "cell_type": "code",
   "execution_count": 134,
   "id": "spanish-illustration",
   "metadata": {},
   "outputs": [
    {
     "data": {
      "text/plain": [
       "77"
      ]
     },
     "execution_count": 134,
     "metadata": {},
     "output_type": "execute_result"
    }
   ],
   "source": [
    "len(ArgumentativeText_args_list)"
   ]
  },
  {
   "cell_type": "code",
   "execution_count": 135,
   "id": "angry-music",
   "metadata": {},
   "outputs": [
    {
     "data": {
      "text/plain": [
       "[\"As evolved human beings it is our moral duty to inflict as little pain as possible for our survival. So if we do not need to inflict pain to animals in order to survive, we should not do it. Farm animals such as chickens, pigs, sheep, and cows are sentient living beings like us - they are our evolutionary cousins and like us they can feel pleasure and pain. The 18th\\xa0century utilitarian philosopher Jeremy Bentham even believed that animal suffering was just as serious as human suffering and likened the idea of human superiority to racism. \\xa0It is wrong to farm and kill these animals for food when we do not need to do so. The methods of farming and slaughter of these animals are often barbaric and cruel - even on supposedly 'free range' farms.[1]\\xa0Ten billion animals were slaughtered for human consumption each year, stated PETA. And unlike the farms long time ago, where animals roamed freely, today, most animals are factory farmed: \\x97crammed into cages where they can barely move and fed a diet adulterated with pesticides and antibiotics. These animals spend their entire lives in their “prisoner cells” so small that they can't even turn around. Many suffer serious health problems and even death because they are selectively bred to grow or produce milk or eggs at a far greater rate than their bodies are capable of coping with. At the slaughterhouse, there were millions of others who are killed every year for food. Further on Tom Regan explains that all duties regarding animals are indirect duties to one another from a philosophical point of view. He illustrates it with an analogy regarding children: “Children, for example, are unable to sign contracts and lack rights. But they are protected by the moral contract nonetheless because of the sentimental interests of others. So we have, then, duties involving these children, duties regarding them, but no duties to them. Our duties in their case are indirect duties to other human beings, usually their parents.”[2]\\xa0With this he supports the theory that animals must be protected from suffering, as it is moral to protect any living being from suffering, not because we have a moral contract with them, but mainly due to respect of life and recognition of suffering itself.\\xa0\\xa0\\xa0 [1]\\xa0Claire Suddath, A brief history of Veganism, Time, 30 October 2008 [2]\\xa0Tom Regan, The case for animal rights, 1989It is immoral to kill animals\"]"
      ]
     },
     "execution_count": 135,
     "metadata": {},
     "output_type": "execute_result"
    }
   ],
   "source": [
    "ArgumentativeText_args_list[-1]"
   ]
  },
  {
   "cell_type": "code",
   "execution_count": 136,
   "id": "dutch-quantum",
   "metadata": {},
   "outputs": [
    {
     "data": {
      "text/plain": [
       "'Very thin models need to be protected by the state from themselves. Many models are too young to be...'"
      ]
     },
     "execution_count": 136,
     "metadata": {},
     "output_type": "execute_result"
    }
   ],
   "source": [
    " Arguments_df['conclusion'][10939]"
   ]
  },
  {
   "cell_type": "code",
   "execution_count": 137,
   "id": "pregnant-vintage",
   "metadata": {},
   "outputs": [
    {
     "data": {
      "text/plain": [
       "'Very thin models need to be protected by the state from themselves. Many models are too young to be...We should not pass rules and laws against thin models working. They are grown women who are capable of making their own decisions about their bodies and their careers. For many of them modelling has been a dream they have followed for many years – just like gymnasts, bodybuilders or actresses. Should we punish anyone who is single-minded in pursuing their ambitions, just because we disapprove of them? And any attack on women’s right of control over their own bodies risks removing their right to choose in other areas, such as abortion.'"
      ]
     },
     "execution_count": 137,
     "metadata": {},
     "output_type": "execute_result"
    }
   ],
   "source": [
    "Arguments_df['conclusion'][10939] + Arguments_df['text'][10939] "
   ]
  }
 ],
 "metadata": {
  "kernelspec": {
   "display_name": "Python 3",
   "language": "python",
   "name": "python3"
  },
  "language_info": {
   "codemirror_mode": {
    "name": "ipython",
    "version": 3
   },
   "file_extension": ".py",
   "mimetype": "text/x-python",
   "name": "python",
   "nbconvert_exporter": "python",
   "pygments_lexer": "ipython3",
   "version": "3.7.10"
  }
 },
 "nbformat": 4,
 "nbformat_minor": 5
}
