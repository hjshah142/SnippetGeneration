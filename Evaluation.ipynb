{
 "cells": [
  {
   "cell_type": "code",
   "execution_count": 1,
   "id": "yellow-filling",
   "metadata": {},
   "outputs": [],
   "source": [
    "from pathlib import Path\n",
    "import os\n",
    "import json\n",
    "script_dir = os.path.dirname(Path().absolute())\n",
    "generated_snippets = json.load(open(os.path.join(script_dir, \"ExtractiveSnipp/data/snippetsGenerated.txt\")))\n",
    "data_snippets = json.load(open(os.path.join(script_dir, \"ExtractiveSnipp/data/snippets.txt\")))\n"
   ]
  },
  {
   "cell_type": "code",
   "execution_count": 2,
   "id": "separated-eleven",
   "metadata": {},
   "outputs": [
    {
     "data": {
      "text/plain": "[{'id': 'abortion-01',\n  'snippet-title': 'In the U.S. black women are 3.3 times likely to have an abortion than white women.',\n  'snippets-text': ['Women who already had abortion earlier in there life time have abortion again.',\n   'In the U.S. black women are 3.3 times likely to have an abortion than white women.'],\n  'aspects': {'abortion': 0.5, 'women': 0.5},\n  'sentences': \"In 2011 there were about 730,322 abortions reported to the centers for disease control. There are about 1.7% of abortion of women's ages from 15-44 each year. Women who already had abortion earlier in there life time have abortion again. At the age of 45 a women will have at least one abortion. By the 12th week of pregnancies 88.7% of women have abortion. In the U.S. black women are 3.3 times likely to have an abortion than white women.\"},\n {'id': 'abortion-02',\n  'snippet-title': 'Abortion is wrong!',\n  'snippets-text': ['Abortion is wrong!', 'Abortion Is gross!'],\n  'aspects': {'abortion': 1.0},\n  'sentences': 'Abortion is wrong! Abortion Is gross! Abortion is MURDER!!!!'},\n {'id': 'abortion-03',\n  'snippet-title': 'Why would someone want to kill an innocent little life?',\n  'snippets-text': ['\"The greatest destroyer of peace is abortion because if a mother can kill her own child, what is left for me to kill you and you to kill me?',\n   'Why would someone want to kill an innocent little life?'],\n  'aspects': {'abortion': 0.8, 'mother teresa': 0.1, 'women': 0.1},\n  'sentences': '\"The greatest destroyer of peace is abortion because if a mother can kill her own child, what is left for me to kill you and you to kill me? There is nothing between,\" says Mother Teresa. Abortion, what does this really mean? The definition of abortion is the deliberate termination of a human pregnancy, most often performed during the first 28 weeks. About 42 million women in the entire world with unintended pregnancies choose abortion. Abortion is a big controversial topic, people believe abortion should be illegal and others think it should stay legal. Why would someone want to kill an innocent little life? It\"s not their fault people made mistakes and now they\"re the ones having to pay for it. Abortion should be illegal because abortions are not safe, laws are protecting unborn babies, and fetuses can feel pain. Abortion should have never been legal.'}]"
     },
     "execution_count": 2,
     "metadata": {},
     "output_type": "execute_result"
    }
   ],
   "source": [
    "generated_snippets[0:3]"
   ]
  },
  {
   "cell_type": "code",
   "execution_count": 3,
   "id": "suspended-initial",
   "metadata": {},
   "outputs": [
    {
     "data": {
      "text/plain": "100"
     },
     "execution_count": 3,
     "metadata": {},
     "output_type": "execute_result"
    }
   ],
   "source": [
    "aspect_list=[]\n",
    "for argument in generated_snippets:\n",
    "    aspects= argument['aspects']\n",
    "    aspect_list.append(aspects)\n",
    "    \n",
    "len(aspect_list)"
   ]
  },
  {
   "cell_type": "code",
   "execution_count": 4,
   "id": "liable-finger",
   "metadata": {},
   "outputs": [
    {
     "data": {
      "text/plain": "[{'topic': 'Abortion',\n  'query': 'abortion',\n  'arg_id': 'abortion-01',\n  'sentences': ['In 2011 there were about 730,322 abortions reported to the centers for disease control.',\n   \"There are about 1.7% of abortion of women's ages from 15-44 each year.\",\n   'Women who already had abortion earlier in there life time have abortion again.',\n   'At the age of 45 a women will have at least one abortion.',\n   'By the 12th week of pregnancies 88.7% of women have abortion.',\n   'In the U.S. black women are 3.3 times likely to have an abortion than white women.'],\n  'snippet': ['Women who already had abortion earlier in there life time have abortion again.',\n   'At the age of 45 a women will have at least one abortion.']},\n {'topic': 'Abortion',\n  'query': 'abortion',\n  'arg_id': 'abortion-02',\n  'sentences': ['Abortion is wrong!',\n   'Abortion Is gross!',\n   'Abortion is MURDER!!!!'],\n  'snippet': ['Abortion is wrong!', 'Abortion is MURDER!!!!']}]"
     },
     "execution_count": 4,
     "metadata": {},
     "output_type": "execute_result"
    }
   ],
   "source": [
    "data_snippets[0:2]"
   ]
  },
  {
   "cell_type": "code",
   "execution_count": 5,
   "id": "lyric-lobby",
   "metadata": {},
   "outputs": [],
   "source": [
    "import pandas as pd\n",
    "data_snippets_df = pd.json_normalize(data_snippets)\n",
    "generated_snippets_df = pd.json_normalize(generated_snippets)\n"
   ]
  },
  {
   "cell_type": "code",
   "execution_count": 6,
   "id": "governing-deployment",
   "metadata": {},
   "outputs": [
    {
     "data": {
      "text/plain": "            id                                      snippet-title  \\\n0  abortion-01  In the U.S. black women are 3.3 times likely t...   \n1  abortion-02                                 Abortion is wrong!   \n2  abortion-03  Why would someone want to kill an innocent lit...   \n3  abortion-04  And the mothers life in danger doesn't always ...   \n4  abortion-05  Therefore, the resolution is not set to be tak...   \n\n                                       snippets-text  \n0  [Women who already had abortion earlier in the...  \n1           [Abortion is wrong!, Abortion Is gross!]  \n2  [\"The greatest destroyer of peace is abortion ...  \n3  [And the mothers life in danger doesn't always...  \n4  [Hence, my opponent's resolution falls under t...  ",
      "text/html": "<div>\n<style scoped>\n    .dataframe tbody tr th:only-of-type {\n        vertical-align: middle;\n    }\n\n    .dataframe tbody tr th {\n        vertical-align: top;\n    }\n\n    .dataframe thead th {\n        text-align: right;\n    }\n</style>\n<table border=\"1\" class=\"dataframe\">\n  <thead>\n    <tr style=\"text-align: right;\">\n      <th></th>\n      <th>id</th>\n      <th>snippet-title</th>\n      <th>snippets-text</th>\n    </tr>\n  </thead>\n  <tbody>\n    <tr>\n      <th>0</th>\n      <td>abortion-01</td>\n      <td>In the U.S. black women are 3.3 times likely t...</td>\n      <td>[Women who already had abortion earlier in the...</td>\n    </tr>\n    <tr>\n      <th>1</th>\n      <td>abortion-02</td>\n      <td>Abortion is wrong!</td>\n      <td>[Abortion is wrong!, Abortion Is gross!]</td>\n    </tr>\n    <tr>\n      <th>2</th>\n      <td>abortion-03</td>\n      <td>Why would someone want to kill an innocent lit...</td>\n      <td>[\"The greatest destroyer of peace is abortion ...</td>\n    </tr>\n    <tr>\n      <th>3</th>\n      <td>abortion-04</td>\n      <td>And the mothers life in danger doesn't always ...</td>\n      <td>[And the mothers life in danger doesn't always...</td>\n    </tr>\n    <tr>\n      <th>4</th>\n      <td>abortion-05</td>\n      <td>Therefore, the resolution is not set to be tak...</td>\n      <td>[Hence, my opponent's resolution falls under t...</td>\n    </tr>\n  </tbody>\n</table>\n</div>"
     },
     "execution_count": 6,
     "metadata": {},
     "output_type": "execute_result"
    }
   ],
   "source": [
    "generated_snippets_df=generated_snippets_df=generated_snippets_df.iloc[:,0:3]\n",
    "generated_snippets_df.head()"
   ]
  },
  {
   "cell_type": "code",
   "execution_count": 7,
   "id": "overhead-portal",
   "metadata": {},
   "outputs": [
    {
     "data": {
      "text/plain": "      topic     query       arg_id  \\\n0  Abortion  abortion  abortion-01   \n1  Abortion  abortion  abortion-02   \n\n                                           sentences  \\\n0  [In 2011 there were about 730,322 abortions re...   \n1  [Abortion is wrong!, Abortion Is gross!, Abort...   \n\n                                             snippet  \n0  [Women who already had abortion earlier in the...  \n1       [Abortion is wrong!, Abortion is MURDER!!!!]  ",
      "text/html": "<div>\n<style scoped>\n    .dataframe tbody tr th:only-of-type {\n        vertical-align: middle;\n    }\n\n    .dataframe tbody tr th {\n        vertical-align: top;\n    }\n\n    .dataframe thead th {\n        text-align: right;\n    }\n</style>\n<table border=\"1\" class=\"dataframe\">\n  <thead>\n    <tr style=\"text-align: right;\">\n      <th></th>\n      <th>topic</th>\n      <th>query</th>\n      <th>arg_id</th>\n      <th>sentences</th>\n      <th>snippet</th>\n    </tr>\n  </thead>\n  <tbody>\n    <tr>\n      <th>0</th>\n      <td>Abortion</td>\n      <td>abortion</td>\n      <td>abortion-01</td>\n      <td>[In 2011 there were about 730,322 abortions re...</td>\n      <td>[Women who already had abortion earlier in the...</td>\n    </tr>\n    <tr>\n      <th>1</th>\n      <td>Abortion</td>\n      <td>abortion</td>\n      <td>abortion-02</td>\n      <td>[Abortion is wrong!, Abortion Is gross!, Abort...</td>\n      <td>[Abortion is wrong!, Abortion is MURDER!!!!]</td>\n    </tr>\n  </tbody>\n</table>\n</div>"
     },
     "execution_count": 7,
     "metadata": {},
     "output_type": "execute_result"
    }
   ],
   "source": [
    "data_snippets_df.head(2)"
   ]
  },
  {
   "cell_type": "code",
   "execution_count": 8,
   "id": "chemical-airfare",
   "metadata": {},
   "outputs": [
    {
     "data": {
      "text/plain": "            id                                      snippet-title  \\\n0  abortion-01  In the U.S. black women are 3.3 times likely t...   \n1  abortion-02                                 Abortion is wrong!   \n\n                                       snippets-text  \n0  [Women who already had abortion earlier in the...  \n1           [Abortion is wrong!, Abortion Is gross!]  ",
      "text/html": "<div>\n<style scoped>\n    .dataframe tbody tr th:only-of-type {\n        vertical-align: middle;\n    }\n\n    .dataframe tbody tr th {\n        vertical-align: top;\n    }\n\n    .dataframe thead th {\n        text-align: right;\n    }\n</style>\n<table border=\"1\" class=\"dataframe\">\n  <thead>\n    <tr style=\"text-align: right;\">\n      <th></th>\n      <th>id</th>\n      <th>snippet-title</th>\n      <th>snippets-text</th>\n    </tr>\n  </thead>\n  <tbody>\n    <tr>\n      <th>0</th>\n      <td>abortion-01</td>\n      <td>In the U.S. black women are 3.3 times likely t...</td>\n      <td>[Women who already had abortion earlier in the...</td>\n    </tr>\n    <tr>\n      <th>1</th>\n      <td>abortion-02</td>\n      <td>Abortion is wrong!</td>\n      <td>[Abortion is wrong!, Abortion Is gross!]</td>\n    </tr>\n  </tbody>\n</table>\n</div>"
     },
     "execution_count": 8,
     "metadata": {},
     "output_type": "execute_result"
    }
   ],
   "source": [
    "generated_snippets_df.head(2)"
   ]
  },
  {
   "cell_type": "code",
   "execution_count": 9,
   "id": "boxed-steering",
   "metadata": {},
   "outputs": [],
   "source": [
    "generated_snippets_df.insert(2,'generated_snippets',data_snippets_df['snippet'])"
   ]
  },
  {
   "cell_type": "code",
   "execution_count": 12,
   "id": "insured-strip",
   "metadata": {},
   "outputs": [
    {
     "data": {
      "text/plain": "            id                                      snippet-title  \\\n0  abortion-01  In the U.S. black women are 3.3 times likely t...   \n1  abortion-02                                 Abortion is wrong!   \n\n                                  generated_snippets  \\\n0  [Women who already had abortion earlier in the...   \n1       [Abortion is wrong!, Abortion is MURDER!!!!]   \n\n                                       snippets-text  \n0  [Women who already had abortion earlier in the...  \n1           [Abortion is wrong!, Abortion Is gross!]  ",
      "text/html": "<div>\n<style scoped>\n    .dataframe tbody tr th:only-of-type {\n        vertical-align: middle;\n    }\n\n    .dataframe tbody tr th {\n        vertical-align: top;\n    }\n\n    .dataframe thead th {\n        text-align: right;\n    }\n</style>\n<table border=\"1\" class=\"dataframe\">\n  <thead>\n    <tr style=\"text-align: right;\">\n      <th></th>\n      <th>id</th>\n      <th>snippet-title</th>\n      <th>generated_snippets</th>\n      <th>snippets-text</th>\n    </tr>\n  </thead>\n  <tbody>\n    <tr>\n      <th>0</th>\n      <td>abortion-01</td>\n      <td>In the U.S. black women are 3.3 times likely t...</td>\n      <td>[Women who already had abortion earlier in the...</td>\n      <td>[Women who already had abortion earlier in the...</td>\n    </tr>\n    <tr>\n      <th>1</th>\n      <td>abortion-02</td>\n      <td>Abortion is wrong!</td>\n      <td>[Abortion is wrong!, Abortion is MURDER!!!!]</td>\n      <td>[Abortion is wrong!, Abortion Is gross!]</td>\n    </tr>\n  </tbody>\n</table>\n</div>"
     },
     "execution_count": 12,
     "metadata": {},
     "output_type": "execute_result"
    }
   ],
   "source": [
    "generated_snippets_df.head(2)"
   ]
  },
  {
   "cell_type": "code",
   "execution_count": 14,
   "id": "ambient-oriental",
   "metadata": {},
   "outputs": [],
   "source": [
    "count = 0\n",
    "for index, row in generated_snippets_df.iterrows():\n",
    "                # x= dict object of aspect detected\n",
    "                snippets_detected=row['generated_snippets']\n",
    "                snippets_answer=row['snippets-text']\n",
    "                #print(other_args_dict)\n",
    "               \n",
    "             \n",
    "                for x in snippets_answer:\n",
    "                    for y in snippets_detected:\n",
    "                        #print(x)\n",
    "                        #print(y)\n",
    "                        if x==y:\n",
    "                            count= count + 1\n",
    "                            # print('match')"
   ]
  },
  {
   "cell_type": "code",
   "execution_count": 15,
   "id": "ecological-substitute",
   "metadata": {},
   "outputs": [
    {
     "data": {
      "text/plain": "44"
     },
     "execution_count": 15,
     "metadata": {},
     "output_type": "execute_result"
    }
   ],
   "source": [
    "count"
   ]
  },
  {
   "cell_type": "code",
   "execution_count": 16,
   "id": "characteristic-locking",
   "metadata": {},
   "outputs": [
    {
     "data": {
      "text/plain": "'\"\\nfrom collections import OrderedDict\\nargument_similar_ids=[]\\nargument_similar_ids_count=[]\\n\\nfor dict_aspects in aspect_list:\\n    print(dict_aspects)\\n    score=0\\n    arg_id_score= dict()\\n    arg_id_list=[]\\n\\n    for index, row in argumentAspectsDataset_df.iterrows():\\n\\n                # x= dict object of aspect detected\\n                other_args_dict= row[\\'dict_weighted_args_dataset_list_re\\']\\n\\n                for aspect in dict_aspects:\\n                    aspect_word_count=len(aspect.split())\\n                    aspect_weight=dict_aspects[aspect]\\n                    if aspect_weight >= 0.33:\\n\\n\\n                        if aspect in other_args_dict and other_args_dict[aspect] >0.25:\\n                            arg_id=row[\\'index\\']\\n                            if arg_id in arg_id_score:\\n                                print(\\'match found\\')\\n                                print(other_args_dict[aspect])\\n                                score=score + other_args_dict[aspect]\\n                                print(score)\\n                                print(arg_id)\\n                                arg_id_score[arg_id]=score\\n                            #other_args_dict[aspect]= round(other_args_dict[aspect],2)\\n                            else:\\n                                \\n                                score=other_args_dict[aspect]\\n                                arg_id_score[arg_id]=score\\n                            \\n    arg_id_score=dict(sorted(arg_id_score.items(), key=lambda item: item[1],reverse=True))\\n    \\n    #print(arg_id_score)\\n    argument_similar_ids.append(arg_id_score)\\n    print(arg_id_score)\\n    \\n    argument_similar_ids_count.append(len(arg_id_score))\\n    print(len(arg_id_score))\\n'"
     },
     "execution_count": 16,
     "metadata": {},
     "output_type": "execute_result"
    }
   ],
   "source": [
    "\"\"\"\"\n",
    "from collections import OrderedDict\n",
    "argument_similar_ids=[]\n",
    "argument_similar_ids_count=[]\n",
    "\n",
    "for dict_aspects in aspect_list:\n",
    "    print(dict_aspects)\n",
    "    score=0\n",
    "    arg_id_score= dict()\n",
    "    arg_id_list=[]\n",
    "\n",
    "    for index, row in argumentAspectsDataset_df.iterrows():\n",
    "\n",
    "                # x= dict object of aspect detected\n",
    "                other_args_dict= row['dict_weighted_args_dataset_list_re']\n",
    "\n",
    "                for aspect in dict_aspects:\n",
    "                    aspect_word_count=len(aspect.split())\n",
    "                    aspect_weight=dict_aspects[aspect]\n",
    "                    if aspect_weight >= 0.33:\n",
    "\n",
    "\n",
    "                        if aspect in other_args_dict and other_args_dict[aspect] >0.25:\n",
    "                            arg_id=row['index']\n",
    "                            if arg_id in arg_id_score:\n",
    "                                print('match found')\n",
    "                                print(other_args_dict[aspect])\n",
    "                                score=score + other_args_dict[aspect]\n",
    "                                print(score)\n",
    "                                print(arg_id)\n",
    "                                arg_id_score[arg_id]=score\n",
    "                            #other_args_dict[aspect]= round(other_args_dict[aspect],2)\n",
    "                            else:\n",
    "                                \n",
    "                                score=other_args_dict[aspect]\n",
    "                                arg_id_score[arg_id]=score\n",
    "                            \n",
    "    arg_id_score=dict(sorted(arg_id_score.items(), key=lambda item: item[1],reverse=True))\n",
    "    \n",
    "    #print(arg_id_score)\n",
    "    argument_similar_ids.append(arg_id_score)\n",
    "    print(arg_id_score)\n",
    "    \n",
    "    argument_similar_ids_count.append(len(arg_id_score))\n",
    "    print(len(arg_id_score))\n",
    "\"\"\""
   ]
  },
  {
   "cell_type": "code",
   "execution_count": 16,
   "id": "satellite-weekly",
   "metadata": {},
   "outputs": [],
   "source": []
  },
  {
   "cell_type": "code",
   "execution_count": null,
   "id": "designed-mission",
   "metadata": {},
   "outputs": [],
   "source": []
  }
 ],
 "metadata": {
  "kernelspec": {
   "display_name": "Python 3",
   "language": "python",
   "name": "python3"
  },
  "language_info": {
   "codemirror_mode": {
    "name": "ipython",
    "version": 3
   },
   "file_extension": ".py",
   "mimetype": "text/x-python",
   "name": "python",
   "nbconvert_exporter": "python",
   "pygments_lexer": "ipython3",
   "version": "3.7.10"
  }
 },
 "nbformat": 4,
 "nbformat_minor": 5
}