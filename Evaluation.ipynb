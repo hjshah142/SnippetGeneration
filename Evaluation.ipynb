{
 "cells": [
  {
   "cell_type": "code",
   "execution_count": 42,
   "id": "outdoor-trading",
   "metadata": {},
   "outputs": [],
   "source": [
    "from pathlib import Path\n",
    "import os\n",
    "import json\n",
    "script_dir = os.path.dirname(Path().absolute())\n",
    "generated_snippets = json.load(open(os.path.join(script_dir, \"ExtractiveSnipp/data/snippetsGenerated.txt\")))\n",
    "data_snippets = json.load(open(os.path.join(script_dir, \"ExtractiveSnipp/data/snippets.txt\")))\n"
   ]
  },
  {
   "cell_type": "code",
   "execution_count": 43,
   "id": "christian-vegetarian",
   "metadata": {},
   "outputs": [
    {
     "data": {
      "text/plain": [
       "[{'id': 'abortion-01',\n",
       "  'snippet-title': 'In the U.S. black women are 3.3 times likely to have an abortion than white women.',\n",
       "  'snippets-text': [\"There are about 1.7% of abortion of women's ages from 15-44 each year.\",\n",
       "   'In the U.S. black women are 3.3 times likely to have an abortion than white women.'],\n",
       "  'aspects': {'abortion': 0.5, 'women': 0.5},\n",
       "  'sentences': \"In 2011 there were about 730,322 abortions reported to the centers for disease control. There are about 1.7% of abortion of women's ages from 15-44 each year. Women who already had abortion earlier in there life time have abortion again. At the age of 45 a women will have at least one abortion. By the 12th week of pregnancies 88.7% of women have abortion. In the U.S. black women are 3.3 times likely to have an abortion than white women.\"},\n",
       " {'id': 'abortion-02',\n",
       "  'snippet-title': 'Abortion is MURDER!!!',\n",
       "  'snippets-text': ['Abortion Is gross!', 'Abortion is MURDER!!!'],\n",
       "  'aspects': {'abortion': 1.0},\n",
       "  'sentences': 'Abortion is wrong! Abortion Is gross! Abortion is MURDER!!!!'},\n",
       " {'id': 'abortion-03',\n",
       "  'snippet-title': 'Abortion should have never been legal.',\n",
       "  'snippets-text': ['Abortion, what does this really mean?',\n",
       "   'Abortion should have never been legal.'],\n",
       "  'aspects': {'abortion': 0.8, 'mother teresa': 0.1, 'women': 0.1},\n",
       "  'sentences': '\"The greatest destroyer of peace is abortion because if a mother can kill her own child, what is left for me to kill you and you to kill me? There is nothing between,\" says Mother Teresa. Abortion, what does this really mean? The definition of abortion is the deliberate termination of a human pregnancy, most often performed during the first 28 weeks. About 42 million women in the entire world with unintended pregnancies choose abortion. Abortion is a big controversial topic, people believe abortion should be illegal and others think it should stay legal. Why would someone want to kill an innocent little life? It\"s not their fault people made mistakes and now they\"re the ones having to pay for it. Abortion should be illegal because abortions are not safe, laws are protecting unborn babies, and fetuses can feel pain. Abortion should have never been legal.'}]"
      ]
     },
     "execution_count": 43,
     "metadata": {},
     "output_type": "execute_result"
    }
   ],
   "source": [
    "generated_snippets[0:3]"
   ]
  },
  {
   "cell_type": "code",
   "execution_count": 44,
   "id": "cardiac-latin",
   "metadata": {},
   "outputs": [
    {
     "data": {
      "text/plain": [
       "100"
      ]
     },
     "execution_count": 44,
     "metadata": {},
     "output_type": "execute_result"
    }
   ],
   "source": [
    "aspect_list=[]\n",
    "for argument in generated_snippets:\n",
    "    aspects= argument['aspects']\n",
    "    aspect_list.append(aspects)\n",
    "    \n",
    "len(aspect_list)"
   ]
  },
  {
   "cell_type": "code",
   "execution_count": 45,
   "id": "wireless-fiber",
   "metadata": {},
   "outputs": [
    {
     "data": {
      "text/plain": [
       "[{'topic': 'Abortion',\n",
       "  'query': 'abortion',\n",
       "  'arg_id': 'abortion-01',\n",
       "  'sentences': ['In 2011 there were about 730,322 abortions reported to the centers for disease control.',\n",
       "   \"There are about 1.7% of abortion of women's ages from 15-44 each year.\",\n",
       "   'Women who already had abortion earlier in there life time have abortion again.',\n",
       "   'At the age of 45 a women will have at least one abortion.',\n",
       "   'By the 12th week of pregnancies 88.7% of women have abortion.',\n",
       "   'In the U.S. black women are 3.3 times likely to have an abortion than white women.'],\n",
       "  'snippet': ['Women who already had abortion earlier in there life time have abortion again.',\n",
       "   'At the age of 45 a women will have at least one abortion.']},\n",
       " {'topic': 'Abortion',\n",
       "  'query': 'abortion',\n",
       "  'arg_id': 'abortion-02',\n",
       "  'sentences': ['Abortion is wrong!',\n",
       "   'Abortion Is gross!',\n",
       "   'Abortion is MURDER!!!!'],\n",
       "  'snippet': ['Abortion is wrong!', 'Abortion is MURDER!!!!']}]"
      ]
     },
     "execution_count": 45,
     "metadata": {},
     "output_type": "execute_result"
    }
   ],
   "source": [
    "data_snippets[0:2]"
   ]
  },
  {
   "cell_type": "code",
   "execution_count": 46,
   "id": "another-passion",
   "metadata": {},
   "outputs": [],
   "source": [
    "import pandas as pd\n",
    "data_snippets_df = pd.json_normalize(data_snippets)\n",
    "generated_snippets_df = pd.json_normalize(generated_snippets)\n"
   ]
  },
  {
   "cell_type": "code",
   "execution_count": 47,
   "id": "superior-mechanism",
   "metadata": {},
   "outputs": [
    {
     "data": {
      "text/html": [
       "<div>\n",
       "<style scoped>\n",
       "    .dataframe tbody tr th:only-of-type {\n",
       "        vertical-align: middle;\n",
       "    }\n",
       "\n",
       "    .dataframe tbody tr th {\n",
       "        vertical-align: top;\n",
       "    }\n",
       "\n",
       "    .dataframe thead th {\n",
       "        text-align: right;\n",
       "    }\n",
       "</style>\n",
       "<table border=\"1\" class=\"dataframe\">\n",
       "  <thead>\n",
       "    <tr style=\"text-align: right;\">\n",
       "      <th></th>\n",
       "      <th>id</th>\n",
       "      <th>snippet-title</th>\n",
       "      <th>snippets-text</th>\n",
       "    </tr>\n",
       "  </thead>\n",
       "  <tbody>\n",
       "    <tr>\n",
       "      <th>0</th>\n",
       "      <td>abortion-01</td>\n",
       "      <td>In the U.S. black women are 3.3 times likely t...</td>\n",
       "      <td>[There are about 1.7% of abortion of women's a...</td>\n",
       "    </tr>\n",
       "    <tr>\n",
       "      <th>1</th>\n",
       "      <td>abortion-02</td>\n",
       "      <td>Abortion is MURDER!!!</td>\n",
       "      <td>[Abortion Is gross!, Abortion is MURDER!!!]</td>\n",
       "    </tr>\n",
       "    <tr>\n",
       "      <th>2</th>\n",
       "      <td>abortion-03</td>\n",
       "      <td>Abortion should have never been legal.</td>\n",
       "      <td>[Abortion, what does this really mean?, Aborti...</td>\n",
       "    </tr>\n",
       "    <tr>\n",
       "      <th>3</th>\n",
       "      <td>abortion-04</td>\n",
       "      <td>*the fetus is a person because there is no way...</td>\n",
       "      <td>[And the mothers life in danger doesn't always...</td>\n",
       "    </tr>\n",
       "    <tr>\n",
       "      <th>4</th>\n",
       "      <td>abortion-05</td>\n",
       "      <td>References [1] [2]</td>\n",
       "      <td>[Counter-arguments \"Note: My firs round was no...</td>\n",
       "    </tr>\n",
       "  </tbody>\n",
       "</table>\n",
       "</div>"
      ],
      "text/plain": [
       "            id                                      snippet-title  \\\n",
       "0  abortion-01  In the U.S. black women are 3.3 times likely t...   \n",
       "1  abortion-02                              Abortion is MURDER!!!   \n",
       "2  abortion-03             Abortion should have never been legal.   \n",
       "3  abortion-04  *the fetus is a person because there is no way...   \n",
       "4  abortion-05                                 References [1] [2]   \n",
       "\n",
       "                                       snippets-text  \n",
       "0  [There are about 1.7% of abortion of women's a...  \n",
       "1        [Abortion Is gross!, Abortion is MURDER!!!]  \n",
       "2  [Abortion, what does this really mean?, Aborti...  \n",
       "3  [And the mothers life in danger doesn't always...  \n",
       "4  [Counter-arguments \"Note: My firs round was no...  "
      ]
     },
     "execution_count": 47,
     "metadata": {},
     "output_type": "execute_result"
    }
   ],
   "source": [
    "generated_snippets_df=generated_snippets_df=generated_snippets_df.iloc[:,0:3]\n",
    "generated_snippets_df.head()"
   ]
  },
  {
   "cell_type": "code",
   "execution_count": 48,
   "id": "likely-supplement",
   "metadata": {},
   "outputs": [
    {
     "data": {
      "text/html": [
       "<div>\n",
       "<style scoped>\n",
       "    .dataframe tbody tr th:only-of-type {\n",
       "        vertical-align: middle;\n",
       "    }\n",
       "\n",
       "    .dataframe tbody tr th {\n",
       "        vertical-align: top;\n",
       "    }\n",
       "\n",
       "    .dataframe thead th {\n",
       "        text-align: right;\n",
       "    }\n",
       "</style>\n",
       "<table border=\"1\" class=\"dataframe\">\n",
       "  <thead>\n",
       "    <tr style=\"text-align: right;\">\n",
       "      <th></th>\n",
       "      <th>topic</th>\n",
       "      <th>query</th>\n",
       "      <th>arg_id</th>\n",
       "      <th>sentences</th>\n",
       "      <th>snippet</th>\n",
       "    </tr>\n",
       "  </thead>\n",
       "  <tbody>\n",
       "    <tr>\n",
       "      <th>0</th>\n",
       "      <td>Abortion</td>\n",
       "      <td>abortion</td>\n",
       "      <td>abortion-01</td>\n",
       "      <td>[In 2011 there were about 730,322 abortions re...</td>\n",
       "      <td>[Women who already had abortion earlier in the...</td>\n",
       "    </tr>\n",
       "    <tr>\n",
       "      <th>1</th>\n",
       "      <td>Abortion</td>\n",
       "      <td>abortion</td>\n",
       "      <td>abortion-02</td>\n",
       "      <td>[Abortion is wrong!, Abortion Is gross!, Abort...</td>\n",
       "      <td>[Abortion is wrong!, Abortion is MURDER!!!!]</td>\n",
       "    </tr>\n",
       "  </tbody>\n",
       "</table>\n",
       "</div>"
      ],
      "text/plain": [
       "      topic     query       arg_id  \\\n",
       "0  Abortion  abortion  abortion-01   \n",
       "1  Abortion  abortion  abortion-02   \n",
       "\n",
       "                                           sentences  \\\n",
       "0  [In 2011 there were about 730,322 abortions re...   \n",
       "1  [Abortion is wrong!, Abortion Is gross!, Abort...   \n",
       "\n",
       "                                             snippet  \n",
       "0  [Women who already had abortion earlier in the...  \n",
       "1       [Abortion is wrong!, Abortion is MURDER!!!!]  "
      ]
     },
     "execution_count": 48,
     "metadata": {},
     "output_type": "execute_result"
    }
   ],
   "source": [
    "data_snippets_df.head(2)"
   ]
  },
  {
   "cell_type": "code",
   "execution_count": 49,
   "id": "dramatic-layout",
   "metadata": {},
   "outputs": [
    {
     "data": {
      "text/html": [
       "<div>\n",
       "<style scoped>\n",
       "    .dataframe tbody tr th:only-of-type {\n",
       "        vertical-align: middle;\n",
       "    }\n",
       "\n",
       "    .dataframe tbody tr th {\n",
       "        vertical-align: top;\n",
       "    }\n",
       "\n",
       "    .dataframe thead th {\n",
       "        text-align: right;\n",
       "    }\n",
       "</style>\n",
       "<table border=\"1\" class=\"dataframe\">\n",
       "  <thead>\n",
       "    <tr style=\"text-align: right;\">\n",
       "      <th></th>\n",
       "      <th>id</th>\n",
       "      <th>snippet-title</th>\n",
       "      <th>snippets-text</th>\n",
       "    </tr>\n",
       "  </thead>\n",
       "  <tbody>\n",
       "    <tr>\n",
       "      <th>0</th>\n",
       "      <td>abortion-01</td>\n",
       "      <td>In the U.S. black women are 3.3 times likely t...</td>\n",
       "      <td>[There are about 1.7% of abortion of women's a...</td>\n",
       "    </tr>\n",
       "    <tr>\n",
       "      <th>1</th>\n",
       "      <td>abortion-02</td>\n",
       "      <td>Abortion is MURDER!!!</td>\n",
       "      <td>[Abortion Is gross!, Abortion is MURDER!!!]</td>\n",
       "    </tr>\n",
       "  </tbody>\n",
       "</table>\n",
       "</div>"
      ],
      "text/plain": [
       "            id                                      snippet-title  \\\n",
       "0  abortion-01  In the U.S. black women are 3.3 times likely t...   \n",
       "1  abortion-02                              Abortion is MURDER!!!   \n",
       "\n",
       "                                       snippets-text  \n",
       "0  [There are about 1.7% of abortion of women's a...  \n",
       "1        [Abortion Is gross!, Abortion is MURDER!!!]  "
      ]
     },
     "execution_count": 49,
     "metadata": {},
     "output_type": "execute_result"
    }
   ],
   "source": [
    "generated_snippets_df.head(2)"
   ]
  },
  {
   "cell_type": "code",
   "execution_count": 50,
   "id": "virtual-legend",
   "metadata": {},
   "outputs": [],
   "source": [
    "generated_snippets_df.insert(2,'generated_snippets',data_snippets_df['snippet'])"
   ]
  },
  {
   "cell_type": "code",
   "execution_count": 51,
   "id": "fiscal-framework",
   "metadata": {},
   "outputs": [
    {
     "data": {
      "text/html": [
       "<div>\n",
       "<style scoped>\n",
       "    .dataframe tbody tr th:only-of-type {\n",
       "        vertical-align: middle;\n",
       "    }\n",
       "\n",
       "    .dataframe tbody tr th {\n",
       "        vertical-align: top;\n",
       "    }\n",
       "\n",
       "    .dataframe thead th {\n",
       "        text-align: right;\n",
       "    }\n",
       "</style>\n",
       "<table border=\"1\" class=\"dataframe\">\n",
       "  <thead>\n",
       "    <tr style=\"text-align: right;\">\n",
       "      <th></th>\n",
       "      <th>id</th>\n",
       "      <th>snippet-title</th>\n",
       "      <th>generated_snippets</th>\n",
       "      <th>snippets-text</th>\n",
       "    </tr>\n",
       "  </thead>\n",
       "  <tbody>\n",
       "    <tr>\n",
       "      <th>0</th>\n",
       "      <td>abortion-01</td>\n",
       "      <td>In the U.S. black women are 3.3 times likely t...</td>\n",
       "      <td>[Women who already had abortion earlier in the...</td>\n",
       "      <td>[There are about 1.7% of abortion of women's a...</td>\n",
       "    </tr>\n",
       "    <tr>\n",
       "      <th>1</th>\n",
       "      <td>abortion-02</td>\n",
       "      <td>Abortion is MURDER!!!</td>\n",
       "      <td>[Abortion is wrong!, Abortion is MURDER!!!!]</td>\n",
       "      <td>[Abortion Is gross!, Abortion is MURDER!!!]</td>\n",
       "    </tr>\n",
       "  </tbody>\n",
       "</table>\n",
       "</div>"
      ],
      "text/plain": [
       "            id                                      snippet-title  \\\n",
       "0  abortion-01  In the U.S. black women are 3.3 times likely t...   \n",
       "1  abortion-02                              Abortion is MURDER!!!   \n",
       "\n",
       "                                  generated_snippets  \\\n",
       "0  [Women who already had abortion earlier in the...   \n",
       "1       [Abortion is wrong!, Abortion is MURDER!!!!]   \n",
       "\n",
       "                                       snippets-text  \n",
       "0  [There are about 1.7% of abortion of women's a...  \n",
       "1        [Abortion Is gross!, Abortion is MURDER!!!]  "
      ]
     },
     "execution_count": 51,
     "metadata": {},
     "output_type": "execute_result"
    }
   ],
   "source": [
    "generated_snippets_df.head(2)"
   ]
  },
  {
   "cell_type": "code",
   "execution_count": 52,
   "id": "ethical-slovak",
   "metadata": {},
   "outputs": [],
   "source": [
    "count = 0\n",
    "for index, row in generated_snippets_df.iterrows():\n",
    "                # x= dict object of aspect detected\n",
    "                snippets_detected=row['generated_snippets']\n",
    "                snippets_answer=row['snippets-text']\n",
    "                #print(other_args_dict)\n",
    "               \n",
    "             \n",
    "                for x in snippets_answer:\n",
    "                    for y in snippets_detected:\n",
    "                        # print(x)\n",
    "                        # print(y)\n",
    "                        if x==y:\n",
    "                            count= count + 1\n",
    "                            # print('match')"
   ]
  },
  {
   "cell_type": "code",
   "execution_count": 53,
   "id": "proof-argument",
   "metadata": {},
   "outputs": [
    {
     "data": {
      "text/plain": [
       "43"
      ]
     },
     "execution_count": 53,
     "metadata": {},
     "output_type": "execute_result"
    }
   ],
   "source": [
    "count"
   ]
  },
  {
   "cell_type": "code",
   "execution_count": 54,
   "id": "spatial-rescue",
   "metadata": {},
   "outputs": [
    {
     "data": {
      "text/plain": [
       "'\"\\nfrom collections import OrderedDict\\nargument_similar_ids=[]\\nargument_similar_ids_count=[]\\n\\nfor dict_aspects in aspect_list:\\n    print(dict_aspects)\\n    score=0\\n    arg_id_score= dict()\\n    arg_id_list=[]\\n\\n    for index, row in argumentAspectsDataset_df.iterrows():\\n\\n                # x= dict object of aspect detected\\n                other_args_dict= row[\\'dict_weighted_args_dataset_list_re\\']\\n\\n                for aspect in dict_aspects:\\n                    aspect_word_count=len(aspect.split())\\n                    aspect_weight=dict_aspects[aspect]\\n                    if aspect_weight >= 0.33:\\n\\n\\n                        if aspect in other_args_dict and other_args_dict[aspect] >0.25:\\n                            arg_id=row[\\'index\\']\\n                            if arg_id in arg_id_score:\\n                                print(\\'match found\\')\\n                                print(other_args_dict[aspect])\\n                                score=score + other_args_dict[aspect]\\n                                print(score)\\n                                print(arg_id)\\n                                arg_id_score[arg_id]=score\\n                            #other_args_dict[aspect]= round(other_args_dict[aspect],2)\\n                            else:\\n                                \\n                                score=other_args_dict[aspect]\\n                                arg_id_score[arg_id]=score\\n                            \\n    arg_id_score=dict(sorted(arg_id_score.items(), key=lambda item: item[1],reverse=True))\\n    \\n    #print(arg_id_score)\\n    argument_similar_ids.append(arg_id_score)\\n    print(arg_id_score)\\n    \\n    argument_similar_ids_count.append(len(arg_id_score))\\n    print(len(arg_id_score))\\n'"
      ]
     },
     "execution_count": 54,
     "metadata": {},
     "output_type": "execute_result"
    }
   ],
   "source": [
    "\"\"\"\"\n",
    "from collections import OrderedDict\n",
    "argument_similar_ids=[]\n",
    "argument_similar_ids_count=[]\n",
    "\n",
    "for dict_aspects in aspect_list:\n",
    "    print(dict_aspects)\n",
    "    score=0\n",
    "    arg_id_score= dict()\n",
    "    arg_id_list=[]\n",
    "\n",
    "    for index, row in argumentAspectsDataset_df.iterrows():\n",
    "\n",
    "                # x= dict object of aspect detected\n",
    "                other_args_dict= row['dict_weighted_args_dataset_list_re']\n",
    "\n",
    "                for aspect in dict_aspects:\n",
    "                    aspect_word_count=len(aspect.split())\n",
    "                    aspect_weight=dict_aspects[aspect]\n",
    "                    if aspect_weight >= 0.33:\n",
    "\n",
    "\n",
    "                        if aspect in other_args_dict and other_args_dict[aspect] >0.25:\n",
    "                            arg_id=row['index']\n",
    "                            if arg_id in arg_id_score:\n",
    "                                print('match found')\n",
    "                                print(other_args_dict[aspect])\n",
    "                                score=score + other_args_dict[aspect]\n",
    "                                print(score)\n",
    "                                print(arg_id)\n",
    "                                arg_id_score[arg_id]=score\n",
    "                            #other_args_dict[aspect]= round(other_args_dict[aspect],2)\n",
    "                            else:\n",
    "                                \n",
    "                                score=other_args_dict[aspect]\n",
    "                                arg_id_score[arg_id]=score\n",
    "                            \n",
    "    arg_id_score=dict(sorted(arg_id_score.items(), key=lambda item: item[1],reverse=True))\n",
    "    \n",
    "    #print(arg_id_score)\n",
    "    argument_similar_ids.append(arg_id_score)\n",
    "    print(arg_id_score)\n",
    "    \n",
    "    argument_similar_ids_count.append(len(arg_id_score))\n",
    "    print(len(arg_id_score))\n",
    "\"\"\""
   ]
  },
  {
   "cell_type": "code",
   "execution_count": 55,
   "id": "pharmaceutical-stroke",
   "metadata": {},
   "outputs": [
    {
     "data": {
      "text/plain": [
       "'!\"#$%&\\'()*+,-./:;<=>?@[\\\\]^_`{|}~'"
      ]
     },
     "execution_count": 55,
     "metadata": {},
     "output_type": "execute_result"
    }
   ],
   "source": [
    "import string\n",
    "string.punctuation"
   ]
  },
  {
   "cell_type": "raw",
   "id": "exclusive-suffering",
   "metadata": {},
   "source": []
  },
  {
   "cell_type": "code",
   "execution_count": null,
   "id": "vertical-forth",
   "metadata": {},
   "outputs": [],
   "source": []
  }
 ],
 "metadata": {
  "kernelspec": {
   "display_name": "Python 3",
   "language": "python",
   "name": "python3"
  },
  "language_info": {
   "codemirror_mode": {
    "name": "ipython",
    "version": 3
   },
   "file_extension": ".py",
   "mimetype": "text/x-python",
   "name": "python",
   "nbconvert_exporter": "python",
   "pygments_lexer": "ipython3",
   "version": "3.7.10"
  }
 },
 "nbformat": 4,
 "nbformat_minor": 5
}
