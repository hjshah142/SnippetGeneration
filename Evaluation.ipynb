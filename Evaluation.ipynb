{
 "cells": [
  {
   "cell_type": "code",
   "execution_count": 1,
   "id": "latter-georgia",
   "metadata": {},
   "outputs": [],
   "source": [
    "from pathlib import Path\n",
    "import os\n",
    "import json\n",
    "script_dir = os.path.dirname(Path().absolute())\n",
    "generated_snippets = json.load(open(os.path.join(script_dir, \"ExtractiveSnipp/data/snippetsGenerated.txt\")))\n",
    "data_snippets = json.load(open(os.path.join(script_dir, \"ExtractiveSnipp/data/snippets.txt\")))\n"
   ]
  },
  {
   "cell_type": "code",
   "execution_count": 3,
   "id": "comfortable-talent",
   "metadata": {},
   "outputs": [
    {
     "data": {
      "text/plain": [
       "[{'id': 'abortion-01',\n",
       "  'snippet-title': 'Women who already had abortion earlier in there life time have abortion again.',\n",
       "  'snippets-text': ['Women who already had abortion earlier in there life time have abortion again.',\n",
       "   'By the 12th week of pregnancies 88.7% of women have abortion.'],\n",
       "  'aspects': {'abortion': 0.5, 'women': 0.5},\n",
       "  'sentences': \"In 2011 there were about 730,322 abortions reported to the centers for disease control. There are about 1.7% of abortion of women's ages from 15-44 each year. Women who already had abortion earlier in there life time have abortion again. At the age of 45 a women will have at least one abortion. By the 12th week of pregnancies 88.7% of women have abortion. In the U.S. black women are 3.3 times likely to have an abortion than white women.\"},\n",
       " {'id': 'abortion-02',\n",
       "  'snippet-title': 'Abortion is wrong!',\n",
       "  'snippets-text': ['Abortion is wrong!', 'Abortion Is gross!'],\n",
       "  'aspects': {'abortion': 1.0},\n",
       "  'sentences': 'Abortion is wrong! Abortion Is gross! Abortion is MURDER!!!!'}]"
      ]
     },
     "execution_count": 3,
     "metadata": {},
     "output_type": "execute_result"
    }
   ],
   "source": [
    "generated_snippets[0:2]"
   ]
  },
  {
   "cell_type": "code",
   "execution_count": 4,
   "id": "encouraging-compression",
   "metadata": {},
   "outputs": [
    {
     "data": {
      "text/plain": [
       "77"
      ]
     },
     "execution_count": 4,
     "metadata": {},
     "output_type": "execute_result"
    }
   ],
   "source": [
    "arg_aspects = []\n",
    "for arguments in generated_snippets:\n",
    "    arg_aspects.append(arguments['aspects'])\n",
    "len(arg_aspects)    "
   ]
  },
  {
   "cell_type": "code",
   "execution_count": 5,
   "id": "progressive-sheet",
   "metadata": {},
   "outputs": [
    {
     "data": {
      "text/plain": [
       "77"
      ]
     },
     "execution_count": 5,
     "metadata": {},
     "output_type": "execute_result"
    }
   ],
   "source": [
    "len(generated_snippets)"
   ]
  },
  {
   "cell_type": "code",
   "execution_count": 6,
   "id": "alive-thong",
   "metadata": {},
   "outputs": [
    {
     "data": {
      "text/plain": [
       "100"
      ]
     },
     "execution_count": 6,
     "metadata": {},
     "output_type": "execute_result"
    }
   ],
   "source": [
    "len(data_snippets)"
   ]
  },
  {
   "cell_type": "code",
   "execution_count": 7,
   "id": "confirmed-vegetation",
   "metadata": {},
   "outputs": [
    {
     "data": {
      "text/plain": [
       "list"
      ]
     },
     "execution_count": 7,
     "metadata": {},
     "output_type": "execute_result"
    }
   ],
   "source": [
    "type(data_snippets)"
   ]
  },
  {
   "cell_type": "code",
   "execution_count": 8,
   "id": "chemical-summer",
   "metadata": {},
   "outputs": [
    {
     "name": "stdout",
     "output_type": "stream",
     "text": [
      "77\n"
     ]
    }
   ],
   "source": [
    "count = 0\n",
    "data_snippets_filtered = []\n",
    "for argument in data_snippets:\n",
    "\n",
    "    # print(argument['sentences'])\n",
    "    if len(argument['sentences']) > 2:\n",
    "        data_snippets_filtered.append(argument)\n",
    "        count = count + 1 \n",
    "        \n",
    "        \n",
    "        \n",
    "print(count)"
   ]
  },
  {
   "cell_type": "code",
   "execution_count": 9,
   "id": "forced-depth",
   "metadata": {},
   "outputs": [
    {
     "data": {
      "text/plain": [
       "[{'topic': 'Abortion',\n",
       "  'query': 'abortion',\n",
       "  'arg_id': 'abortion-01',\n",
       "  'sentences': ['In 2011 there were about 730,322 abortions reported to the centers for disease control.',\n",
       "   \"There are about 1.7% of abortion of women's ages from 15-44 each year.\",\n",
       "   'Women who already had abortion earlier in there life time have abortion again.',\n",
       "   'At the age of 45 a women will have at least one abortion.',\n",
       "   'By the 12th week of pregnancies 88.7% of women have abortion.',\n",
       "   'In the U.S. black women are 3.3 times likely to have an abortion than white women.'],\n",
       "  'snippet': ['Women who already had abortion earlier in there life time have abortion again.',\n",
       "   'At the age of 45 a women will have at least one abortion.']},\n",
       " {'topic': 'Abortion',\n",
       "  'query': 'abortion',\n",
       "  'arg_id': 'abortion-02',\n",
       "  'sentences': ['Abortion is wrong!',\n",
       "   'Abortion Is gross!',\n",
       "   'Abortion is MURDER!!!!'],\n",
       "  'snippet': ['Abortion is wrong!', 'Abortion is MURDER!!!!']}]"
      ]
     },
     "execution_count": 9,
     "metadata": {},
     "output_type": "execute_result"
    }
   ],
   "source": [
    "data_snippets[0:2]"
   ]
  },
  {
   "cell_type": "code",
   "execution_count": 11,
   "id": "peaceful-salmon",
   "metadata": {},
   "outputs": [
    {
     "data": {
      "text/plain": [
       "77"
      ]
     },
     "execution_count": 11,
     "metadata": {},
     "output_type": "execute_result"
    }
   ],
   "source": [
    "len(data_snippets_filtered)"
   ]
  },
  {
   "cell_type": "code",
   "execution_count": 13,
   "id": "amateur-weekly",
   "metadata": {},
   "outputs": [
    {
     "name": "stdout",
     "output_type": "stream",
     "text": [
      "23\n"
     ]
    }
   ],
   "source": [
    "count = 0\n",
    "for argument in data_snippets:\n",
    "    if len(argument['sentences']) <= 2:\n",
    "        count +=1\n",
    "print(count)      "
   ]
  },
  {
   "cell_type": "code",
   "execution_count": 17,
   "id": "composite-shape",
   "metadata": {},
   "outputs": [],
   "source": [
    "import pandas as pd\n",
    "data_snippets_df = pd.json_normalize(data_snippets_filtered)\n",
    "generated_snippets_df = pd.json_normalize(generated_snippets)\n"
   ]
  },
  {
   "cell_type": "code",
   "execution_count": 99,
   "id": "bridal-characteristic",
   "metadata": {},
   "outputs": [
    {
     "data": {
      "text/html": [
       "<div>\n",
       "<style scoped>\n",
       "    .dataframe tbody tr th:only-of-type {\n",
       "        vertical-align: middle;\n",
       "    }\n",
       "\n",
       "    .dataframe tbody tr th {\n",
       "        vertical-align: top;\n",
       "    }\n",
       "\n",
       "    .dataframe thead th {\n",
       "        text-align: right;\n",
       "    }\n",
       "</style>\n",
       "<table border=\"1\" class=\"dataframe\">\n",
       "  <thead>\n",
       "    <tr style=\"text-align: right;\">\n",
       "      <th></th>\n",
       "      <th>topic</th>\n",
       "      <th>query</th>\n",
       "      <th>arg_id</th>\n",
       "      <th>sentences</th>\n",
       "      <th>snippet</th>\n",
       "    </tr>\n",
       "  </thead>\n",
       "  <tbody>\n",
       "    <tr>\n",
       "      <th>0</th>\n",
       "      <td>Abortion</td>\n",
       "      <td>abortion</td>\n",
       "      <td>abortion-01</td>\n",
       "      <td>[In 2011 there were about 730,322 abortions re...</td>\n",
       "      <td>[Women who already had abortion earlier in the...</td>\n",
       "    </tr>\n",
       "    <tr>\n",
       "      <th>1</th>\n",
       "      <td>Abortion</td>\n",
       "      <td>abortion</td>\n",
       "      <td>abortion-02</td>\n",
       "      <td>[Abortion is wrong!, Abortion Is gross!, Abort...</td>\n",
       "      <td>[Abortion is wrong!, Abortion is MURDER!!!!]</td>\n",
       "    </tr>\n",
       "    <tr>\n",
       "      <th>2</th>\n",
       "      <td>Abortion</td>\n",
       "      <td>abortion</td>\n",
       "      <td>abortion-03</td>\n",
       "      <td>[\"The greatest destroyer of peace is abortion ...</td>\n",
       "      <td>[\"The greatest destroyer of peace is abortion ...</td>\n",
       "    </tr>\n",
       "    <tr>\n",
       "      <th>3</th>\n",
       "      <td>abortion</td>\n",
       "      <td>abortion</td>\n",
       "      <td>abortion-04</td>\n",
       "      <td>[Yes the government has the obligation to prot...</td>\n",
       "      <td>[Yes the government has the obligation to prot...</td>\n",
       "    </tr>\n",
       "    <tr>\n",
       "      <th>4</th>\n",
       "      <td>Abortion</td>\n",
       "      <td>abortion</td>\n",
       "      <td>abortion-05</td>\n",
       "      <td>[Thank you, Pro., Negative Case A1: False equi...</td>\n",
       "      <td>[There is no child death involved in not getti...</td>\n",
       "    </tr>\n",
       "  </tbody>\n",
       "</table>\n",
       "</div>"
      ],
      "text/plain": [
       "       topic     query       arg_id  \\\n",
       "0   Abortion  abortion  abortion-01   \n",
       "1   Abortion  abortion  abortion-02   \n",
       "2  Abortion   abortion  abortion-03   \n",
       "3   abortion  abortion  abortion-04   \n",
       "4   Abortion  abortion  abortion-05   \n",
       "\n",
       "                                           sentences  \\\n",
       "0  [In 2011 there were about 730,322 abortions re...   \n",
       "1  [Abortion is wrong!, Abortion Is gross!, Abort...   \n",
       "2  [\"The greatest destroyer of peace is abortion ...   \n",
       "3  [Yes the government has the obligation to prot...   \n",
       "4  [Thank you, Pro., Negative Case A1: False equi...   \n",
       "\n",
       "                                             snippet  \n",
       "0  [Women who already had abortion earlier in the...  \n",
       "1       [Abortion is wrong!, Abortion is MURDER!!!!]  \n",
       "2  [\"The greatest destroyer of peace is abortion ...  \n",
       "3  [Yes the government has the obligation to prot...  \n",
       "4  [There is no child death involved in not getti...  "
      ]
     },
     "execution_count": 99,
     "metadata": {},
     "output_type": "execute_result"
    }
   ],
   "source": [
    "data_snippets_df.head()"
   ]
  },
  {
   "cell_type": "code",
   "execution_count": 20,
   "id": "corresponding-apparatus",
   "metadata": {},
   "outputs": [
    {
     "data": {
      "text/plain": [
       "77"
      ]
     },
     "execution_count": 20,
     "metadata": {},
     "output_type": "execute_result"
    }
   ],
   "source": [
    "len(data_snippets_df)"
   ]
  },
  {
   "cell_type": "code",
   "execution_count": 21,
   "id": "digital-northeast",
   "metadata": {},
   "outputs": [
    {
     "data": {
      "text/html": [
       "<div>\n",
       "<style scoped>\n",
       "    .dataframe tbody tr th:only-of-type {\n",
       "        vertical-align: middle;\n",
       "    }\n",
       "\n",
       "    .dataframe tbody tr th {\n",
       "        vertical-align: top;\n",
       "    }\n",
       "\n",
       "    .dataframe thead th {\n",
       "        text-align: right;\n",
       "    }\n",
       "</style>\n",
       "<table border=\"1\" class=\"dataframe\">\n",
       "  <thead>\n",
       "    <tr style=\"text-align: right;\">\n",
       "      <th></th>\n",
       "      <th>id</th>\n",
       "      <th>snippet-title</th>\n",
       "      <th>snippets-text</th>\n",
       "    </tr>\n",
       "  </thead>\n",
       "  <tbody>\n",
       "    <tr>\n",
       "      <th>0</th>\n",
       "      <td>abortion-01</td>\n",
       "      <td>Women who already had abortion earlier in ther...</td>\n",
       "      <td>[Women who already had abortion earlier in the...</td>\n",
       "    </tr>\n",
       "    <tr>\n",
       "      <th>1</th>\n",
       "      <td>abortion-02</td>\n",
       "      <td>Abortion is wrong!</td>\n",
       "      <td>[Abortion is wrong!, Abortion Is gross!]</td>\n",
       "    </tr>\n",
       "    <tr>\n",
       "      <th>2</th>\n",
       "      <td>abortion-03</td>\n",
       "      <td>Abortion should be illegal because abortions a...</td>\n",
       "      <td>[\"The greatest destroyer of peace is abortion ...</td>\n",
       "    </tr>\n",
       "    <tr>\n",
       "      <th>3</th>\n",
       "      <td>abortion-04</td>\n",
       "      <td>And the mothers life in danger doesn't always ...</td>\n",
       "      <td>[And the mothers life in danger doesn't always...</td>\n",
       "    </tr>\n",
       "    <tr>\n",
       "      <th>4</th>\n",
       "      <td>abortion-05</td>\n",
       "      <td>What this means is that: 1) Abortion is propos...</td>\n",
       "      <td>[How this occurred is that opponent originally...</td>\n",
       "    </tr>\n",
       "  </tbody>\n",
       "</table>\n",
       "</div>"
      ],
      "text/plain": [
       "            id                                      snippet-title  \\\n",
       "0  abortion-01  Women who already had abortion earlier in ther...   \n",
       "1  abortion-02                                 Abortion is wrong!   \n",
       "2  abortion-03  Abortion should be illegal because abortions a...   \n",
       "3  abortion-04  And the mothers life in danger doesn't always ...   \n",
       "4  abortion-05  What this means is that: 1) Abortion is propos...   \n",
       "\n",
       "                                       snippets-text  \n",
       "0  [Women who already had abortion earlier in the...  \n",
       "1           [Abortion is wrong!, Abortion Is gross!]  \n",
       "2  [\"The greatest destroyer of peace is abortion ...  \n",
       "3  [And the mothers life in danger doesn't always...  \n",
       "4  [How this occurred is that opponent originally...  "
      ]
     },
     "execution_count": 21,
     "metadata": {},
     "output_type": "execute_result"
    }
   ],
   "source": [
    "generated_snippets_df=generated_snippets_df=generated_snippets_df.iloc[:,0:3]\n",
    "generated_snippets_df.head()"
   ]
  },
  {
   "cell_type": "code",
   "execution_count": 22,
   "id": "straight-pixel",
   "metadata": {},
   "outputs": [],
   "source": [
    "# snippets_data = data_snippets_df.to_json(orient='records',lines=True)"
   ]
  },
  {
   "cell_type": "code",
   "execution_count": 23,
   "id": "referenced-imaging",
   "metadata": {},
   "outputs": [
    {
     "data": {
      "text/html": [
       "<div>\n",
       "<style scoped>\n",
       "    .dataframe tbody tr th:only-of-type {\n",
       "        vertical-align: middle;\n",
       "    }\n",
       "\n",
       "    .dataframe tbody tr th {\n",
       "        vertical-align: top;\n",
       "    }\n",
       "\n",
       "    .dataframe thead th {\n",
       "        text-align: right;\n",
       "    }\n",
       "</style>\n",
       "<table border=\"1\" class=\"dataframe\">\n",
       "  <thead>\n",
       "    <tr style=\"text-align: right;\">\n",
       "      <th></th>\n",
       "      <th>topic</th>\n",
       "      <th>query</th>\n",
       "      <th>arg_id</th>\n",
       "      <th>sentences</th>\n",
       "      <th>snippet</th>\n",
       "    </tr>\n",
       "  </thead>\n",
       "  <tbody>\n",
       "    <tr>\n",
       "      <th>0</th>\n",
       "      <td>Abortion</td>\n",
       "      <td>abortion</td>\n",
       "      <td>abortion-01</td>\n",
       "      <td>[In 2011 there were about 730,322 abortions re...</td>\n",
       "      <td>[Women who already had abortion earlier in the...</td>\n",
       "    </tr>\n",
       "    <tr>\n",
       "      <th>1</th>\n",
       "      <td>Abortion</td>\n",
       "      <td>abortion</td>\n",
       "      <td>abortion-02</td>\n",
       "      <td>[Abortion is wrong!, Abortion Is gross!, Abort...</td>\n",
       "      <td>[Abortion is wrong!, Abortion is MURDER!!!!]</td>\n",
       "    </tr>\n",
       "  </tbody>\n",
       "</table>\n",
       "</div>"
      ],
      "text/plain": [
       "      topic     query       arg_id  \\\n",
       "0  Abortion  abortion  abortion-01   \n",
       "1  Abortion  abortion  abortion-02   \n",
       "\n",
       "                                           sentences  \\\n",
       "0  [In 2011 there were about 730,322 abortions re...   \n",
       "1  [Abortion is wrong!, Abortion Is gross!, Abort...   \n",
       "\n",
       "                                             snippet  \n",
       "0  [Women who already had abortion earlier in the...  \n",
       "1       [Abortion is wrong!, Abortion is MURDER!!!!]  "
      ]
     },
     "execution_count": 23,
     "metadata": {},
     "output_type": "execute_result"
    }
   ],
   "source": [
    "data_snippets_df.head(2)"
   ]
  },
  {
   "cell_type": "code",
   "execution_count": 24,
   "id": "earned-consideration",
   "metadata": {},
   "outputs": [
    {
     "data": {
      "text/html": [
       "<div>\n",
       "<style scoped>\n",
       "    .dataframe tbody tr th:only-of-type {\n",
       "        vertical-align: middle;\n",
       "    }\n",
       "\n",
       "    .dataframe tbody tr th {\n",
       "        vertical-align: top;\n",
       "    }\n",
       "\n",
       "    .dataframe thead th {\n",
       "        text-align: right;\n",
       "    }\n",
       "</style>\n",
       "<table border=\"1\" class=\"dataframe\">\n",
       "  <thead>\n",
       "    <tr style=\"text-align: right;\">\n",
       "      <th></th>\n",
       "      <th>id</th>\n",
       "      <th>snippet-title</th>\n",
       "      <th>snippets-text</th>\n",
       "    </tr>\n",
       "  </thead>\n",
       "  <tbody>\n",
       "    <tr>\n",
       "      <th>0</th>\n",
       "      <td>abortion-01</td>\n",
       "      <td>Women who already had abortion earlier in ther...</td>\n",
       "      <td>[Women who already had abortion earlier in the...</td>\n",
       "    </tr>\n",
       "    <tr>\n",
       "      <th>1</th>\n",
       "      <td>abortion-02</td>\n",
       "      <td>Abortion is wrong!</td>\n",
       "      <td>[Abortion is wrong!, Abortion Is gross!]</td>\n",
       "    </tr>\n",
       "  </tbody>\n",
       "</table>\n",
       "</div>"
      ],
      "text/plain": [
       "            id                                      snippet-title  \\\n",
       "0  abortion-01  Women who already had abortion earlier in ther...   \n",
       "1  abortion-02                                 Abortion is wrong!   \n",
       "\n",
       "                                       snippets-text  \n",
       "0  [Women who already had abortion earlier in the...  \n",
       "1           [Abortion is wrong!, Abortion Is gross!]  "
      ]
     },
     "execution_count": 24,
     "metadata": {},
     "output_type": "execute_result"
    }
   ],
   "source": [
    "generated_snippets_df.head(2)"
   ]
  },
  {
   "cell_type": "code",
   "execution_count": 25,
   "id": "declared-insulin",
   "metadata": {},
   "outputs": [],
   "source": [
    "generated_snippets_df.insert(2,'generated_snippets',data_snippets_df['snippet'])"
   ]
  },
  {
   "cell_type": "code",
   "execution_count": 26,
   "id": "tracked-snapshot",
   "metadata": {},
   "outputs": [
    {
     "data": {
      "text/html": [
       "<div>\n",
       "<style scoped>\n",
       "    .dataframe tbody tr th:only-of-type {\n",
       "        vertical-align: middle;\n",
       "    }\n",
       "\n",
       "    .dataframe tbody tr th {\n",
       "        vertical-align: top;\n",
       "    }\n",
       "\n",
       "    .dataframe thead th {\n",
       "        text-align: right;\n",
       "    }\n",
       "</style>\n",
       "<table border=\"1\" class=\"dataframe\">\n",
       "  <thead>\n",
       "    <tr style=\"text-align: right;\">\n",
       "      <th></th>\n",
       "      <th>id</th>\n",
       "      <th>snippet-title</th>\n",
       "      <th>generated_snippets</th>\n",
       "      <th>snippets-text</th>\n",
       "    </tr>\n",
       "  </thead>\n",
       "  <tbody>\n",
       "    <tr>\n",
       "      <th>0</th>\n",
       "      <td>abortion-01</td>\n",
       "      <td>Women who already had abortion earlier in ther...</td>\n",
       "      <td>[Women who already had abortion earlier in the...</td>\n",
       "      <td>[Women who already had abortion earlier in the...</td>\n",
       "    </tr>\n",
       "    <tr>\n",
       "      <th>1</th>\n",
       "      <td>abortion-02</td>\n",
       "      <td>Abortion is wrong!</td>\n",
       "      <td>[Abortion is wrong!, Abortion is MURDER!!!!]</td>\n",
       "      <td>[Abortion is wrong!, Abortion Is gross!]</td>\n",
       "    </tr>\n",
       "  </tbody>\n",
       "</table>\n",
       "</div>"
      ],
      "text/plain": [
       "            id                                      snippet-title  \\\n",
       "0  abortion-01  Women who already had abortion earlier in ther...   \n",
       "1  abortion-02                                 Abortion is wrong!   \n",
       "\n",
       "                                  generated_snippets  \\\n",
       "0  [Women who already had abortion earlier in the...   \n",
       "1       [Abortion is wrong!, Abortion is MURDER!!!!]   \n",
       "\n",
       "                                       snippets-text  \n",
       "0  [Women who already had abortion earlier in the...  \n",
       "1           [Abortion is wrong!, Abortion Is gross!]  "
      ]
     },
     "execution_count": 26,
     "metadata": {},
     "output_type": "execute_result"
    }
   ],
   "source": [
    "generated_snippets_df.head(2)"
   ]
  },
  {
   "cell_type": "code",
   "execution_count": 27,
   "id": "hydraulic-ballot",
   "metadata": {},
   "outputs": [],
   "source": [
    "count = 0\n",
    "for index, row in generated_snippets_df.iterrows():\n",
    "                # x= dict object of aspect detected\n",
    "                snippets_detected=row['generated_snippets']\n",
    "                snippets_answer=row['snippets-text']\n",
    "                #print(other_args_dict)\n",
    "                for x in snippets_answer:\n",
    "                    for y in snippets_detected:\n",
    "                        #print(x)\n",
    "                        #print(y)\n",
    "                        #print(\"-------------\")\n",
    "                        if x==y:\n",
    "                            count= count + 1\n",
    "                            #print('match')"
   ]
  },
  {
   "cell_type": "code",
   "execution_count": 28,
   "id": "comprehensive-champagne",
   "metadata": {},
   "outputs": [
    {
     "data": {
      "text/plain": [
       "53"
      ]
     },
     "execution_count": 28,
     "metadata": {},
     "output_type": "execute_result"
    }
   ],
   "source": [
    "count"
   ]
  },
  {
   "cell_type": "code",
   "execution_count": null,
   "id": "hollow-greensboro",
   "metadata": {},
   "outputs": [],
   "source": [
    "accuracy =(100.0 * count)/ ( 2 * len(generated_snippets))\n",
    "accuracy"
   ]
  },
  {
   "cell_type": "code",
   "execution_count": null,
   "id": "critical-shepherd",
   "metadata": {},
   "outputs": [],
   "source": [
    "#import pickle5 as pickle\n",
    "#with open(\"data/argumentAspectsDataset_df_re.pkl\", \"rb\") as fh:\n",
    "  #Arguments_df = pickle.load(fh)"
   ]
  },
  {
   "cell_type": "code",
   "execution_count": null,
   "id": "logical-former",
   "metadata": {},
   "outputs": [],
   "source": [
    "import pandas as pd \n",
    "Arguments_df = pd.read_pickle('data/ArgumentsDatasets.pkl')\n",
    "Arguments_df.head(2)"
   ]
  },
  {
   "cell_type": "code",
   "execution_count": null,
   "id": "declared-external",
   "metadata": {},
   "outputs": [],
   "source": [
    "Arguments_df['arg_id'].nunique()"
   ]
  },
  {
   "cell_type": "code",
   "execution_count": null,
   "id": "changing-bermuda",
   "metadata": {},
   "outputs": [],
   "source": [
    "arguments_datasets_aspects = Arguments_df['dict_weighted_args_dataset_list_re']\n",
    "type(arguments_datasets_aspects[0])"
   ]
  },
  {
   "cell_type": "code",
   "execution_count": null,
   "id": "flying-discipline",
   "metadata": {},
   "outputs": [],
   "source": [
    "# from collections import OrderedDict\n",
    "argument_similar_ids=[]\n",
    "argument_similar_ids_count=[]\n",
    "\n",
    "for dict_aspects in arg_aspects:\n",
    "    print(dict_aspects)\n",
    "    score=0\n",
    "    arg_id_score= dict()\n",
    "    arg_id_list=[]\n",
    "\n",
    "\n",
    "\n",
    "    for aspect in dict_aspects:\n",
    "        aspect_word_count=len(aspect.split())\n",
    "        aspect_weight=dict_aspects[aspect]\n",
    "        if aspect_weight >= 0.33:\n",
    "            \n",
    "            for index, row in Arguments_df.iterrows():\n",
    "                    # x= dict object of aspect detected\n",
    "                    other_args_dict= row['dict_weighted_args_dataset_list_re']\n",
    "\n",
    "                    if aspect in other_args_dict and other_args_dict[aspect] >0.25:\n",
    "                        arg_id=row['arg_id']\n",
    "                        if arg_id in arg_id_score:\n",
    "                            # print('match found')\n",
    "                            # print(other_args_dict[aspect])\n",
    "                        \n",
    "                            # print(score)\n",
    "                            # print(arg_id)\n",
    "                            arg_id_score[arg_id]= score + other_args_dict[aspect]\n",
    "                        #other_args_dict[aspect]= round(other_args_dict[aspect],2)\n",
    "                        else:\n",
    "\n",
    "                            score=other_args_dict[aspect]\n",
    "                            arg_id_score[arg_id]=score\n",
    "                            \n",
    "    arg_id_score=dict(sorted(arg_id_score.items(), key=lambda item: item[1],reverse=True))\n",
    "    \n",
    "    #print(arg_id_score)\n",
    "    argument_similar_ids.append(arg_id_score)\n",
    "    #print(arg_id_score)\n",
    "    \n",
    "    argument_similar_ids_count.append(len(arg_id_score))\n",
    "    print(len(arg_id_score))"
   ]
  },
  {
   "cell_type": "code",
   "execution_count": null,
   "id": "frozen-thunder",
   "metadata": {},
   "outputs": [],
   "source": [
    "print(argument_similar_ids_count)"
   ]
  },
  {
   "cell_type": "code",
   "execution_count": null,
   "id": "respiratory-moldova",
   "metadata": {},
   "outputs": [],
   "source": [
    "import string\n",
    "string.punctuation"
   ]
  },
  {
   "cell_type": "code",
   "execution_count": null,
   "id": "fitting-editor",
   "metadata": {},
   "outputs": [],
   "source": [
    "f = open(\"data\\WikiAspects.txt\", encoding='utf8')\n",
    "aspect_list = f.read().lower().split('\\n')\n",
    "len(aspect_list)"
   ]
  },
  {
   "cell_type": "code",
   "execution_count": null,
   "id": "after-practice",
   "metadata": {},
   "outputs": [],
   "source": [
    "len(argument_similar_ids)"
   ]
  },
  {
   "cell_type": "code",
   "execution_count": null,
   "id": "previous-skill",
   "metadata": {},
   "outputs": [],
   "source": [
    "len(argument_similar_ids[0])"
   ]
  },
  {
   "cell_type": "code",
   "execution_count": null,
   "id": "framed-slovenia",
   "metadata": {},
   "outputs": [],
   "source": [
    "ArgumentativeText_args_list =[]\n",
    "for argument_similar_ids_dict in argument_similar_ids:\n",
    "    #print(len(argument_similar_ids_list))\n",
    "    # take first 50 arguments\n",
    "    argument_similar_ids_list = list(argument_similar_ids_dict.keys())\n",
    "    if len(argument_similar_ids_list) <= 50: \n",
    "        argument_similar_ids_top = argument_similar_ids_list\n",
    "    else:\n",
    "        argument_similar_ids_top = argument_similar_ids_list[:50]  \n",
    "        # print(type(argument_similar_ids_top)) \n",
    "    # print(len(argument_similar_ids_top))\n",
    "    ArgumentativeText_args = []\n",
    "    for argument_similar_id in argument_similar_ids_top:\n",
    "        # print(argument_similar_id)\n",
    "        ArgumentativeText = Arguments_df['text'][argument_similar_id] + Arguments_df['conclusion'][argument_similar_id]\n",
    "        ArgumentativeText_args.append(ArgumentativeText)\n",
    "    ArgumentativeText_args_list.append(ArgumentativeText_args)\n"
   ]
  },
  {
   "cell_type": "code",
   "execution_count": null,
   "id": "spanish-illustration",
   "metadata": {},
   "outputs": [],
   "source": [
    "len(ArgumentativeText_args_list)"
   ]
  },
  {
   "cell_type": "code",
   "execution_count": null,
   "id": "angry-music",
   "metadata": {},
   "outputs": [],
   "source": [
    "ArgumentativeText_args_list[-1]"
   ]
  },
  {
   "cell_type": "code",
   "execution_count": null,
   "id": "dutch-quantum",
   "metadata": {},
   "outputs": [],
   "source": [
    " Arguments_df['conclusion'][10939]"
   ]
  },
  {
   "cell_type": "code",
   "execution_count": null,
   "id": "pregnant-vintage",
   "metadata": {},
   "outputs": [],
   "source": [
    "Arguments_df['conclusion'][10939] + Arguments_df['text'][10939] "
   ]
  }
 ],
 "metadata": {
  "kernelspec": {
   "display_name": "Python 3",
   "language": "python",
   "name": "python3"
  },
  "language_info": {
   "codemirror_mode": {
    "name": "ipython",
    "version": 3
   },
   "file_extension": ".py",
   "mimetype": "text/x-python",
   "name": "python",
   "nbconvert_exporter": "python",
   "pygments_lexer": "ipython3",
   "version": "3.7.10"
  }
 },
 "nbformat": 4,
 "nbformat_minor": 5
}
