{
 "cells": [
  {
   "cell_type": "code",
   "execution_count": null,
   "id": "latter-georgia",
   "metadata": {
    "pycharm": {
     "is_executing": true
    }
   },
   "outputs": [],
   "source": [
    "from pathlib import Path\n",
    "import os\n",
    "import json\n",
    "script_dir = os.path.dirname(Path().absolute())\n",
    "generated_snippets = json.load(open(os.path.join(script_dir, \"ExtractiveSnipp/data/snippetsGenerated.txt\")))\n",
    "data_snippets = json.load(open(os.path.join(script_dir, \"ExtractiveSnipp/data/snippets.txt\")))\n"
   ]
  },
  {
   "cell_type": "code",
   "execution_count": null,
   "id": "comfortable-talent",
   "metadata": {
    "pycharm": {
     "is_executing": true
    }
   },
   "outputs": [],
   "source": [
    "generated_snippets[0:2]"
   ]
  },
  {
   "cell_type": "code",
   "execution_count": null,
   "id": "encouraging-compression",
   "metadata": {
    "pycharm": {
     "is_executing": true
    }
   },
   "outputs": [],
   "source": [
    "arg_aspects = []\n",
    "for arguments in generated_snippets:\n",
    "    arg_aspects.append(arguments['aspects'])\n",
    "len(arg_aspects)    "
   ]
  },
  {
   "cell_type": "code",
   "execution_count": null,
   "id": "progressive-sheet",
   "metadata": {
    "pycharm": {
     "is_executing": true
    }
   },
   "outputs": [],
   "source": [
    "len(generated_snippets)"
   ]
  },
  {
   "cell_type": "code",
   "execution_count": null,
   "id": "alive-thong",
   "metadata": {
    "pycharm": {
     "is_executing": true
    }
   },
   "outputs": [],
   "source": [
    "len(data_snippets)"
   ]
  },
  {
   "cell_type": "code",
   "execution_count": null,
   "id": "confirmed-vegetation",
   "metadata": {
    "pycharm": {
     "is_executing": true
    }
   },
   "outputs": [],
   "source": [
    "type(data_snippets)"
   ]
  },
  {
   "cell_type": "code",
   "execution_count": null,
   "id": "chemical-summer",
   "metadata": {
    "pycharm": {
     "is_executing": true
    }
   },
   "outputs": [],
   "source": [
    "count = 0\n",
    "data_snippets_filtered = []\n",
    "for argument in data_snippets:\n",
    "\n",
    "    # print(argument['sentences'])\n",
    "    if len(argument['sentences']) > 2:\n",
    "        data_snippets_filtered.append(argument)\n",
    "        count = count + 1 \n",
    "        \n",
    "        \n",
    "        \n",
    "print(count)"
   ]
  },
  {
   "cell_type": "code",
   "execution_count": null,
   "id": "forced-depth",
   "metadata": {
    "pycharm": {
     "is_executing": true
    }
   },
   "outputs": [],
   "source": [
    "data_snippets[0:2]"
   ]
  },
  {
   "cell_type": "code",
   "execution_count": null,
   "id": "peaceful-salmon",
   "metadata": {
    "pycharm": {
     "is_executing": true
    }
   },
   "outputs": [],
   "source": [
    "len(data_snippets)"
   ]
  },
  {
   "cell_type": "code",
   "execution_count": null,
   "id": "amateur-weekly",
   "metadata": {
    "pycharm": {
     "is_executing": true
    }
   },
   "outputs": [],
   "source": [
    "count = 0\n",
    "for argument in data_snippets:\n",
    "    if len(argument['sentences']) <= 2:\n",
    "        count +=1\n",
    "print(count)      "
   ]
  },
  {
   "cell_type": "code",
   "execution_count": null,
   "id": "moved-flashing",
   "metadata": {
    "pycharm": {
     "is_executing": true
    }
   },
   "outputs": [],
   "source": [
    "len(data_snippets)"
   ]
  },
  {
   "cell_type": "code",
   "execution_count": null,
   "id": "turkish-advertising",
   "metadata": {
    "pycharm": {
     "is_executing": true
    }
   },
   "outputs": [],
   "source": [
    "len(data_snippets)"
   ]
  },
  {
   "cell_type": "code",
   "execution_count": null,
   "id": "composite-shape",
   "metadata": {
    "pycharm": {
     "is_executing": true
    }
   },
   "outputs": [],
   "source": [
    "import pandas as pd\n",
    "data_snippets_df = pd.json_normalize(data_snippets_filtered)\n",
    "generated_snippets_df = pd.json_normalize(generated_snippets)\n"
   ]
  },
  {
   "cell_type": "code",
   "execution_count": null,
   "id": "changing-matthew",
   "metadata": {
    "pycharm": {
     "is_executing": true
    }
   },
   "outputs": [],
   "source": [
    "generated_snippets_df[0:2]"
   ]
  },
  {
   "cell_type": "code",
   "execution_count": null,
   "id": "bridal-characteristic",
   "metadata": {
    "pycharm": {
     "is_executing": true
    }
   },
   "outputs": [],
   "source": [
    "data_snippets_df.head()"
   ]
  },
  {
   "cell_type": "code",
   "execution_count": null,
   "id": "corresponding-apparatus",
   "metadata": {
    "pycharm": {
     "is_executing": true
    }
   },
   "outputs": [],
   "source": [
    "len(data_snippets_df)"
   ]
  },
  {
   "cell_type": "code",
   "execution_count": null,
   "id": "digital-northeast",
   "metadata": {
    "pycharm": {
     "is_executing": true
    }
   },
   "outputs": [],
   "source": [
    "generated_snippets_df=generated_snippets_df=generated_snippets_df.iloc[:,0:3]\n",
    "generated_snippets_df.head()"
   ]
  },
  {
   "cell_type": "code",
   "execution_count": null,
   "id": "frank-harrison",
   "metadata": {
    "pycharm": {
     "is_executing": true
    }
   },
   "outputs": [],
   "source": []
  },
  {
   "cell_type": "code",
   "execution_count": null,
   "id": "straight-pixel",
   "metadata": {
    "pycharm": {
     "is_executing": true
    }
   },
   "outputs": [],
   "source": [
    "# snippets_data = data_snippets_df.to_json(orient='records',lines=True)"
   ]
  },
  {
   "cell_type": "code",
   "execution_count": null,
   "id": "referenced-imaging",
   "metadata": {
    "pycharm": {
     "is_executing": true
    }
   },
   "outputs": [],
   "source": [
    "data_snippets_df.head(2)"
   ]
  },
  {
   "cell_type": "code",
   "execution_count": null,
   "id": "earned-consideration",
   "metadata": {
    "pycharm": {
     "is_executing": true
    }
   },
   "outputs": [],
   "source": [
    "generated_snippets_df.head(2)"
   ]
  },
  {
   "cell_type": "code",
   "execution_count": null,
   "id": "declared-insulin",
   "metadata": {
    "pycharm": {
     "is_executing": true
    }
   },
   "outputs": [],
   "source": [
    "generated_snippets_df.insert(2,'generated_snippets',data_snippets_df['snippet'])"
   ]
  },
  {
   "cell_type": "code",
   "execution_count": null,
   "id": "tracked-snapshot",
   "metadata": {
    "pycharm": {
     "is_executing": true
    }
   },
   "outputs": [],
   "source": [
    "generated_snippets_df.head(2)"
   ]
  },
  {
   "cell_type": "code",
   "execution_count": null,
   "id": "hydraulic-ballot",
   "metadata": {
    "pycharm": {
     "is_executing": true
    }
   },
   "outputs": [],
   "source": [
    "count = 0\n",
    "for index, row in generated_snippets_df.iterrows():\n",
    "                # x= dict object of aspect detected\n",
    "                snippets_detected=row['generated_snippets']\n",
    "                snippets_answer=row['snippets-text']\n",
    "                #print(other_args_dict)\n",
    "                for x in snippets_answer:\n",
    "                    for y in snippets_detected:\n",
    "                        #print(x)\n",
    "                        #print(y)\n",
    "                        #print(\"-------------\")\n",
    "                        if x==y:\n",
    "                            count= count + 1\n",
    "                            #print('match')"
   ]
  },
  {
   "cell_type": "code",
   "execution_count": null,
   "id": "comprehensive-champagne",
   "metadata": {
    "pycharm": {
     "is_executing": true
    }
   },
   "outputs": [],
   "source": [
    "count"
   ]
  },
  {
   "cell_type": "code",
   "execution_count": null,
   "id": "hollow-greensboro",
   "metadata": {
    "pycharm": {
     "is_executing": true
    }
   },
   "outputs": [],
   "source": [
    "accuracy =(100.0 * count)/ ( 2 * len(generated_snippets))\n",
    "accuracy"
   ]
  },
  {
   "cell_type": "code",
   "execution_count": null,
   "id": "critical-shepherd",
   "metadata": {
    "pycharm": {
     "is_executing": true
    }
   },
   "outputs": [],
   "source": [
    "#import pickle5 as pickle\n",
    "#with open(\"data/argumentAspectsDataset_df_re.pkl\", \"rb\") as fh:\n",
    "  #Arguments_df = pickle.load(fh)"
   ]
  },
  {
   "cell_type": "code",
   "execution_count": null,
   "id": "logical-former",
   "metadata": {
    "pycharm": {
     "is_executing": true
    }
   },
   "outputs": [],
   "source": [
    "import pandas as pd \n",
    "Arguments_df = pd.read_pickle('data/ArgumentsDatasets.pkl')\n",
    "Arguments_df.head(2)"
   ]
  },
  {
   "cell_type": "code",
   "execution_count": null,
   "id": "declared-external",
   "metadata": {
    "pycharm": {
     "is_executing": true
    }
   },
   "outputs": [],
   "source": [
    "Arguments_df['arg_id'].nunique()"
   ]
  },
  {
   "cell_type": "code",
   "execution_count": null,
   "id": "changing-bermuda",
   "metadata": {
    "pycharm": {
     "is_executing": true
    }
   },
   "outputs": [],
   "source": [
    "arguments_datasets_aspects = Arguments_df['dict_weighted_args_dataset_list_re']\n",
    "type(arguments_datasets_aspects[0])"
   ]
  },
  {
   "cell_type": "code",
   "execution_count": null,
   "id": "flying-discipline",
   "metadata": {
    "pycharm": {
     "is_executing": true
    }
   },
   "outputs": [],
   "source": [
    "# from collections import OrderedDict\n",
    "argument_similar_ids=[]\n",
    "argument_similar_ids_count=[]\n",
    "\n",
    "for dict_aspects in arg_aspects:\n",
    "    print(dict_aspects)\n",
    "    score=0\n",
    "    arg_id_score= dict()\n",
    "    arg_id_list=[]\n",
    "\n",
    "\n",
    "\n",
    "    for aspect in dict_aspects:\n",
    "        aspect_word_count=len(aspect.split())\n",
    "        aspect_weight=dict_aspects[aspect]\n",
    "        if aspect_weight >= 0.33:\n",
    "            \n",
    "            for index, row in Arguments_df.iterrows():\n",
    "                    # x= dict object of aspect detected\n",
    "                    other_args_dict= row['dict_weighted_args_dataset_list_re']\n",
    "\n",
    "                    if aspect in other_args_dict and other_args_dict[aspect] >0.25:\n",
    "                        arg_id=row['arg_id']\n",
    "                        if arg_id in arg_id_score:\n",
    "                            # print('match found')\n",
    "                            # print(other_args_dict[aspect])\n",
    "                        \n",
    "                            # print(score)\n",
    "                            # print(arg_id)\n",
    "                            arg_id_score[arg_id]= score + other_args_dict[aspect]\n",
    "                        #other_args_dict[aspect]= round(other_args_dict[aspect],2)\n",
    "                        else:\n",
    "\n",
    "                            score=other_args_dict[aspect]\n",
    "                            arg_id_score[arg_id]=score\n",
    "                            \n",
    "    arg_id_score=dict(sorted(arg_id_score.items(), key=lambda item: item[1],reverse=True))\n",
    "    \n",
    "    #print(arg_id_score)\n",
    "    argument_similar_ids.append(arg_id_score)\n",
    "    #print(arg_id_score)\n",
    "    \n",
    "    argument_similar_ids_count.append(len(arg_id_score))\n",
    "    print(len(arg_id_score))"
   ]
  },
  {
   "cell_type": "code",
   "execution_count": null,
   "id": "frozen-thunder",
   "metadata": {
    "pycharm": {
     "is_executing": true
    }
   },
   "outputs": [],
   "source": [
    "print(argument_similar_ids_count)"
   ]
  },
  {
   "cell_type": "code",
   "execution_count": null,
   "id": "respiratory-moldova",
   "metadata": {
    "pycharm": {
     "is_executing": true
    }
   },
   "outputs": [],
   "source": [
    "import string\n",
    "string.punctuation"
   ]
  },
  {
   "cell_type": "code",
   "execution_count": null,
   "id": "fitting-editor",
   "metadata": {
    "pycharm": {
     "is_executing": true
    }
   },
   "outputs": [],
   "source": [
    "f = open(\"data\\WikiAspects.txt\", encoding='utf8')\n",
    "aspect_list = f.read().lower().split('\\n')\n",
    "len(aspect_list)"
   ]
  },
  {
   "cell_type": "code",
   "execution_count": null,
   "id": "after-practice",
   "metadata": {
    "pycharm": {
     "is_executing": true
    }
   },
   "outputs": [],
   "source": [
    "len(argument_similar_ids)"
   ]
  },
  {
   "cell_type": "code",
   "execution_count": null,
   "id": "previous-skill",
   "metadata": {
    "pycharm": {
     "is_executing": true
    }
   },
   "outputs": [],
   "source": [
    "len(argument_similar_ids[0])"
   ]
  },
  {
   "cell_type": "code",
   "execution_count": null,
   "id": "framed-slovenia",
   "metadata": {
    "pycharm": {
     "is_executing": true
    }
   },
   "outputs": [],
   "source": [
    "ArgumentativeText_args_list =[]\n",
    "for argument_similar_ids_dict in argument_similar_ids:\n",
    "    #print(len(argument_similar_ids_list))\n",
    "    # take first 50 arguments\n",
    "    argument_similar_ids_list = list(argument_similar_ids_dict.keys())\n",
    "    if len(argument_similar_ids_list) <= 50: \n",
    "        argument_similar_ids_top = argument_similar_ids_list\n",
    "    else:\n",
    "        argument_similar_ids_top = argument_similar_ids_list[:50]  \n",
    "        # print(type(argument_similar_ids_top)) \n",
    "    # print(len(argument_similar_ids_top))\n",
    "    ArgumentativeText_args = []\n",
    "    for argument_similar_id in argument_similar_ids_top:\n",
    "        # print(argument_similar_id)\n",
    "        ArgumentativeText = Arguments_df['text'][argument_similar_id] + Arguments_df['conclusion'][argument_similar_id]\n",
    "        ArgumentativeText_args.append(ArgumentativeText)\n",
    "    ArgumentativeText_args_list.append(ArgumentativeText_args)\n"
   ]
  },
  {
   "cell_type": "code",
   "execution_count": null,
   "id": "spanish-illustration",
   "metadata": {
    "pycharm": {
     "is_executing": true
    }
   },
   "outputs": [],
   "source": [
    "len(ArgumentativeText_args_list)"
   ]
  },
  {
   "cell_type": "code",
   "execution_count": null,
   "id": "angry-music",
   "metadata": {
    "pycharm": {
     "is_executing": true
    }
   },
   "outputs": [],
   "source": [
    "ArgumentativeText_args_list[-1]"
   ]
  },
  {
   "cell_type": "code",
   "execution_count": null,
   "id": "dutch-quantum",
   "metadata": {
    "pycharm": {
     "is_executing": true
    }
   },
   "outputs": [],
   "source": [
    " Arguments_df['conclusion'][10939]"
   ]
  },
  {
   "cell_type": "code",
   "execution_count": null,
   "id": "pregnant-vintage",
   "metadata": {
    "pycharm": {
     "is_executing": true
    }
   },
   "outputs": [],
   "source": [
    "Arguments_df['conclusion'][10939] + Arguments_df['text'][10939] "
   ]
  }
 ],
 "metadata": {
  "kernelspec": {
   "display_name": "Python 3",
   "language": "python",
   "name": "python3"
  },
  "language_info": {
   "codemirror_mode": {
    "name": "ipython",
    "version": 3
   },
   "file_extension": ".py",
   "mimetype": "text/x-python",
   "name": "python",
   "nbconvert_exporter": "python",
   "pygments_lexer": "ipython3",
   "version": "3.7.10"
  }
 },
 "nbformat": 4,
 "nbformat_minor": 5
}