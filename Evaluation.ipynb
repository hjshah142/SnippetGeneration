{
 "cells": [
  {
   "cell_type": "code",
   "execution_count": 1,
   "id": "latter-georgia",
   "metadata": {},
   "outputs": [],
   "source": [
    "from pathlib import Path\n",
    "import os\n",
    "import json\n",
    "script_dir = os.path.dirname(Path().absolute())\n",
    "generated_snippets = json.load(open(os.path.join(script_dir, \"ExtractiveSnipp/data/snippetsGenerated.txt\")))\n",
    "data_snippets = json.load(open(os.path.join(script_dir, \"ExtractiveSnipp/data/snippets.txt\")))"
   ]
  },
  {
   "cell_type": "code",
   "execution_count": 2,
   "id": "5994f5a7",
   "metadata": {},
   "outputs": [
    {
     "name": "stdout",
     "output_type": "stream",
     "text": [
      "100\n",
      "77\n"
     ]
    }
   ],
   "source": [
    "for idx, arguments in enumerate(data_snippets):\n",
    "    arguments['index'] = idx\n",
    "    # print(arguments)\n",
    "\n",
    "# removing arguments with sentences less then 3\n",
    "print(len(data_snippets))\n",
    "count = 0\n",
    "snipeet_senteces_len =  []\n",
    "data_snippets_filtered = []\n",
    "for argument_x in data_snippets:\n",
    "    \n",
    "    snip_len = len(argument_x['sentences'])\n",
    "    snipeet_senteces_len.append(snip_len)\n",
    "    if snip_len >= 3:\n",
    "        data_snippets_filtered.append(argument_x)\n",
    "        count = count + 1\n",
    "\n",
    "print(count)"
   ]
  },
  {
   "cell_type": "code",
   "execution_count": 31,
   "id": "pleasant-statement",
   "metadata": {},
   "outputs": [
    {
     "data": {
      "image/png": "[encoded data removed]",
      "text/plain": [
       "<Figure size 1332x756 with 1 Axes>"
      ]
     },
     "metadata": {
      "needs_background": "light"
     },
     "output_type": "display_data"
    }
   ],
   "source": [
    "from matplotlib import pyplot as plt\n",
    "import numpy as np\n",
    "plt.bar(snipeet_senteces_len, np.arange(1,101),log=True)\n",
    "plt.ylabel('Number of senteces in argument')\n",
    "plt.xlabel('Argument')\n",
    "fig = plt.gcf()\n",
    "fig.set_size_inches(18.5, 10.5)\n",
    "fig.savefig('test2png.jpg', dpi=100)\n"
   ]
  },
  {
   "cell_type": "code",
   "execution_count": 52,
   "id": "swiss-polymer",
   "metadata": {},
   "outputs": [
    {
     "data": {
      "image/png": "[encoded data removed]",
      "text/plain": [
       "<Figure size 432x288 with 1 Axes>"
      ]
     },
     "metadata": {
      "needs_background": "light"
     },
     "output_type": "display_data"
    }
   ],
   "source": [
    "plt.hist(snipeet_senteces_len, )\n",
    "plt.xlabel('Length of sentences in argument')\n",
    "plt.ylabel('Frequecny')\n",
    "fig.savefig('test2png.jpeg', dpi=100)\n",
    "fig = plt.gcf()\n",
    "\n"
   ]
  },
  {
   "cell_type": "code",
   "execution_count": 46,
   "id": "c87432e4",
   "metadata": {},
   "outputs": [
    {
     "data": {
      "text/plain": [
       "Text(0, 0.5, 'Length of the sentences')"
      ]
     },
     "execution_count": 46,
     "metadata": {},
     "output_type": "execute_result"
    },
    {
     "data": {
      "image/png": "[encoded data removed]",
      "text/plain": [
       "<Figure size 432x288 with 1 Axes>"
      ]
     },
     "metadata": {
      "needs_background": "light"
     },
     "output_type": "display_data"
    }
   ],
   "source": [
    "import pandas as pd\n",
    "fig =pd.Series(snipeet_senteces_len).hist(bins =9)\n",
    "\n",
    "fig.set_xlabel(\"Lengh\")\n",
    "fig.set_ylabel(\"Length of the sentences\")"
   ]
  },
  {
   "cell_type": "code",
   "execution_count": 74,
   "id": "comfortable-talent",
   "metadata": {},
   "outputs": [
    {
     "data": {
      "text/plain": [
       "[{'snippet-title': 'Women who already had abortion earlier in there life time have abortion again.',\n",
       "  'snippets-text': ['Women who already had abortion earlier in there life time have abortion again.',\n",
       "   'At the age of 45 a women will have at least one abortion.'],\n",
       "  'aspects': {'abortion': 0.5, 'women': 0.5},\n",
       "  'sentences': \"In 2011 there were about 730,322 abortions reported to the centers for disease control. There are about 1.7% of abortion of women's ages from 15-44 each year. Women who already had abortion earlier in there life time have abortion again. At the age of 45 a women will have at least one abortion. By the 12th week of pregnancies 88.7% of women have abortion. In the U.S. black women are 3.3 times likely to have an abortion than white women.\",\n",
       "  'id': 'abortion-01',\n",
       "  'Argument :': \"In 2011 there were about 730,322 abortions reported to the centers for disease control. There are about 1.7% of abortion of women's ages from 15-44 each year. Women who already had abortion earlier in there life time have abortion again. At the age of 45 a women will have at least one abortion. By the 12th week of pregnancies 88.7% of women have abortion. In the U.S. black women are 3.3 times likely to have an abortion than white women.\",\n",
       "  'snippet 2': 'Women who already had abortion earlier in there life time have abortion again. At the age of 45 a women will have at least one abortion.'},\n",
       " {'snippet-title': 'Abortion is MURDER!!!!',\n",
       "  'snippets-text': ['Abortion is wrong!', 'Abortion is MURDER!!!!'],\n",
       "  'aspects': {'abortion': 1.0},\n",
       "  'sentences': 'Abortion is wrong! Abortion Is gross! Abortion is MURDER!!!!',\n",
       "  'id': 'abortion-02',\n",
       "  'Argument :': 'Abortion is wrong! Abortion Is gross! Abortion is MURDER!!!!',\n",
       "  'snippet 2': 'Abortion is wrong! Abortion is MURDER!!!!'}]"
      ]
     },
     "execution_count": 74,
     "metadata": {},
     "output_type": "execute_result"
    }
   ],
   "source": [
    "generated_snippets[0:2]"
   ]
  },
  {
   "cell_type": "code",
   "execution_count": 75,
   "id": "encouraging-compression",
   "metadata": {},
   "outputs": [
    {
     "data": {
      "text/plain": [
       "50"
      ]
     },
     "execution_count": 75,
     "metadata": {},
     "output_type": "execute_result"
    }
   ],
   "source": [
    "arg_aspects = []\n",
    "for arguments in generated_snippets:\n",
    "    arg_aspects.append(arguments['aspects'])\n",
    "len(arg_aspects)    "
   ]
  },
  {
   "cell_type": "code",
   "execution_count": 76,
   "id": "progressive-sheet",
   "metadata": {},
   "outputs": [
    {
     "data": {
      "text/plain": [
       "50"
      ]
     },
     "execution_count": 76,
     "metadata": {},
     "output_type": "execute_result"
    }
   ],
   "source": [
    "len(generated_snippets)"
   ]
  },
  {
   "cell_type": "code",
   "execution_count": 77,
   "id": "alive-thong",
   "metadata": {},
   "outputs": [
    {
     "data": {
      "text/plain": [
       "100"
      ]
     },
     "execution_count": 77,
     "metadata": {},
     "output_type": "execute_result"
    }
   ],
   "source": [
    "len(data_snippets)"
   ]
  },
  {
   "cell_type": "code",
   "execution_count": 79,
   "id": "chemical-summer",
   "metadata": {},
   "outputs": [
    {
     "name": "stdout",
     "output_type": "stream",
     "text": [
      "77\n"
     ]
    }
   ],
   "source": [
    "count = 0\n",
    "data_snippets_filtered = []\n",
    "for argument in data_snippets:\n",
    "\n",
    "    # print(argument['sentences'])\n",
    "    if len(argument['sentences']) > 2:\n",
    "        data_snippets_filtered.append(argument)\n",
    "        count = count + 1 \n",
    "        \n",
    "        \n",
    "        \n",
    "print(count)"
   ]
  },
  {
   "cell_type": "code",
   "execution_count": 80,
   "id": "oriented-functionality",
   "metadata": {},
   "outputs": [],
   "source": [
    "from sklearn.model_selection import train_test_split\n",
    "dev_args_set = ['feminism','death_penalty', 'brexit']\n",
    "test_args =[]\n",
    "dev_args  =[]\n",
    "for args in data_snippets_filtered:\n",
    "    if args['query'] in dev_args_set:\n",
    "        dev_args.append(args)\n",
    "    else:\n",
    "        test_args.append(args)"
   ]
  },
  {
   "cell_type": "code",
   "execution_count": 81,
   "id": "higher-madison",
   "metadata": {},
   "outputs": [
    {
     "data": {
      "text/plain": [
       "50"
      ]
     },
     "execution_count": 81,
     "metadata": {},
     "output_type": "execute_result"
    }
   ],
   "source": [
    "len(test_args)"
   ]
  },
  {
   "cell_type": "code",
   "execution_count": 82,
   "id": "forced-depth",
   "metadata": {},
   "outputs": [
    {
     "data": {
      "text/plain": [
       "[{'topic': 'Abortion',\n",
       "  'query': 'abortion',\n",
       "  'arg_id': 'abortion-01',\n",
       "  'sentences': ['In 2011 there were about 730,322 abortions reported to the centers for disease control.',\n",
       "   \"There are about 1.7% of abortion of women's ages from 15-44 each year.\",\n",
       "   'Women who already had abortion earlier in there life time have abortion again.',\n",
       "   'At the age of 45 a women will have at least one abortion.',\n",
       "   'By the 12th week of pregnancies 88.7% of women have abortion.',\n",
       "   'In the U.S. black women are 3.3 times likely to have an abortion than white women.'],\n",
       "  'snippet': ['Women who already had abortion earlier in there life time have abortion again.',\n",
       "   'At the age of 45 a women will have at least one abortion.'],\n",
       "  'index': 0},\n",
       " {'topic': 'Abortion',\n",
       "  'query': 'abortion',\n",
       "  'arg_id': 'abortion-02',\n",
       "  'sentences': ['Abortion is wrong!',\n",
       "   'Abortion Is gross!',\n",
       "   'Abortion is MURDER!!!!'],\n",
       "  'snippet': ['Abortion is wrong!', 'Abortion is MURDER!!!!'],\n",
       "  'index': 1}]"
      ]
     },
     "execution_count": 82,
     "metadata": {},
     "output_type": "execute_result"
    }
   ],
   "source": [
    "data_snippets[0:2]"
   ]
  },
  {
   "cell_type": "code",
   "execution_count": 83,
   "id": "peaceful-salmon",
   "metadata": {},
   "outputs": [
    {
     "data": {
      "text/plain": [
       "77"
      ]
     },
     "execution_count": 83,
     "metadata": {},
     "output_type": "execute_result"
    }
   ],
   "source": [
    "len(data_snippets_filtered)"
   ]
  },
  {
   "cell_type": "code",
   "execution_count": 84,
   "id": "amateur-weekly",
   "metadata": {},
   "outputs": [
    {
     "name": "stdout",
     "output_type": "stream",
     "text": [
      "23\n"
     ]
    }
   ],
   "source": [
    "count = 0\n",
    "for argument in data_snippets:\n",
    "    if len(argument['sentences']) <= 2:\n",
    "        count +=1\n",
    "print(count)      "
   ]
  },
  {
   "cell_type": "code",
   "execution_count": 85,
   "id": "composite-shape",
   "metadata": {},
   "outputs": [],
   "source": [
    "import pandas as pd\n",
    "data_snippets_df = pd.json_normalize(data_snippets_filtered)\n",
    "generated_snippets_df = pd.json_normalize(generated_snippets)\n"
   ]
  },
  {
   "cell_type": "code",
   "execution_count": 86,
   "id": "bridal-characteristic",
   "metadata": {},
   "outputs": [
    {
     "data": {
      "text/html": [
       "<div>\n",
       "<style scoped>\n",
       "    .dataframe tbody tr th:only-of-type {\n",
       "        vertical-align: middle;\n",
       "    }\n",
       "\n",
       "    .dataframe tbody tr th {\n",
       "        vertical-align: top;\n",
       "    }\n",
       "\n",
       "    .dataframe thead th {\n",
       "        text-align: right;\n",
       "    }\n",
       "</style>\n",
       "<table border=\"1\" class=\"dataframe\">\n",
       "  <thead>\n",
       "    <tr style=\"text-align: right;\">\n",
       "      <th></th>\n",
       "      <th>topic</th>\n",
       "      <th>query</th>\n",
       "      <th>arg_id</th>\n",
       "      <th>sentences</th>\n",
       "      <th>snippet</th>\n",
       "      <th>index</th>\n",
       "    </tr>\n",
       "  </thead>\n",
       "  <tbody>\n",
       "    <tr>\n",
       "      <th>0</th>\n",
       "      <td>Abortion</td>\n",
       "      <td>abortion</td>\n",
       "      <td>abortion-01</td>\n",
       "      <td>[In 2011 there were about 730,322 abortions re...</td>\n",
       "      <td>[Women who already had abortion earlier in the...</td>\n",
       "      <td>0</td>\n",
       "    </tr>\n",
       "    <tr>\n",
       "      <th>1</th>\n",
       "      <td>Abortion</td>\n",
       "      <td>abortion</td>\n",
       "      <td>abortion-02</td>\n",
       "      <td>[Abortion is wrong!, Abortion Is gross!, Abort...</td>\n",
       "      <td>[Abortion is wrong!, Abortion is MURDER!!!!]</td>\n",
       "      <td>1</td>\n",
       "    </tr>\n",
       "    <tr>\n",
       "      <th>2</th>\n",
       "      <td>Abortion</td>\n",
       "      <td>abortion</td>\n",
       "      <td>abortion-03</td>\n",
       "      <td>[\"The greatest destroyer of peace is abortion ...</td>\n",
       "      <td>[\"The greatest destroyer of peace is abortion ...</td>\n",
       "      <td>2</td>\n",
       "    </tr>\n",
       "    <tr>\n",
       "      <th>3</th>\n",
       "      <td>abortion</td>\n",
       "      <td>abortion</td>\n",
       "      <td>abortion-04</td>\n",
       "      <td>[Yes the government has the obligation to prot...</td>\n",
       "      <td>[Yes the government has the obligation to prot...</td>\n",
       "      <td>3</td>\n",
       "    </tr>\n",
       "    <tr>\n",
       "      <th>4</th>\n",
       "      <td>Abortion</td>\n",
       "      <td>abortion</td>\n",
       "      <td>abortion-05</td>\n",
       "      <td>[Thank you, Pro., Negative Case A1: False equi...</td>\n",
       "      <td>[There is no child death involved in not getti...</td>\n",
       "      <td>4</td>\n",
       "    </tr>\n",
       "  </tbody>\n",
       "</table>\n",
       "</div>"
      ],
      "text/plain": [
       "       topic     query       arg_id  \\\n",
       "0   Abortion  abortion  abortion-01   \n",
       "1   Abortion  abortion  abortion-02   \n",
       "2  Abortion   abortion  abortion-03   \n",
       "3   abortion  abortion  abortion-04   \n",
       "4   Abortion  abortion  abortion-05   \n",
       "\n",
       "                                           sentences  \\\n",
       "0  [In 2011 there were about 730,322 abortions re...   \n",
       "1  [Abortion is wrong!, Abortion Is gross!, Abort...   \n",
       "2  [\"The greatest destroyer of peace is abortion ...   \n",
       "3  [Yes the government has the obligation to prot...   \n",
       "4  [Thank you, Pro., Negative Case A1: False equi...   \n",
       "\n",
       "                                             snippet  index  \n",
       "0  [Women who already had abortion earlier in the...      0  \n",
       "1       [Abortion is wrong!, Abortion is MURDER!!!!]      1  \n",
       "2  [\"The greatest destroyer of peace is abortion ...      2  \n",
       "3  [Yes the government has the obligation to prot...      3  \n",
       "4  [There is no child death involved in not getti...      4  "
      ]
     },
     "execution_count": 86,
     "metadata": {},
     "output_type": "execute_result"
    }
   ],
   "source": [
    "data_snippets_df.head()"
   ]
  },
  {
   "cell_type": "code",
   "execution_count": 87,
   "id": "corresponding-apparatus",
   "metadata": {},
   "outputs": [
    {
     "data": {
      "text/plain": [
       "77"
      ]
     },
     "execution_count": 87,
     "metadata": {},
     "output_type": "execute_result"
    }
   ],
   "source": [
    "len(data_snippets_df)"
   ]
  },
  {
   "cell_type": "code",
   "execution_count": 88,
   "id": "digital-northeast",
   "metadata": {},
   "outputs": [
    {
     "data": {
      "text/html": [
       "<div>\n",
       "<style scoped>\n",
       "    .dataframe tbody tr th:only-of-type {\n",
       "        vertical-align: middle;\n",
       "    }\n",
       "\n",
       "    .dataframe tbody tr th {\n",
       "        vertical-align: top;\n",
       "    }\n",
       "\n",
       "    .dataframe thead th {\n",
       "        text-align: right;\n",
       "    }\n",
       "</style>\n",
       "<table border=\"1\" class=\"dataframe\">\n",
       "  <thead>\n",
       "    <tr style=\"text-align: right;\">\n",
       "      <th></th>\n",
       "      <th>snippet-title</th>\n",
       "      <th>snippets-text</th>\n",
       "      <th>sentences</th>\n",
       "    </tr>\n",
       "  </thead>\n",
       "  <tbody>\n",
       "    <tr>\n",
       "      <th>0</th>\n",
       "      <td>Women who already had abortion earlier in ther...</td>\n",
       "      <td>[Women who already had abortion earlier in the...</td>\n",
       "      <td>In 2011 there were about 730,322 abortions rep...</td>\n",
       "    </tr>\n",
       "    <tr>\n",
       "      <th>1</th>\n",
       "      <td>Abortion is MURDER!!!!</td>\n",
       "      <td>[Abortion is wrong!, Abortion is MURDER!!!!]</td>\n",
       "      <td>Abortion is wrong! Abortion Is gross! Abortion...</td>\n",
       "    </tr>\n",
       "    <tr>\n",
       "      <th>2</th>\n",
       "      <td>Abortion is a big controversial topic, people ...</td>\n",
       "      <td>[Abortion is a big controversial topic, people...</td>\n",
       "      <td>\"The greatest destroyer of peace is abortion b...</td>\n",
       "    </tr>\n",
       "    <tr>\n",
       "      <th>3</th>\n",
       "      <td>The most important argument against abortion w...</td>\n",
       "      <td>[The most important argument against abortion ...</td>\n",
       "      <td>Yes the government has the obligation to prote...</td>\n",
       "    </tr>\n",
       "    <tr>\n",
       "      <th>4</th>\n",
       "      <td>I am arguing for the right to have an abortion...</td>\n",
       "      <td>[It follows that \"having an abortion is the eq...</td>\n",
       "      <td>Thank you, Pro. Negative Case A1: False equiva...</td>\n",
       "    </tr>\n",
       "  </tbody>\n",
       "</table>\n",
       "</div>"
      ],
      "text/plain": [
       "                                       snippet-title  \\\n",
       "0  Women who already had abortion earlier in ther...   \n",
       "1                             Abortion is MURDER!!!!   \n",
       "2  Abortion is a big controversial topic, people ...   \n",
       "3  The most important argument against abortion w...   \n",
       "4  I am arguing for the right to have an abortion...   \n",
       "\n",
       "                                       snippets-text  \\\n",
       "0  [Women who already had abortion earlier in the...   \n",
       "1       [Abortion is wrong!, Abortion is MURDER!!!!]   \n",
       "2  [Abortion is a big controversial topic, people...   \n",
       "3  [The most important argument against abortion ...   \n",
       "4  [It follows that \"having an abortion is the eq...   \n",
       "\n",
       "                                           sentences  \n",
       "0  In 2011 there were about 730,322 abortions rep...  \n",
       "1  Abortion is wrong! Abortion Is gross! Abortion...  \n",
       "2  \"The greatest destroyer of peace is abortion b...  \n",
       "3  Yes the government has the obligation to prote...  \n",
       "4  Thank you, Pro. Negative Case A1: False equiva...  "
      ]
     },
     "execution_count": 88,
     "metadata": {},
     "output_type": "execute_result"
    }
   ],
   "source": [
    "generated_snippets_df=generated_snippets_df=generated_snippets_df.iloc[:,0:3]\n",
    "generated_snippets_df.head()"
   ]
  },
  {
   "cell_type": "code",
   "execution_count": 18,
   "id": "referenced-imaging",
   "metadata": {},
   "outputs": [
    {
     "data": {
      "text/html": [
       "<div>\n",
       "<style scoped>\n",
       "    .dataframe tbody tr th:only-of-type {\n",
       "        vertical-align: middle;\n",
       "    }\n",
       "\n",
       "    .dataframe tbody tr th {\n",
       "        vertical-align: top;\n",
       "    }\n",
       "\n",
       "    .dataframe thead th {\n",
       "        text-align: right;\n",
       "    }\n",
       "</style>\n",
       "<table border=\"1\" class=\"dataframe\">\n",
       "  <thead>\n",
       "    <tr style=\"text-align: right;\">\n",
       "      <th></th>\n",
       "      <th>topic</th>\n",
       "      <th>query</th>\n",
       "      <th>arg_id</th>\n",
       "      <th>sentences</th>\n",
       "      <th>snippet</th>\n",
       "      <th>index</th>\n",
       "    </tr>\n",
       "  </thead>\n",
       "  <tbody>\n",
       "    <tr>\n",
       "      <th>0</th>\n",
       "      <td>Abortion</td>\n",
       "      <td>abortion</td>\n",
       "      <td>abortion-01</td>\n",
       "      <td>[In 2011 there were about 730,322 abortions re...</td>\n",
       "      <td>[Women who already had abortion earlier in the...</td>\n",
       "      <td>0</td>\n",
       "    </tr>\n",
       "    <tr>\n",
       "      <th>1</th>\n",
       "      <td>Abortion</td>\n",
       "      <td>abortion</td>\n",
       "      <td>abortion-02</td>\n",
       "      <td>[Abortion is wrong!, Abortion Is gross!, Abort...</td>\n",
       "      <td>[Abortion is wrong!, Abortion is MURDER!!!!]</td>\n",
       "      <td>1</td>\n",
       "    </tr>\n",
       "  </tbody>\n",
       "</table>\n",
       "</div>"
      ],
      "text/plain": [
       "      topic     query       arg_id  \\\n",
       "0  Abortion  abortion  abortion-01   \n",
       "1  Abortion  abortion  abortion-02   \n",
       "\n",
       "                                           sentences  \\\n",
       "0  [In 2011 there were about 730,322 abortions re...   \n",
       "1  [Abortion is wrong!, Abortion Is gross!, Abort...   \n",
       "\n",
       "                                             snippet  index  \n",
       "0  [Women who already had abortion earlier in the...      0  \n",
       "1       [Abortion is wrong!, Abortion is MURDER!!!!]      1  "
      ]
     },
     "execution_count": 18,
     "metadata": {},
     "output_type": "execute_result"
    }
   ],
   "source": [
    "data_snippets_df.head(2)"
   ]
  },
  {
   "cell_type": "code",
   "execution_count": 116,
   "id": "basic-smooth",
   "metadata": {},
   "outputs": [],
   "source": [
    "query_list =data_snippets_df['query']"
   ]
  },
  {
   "cell_type": "code",
   "execution_count": 19,
   "id": "earned-consideration",
   "metadata": {},
   "outputs": [
    {
     "data": {
      "text/html": [
       "<div>\n",
       "<style scoped>\n",
       "    .dataframe tbody tr th:only-of-type {\n",
       "        vertical-align: middle;\n",
       "    }\n",
       "\n",
       "    .dataframe tbody tr th {\n",
       "        vertical-align: top;\n",
       "    }\n",
       "\n",
       "    .dataframe thead th {\n",
       "        text-align: right;\n",
       "    }\n",
       "</style>\n",
       "<table border=\"1\" class=\"dataframe\">\n",
       "  <thead>\n",
       "    <tr style=\"text-align: right;\">\n",
       "      <th></th>\n",
       "      <th>snippet-title</th>\n",
       "      <th>snippets-text</th>\n",
       "      <th>sentences</th>\n",
       "    </tr>\n",
       "  </thead>\n",
       "  <tbody>\n",
       "    <tr>\n",
       "      <th>0</th>\n",
       "      <td>Women who already had abortion earlier in ther...</td>\n",
       "      <td>[Women who already had abortion earlier in the...</td>\n",
       "      <td>In 2011 there were about 730,322 abortions rep...</td>\n",
       "    </tr>\n",
       "    <tr>\n",
       "      <th>1</th>\n",
       "      <td>Abortion is MURDER!!!!</td>\n",
       "      <td>[Abortion is wrong!, Abortion is MURDER!!!!]</td>\n",
       "      <td>Abortion is wrong! Abortion Is gross! Abortion...</td>\n",
       "    </tr>\n",
       "  </tbody>\n",
       "</table>\n",
       "</div>"
      ],
      "text/plain": [
       "                                       snippet-title  \\\n",
       "0  Women who already had abortion earlier in ther...   \n",
       "1                             Abortion is MURDER!!!!   \n",
       "\n",
       "                                       snippets-text  \\\n",
       "0  [Women who already had abortion earlier in the...   \n",
       "1       [Abortion is wrong!, Abortion is MURDER!!!!]   \n",
       "\n",
       "                                           sentences  \n",
       "0  In 2011 there were about 730,322 abortions rep...  \n",
       "1  Abortion is wrong! Abortion Is gross! Abortion...  "
      ]
     },
     "execution_count": 19,
     "metadata": {},
     "output_type": "execute_result"
    }
   ],
   "source": [
    "generated_snippets_df.head(2)"
   ]
  },
  {
   "cell_type": "code",
   "execution_count": 98,
   "id": "declared-insulin",
   "metadata": {},
   "outputs": [],
   "source": [
    "generated_snippets_df.insert(2,'generated_snippets',data_snippets_df['snippet'])"
   ]
  },
  {
   "cell_type": "code",
   "execution_count": 99,
   "id": "tracked-snapshot",
   "metadata": {},
   "outputs": [
    {
     "data": {
      "text/html": [
       "<div>\n",
       "<style scoped>\n",
       "    .dataframe tbody tr th:only-of-type {\n",
       "        vertical-align: middle;\n",
       "    }\n",
       "\n",
       "    .dataframe tbody tr th {\n",
       "        vertical-align: top;\n",
       "    }\n",
       "\n",
       "    .dataframe thead th {\n",
       "        text-align: right;\n",
       "    }\n",
       "</style>\n",
       "<table border=\"1\" class=\"dataframe\">\n",
       "  <thead>\n",
       "    <tr style=\"text-align: right;\">\n",
       "      <th></th>\n",
       "      <th>snippet-title</th>\n",
       "      <th>snippets-text</th>\n",
       "      <th>generated_snippets</th>\n",
       "      <th>sentences</th>\n",
       "    </tr>\n",
       "  </thead>\n",
       "  <tbody>\n",
       "    <tr>\n",
       "      <th>0</th>\n",
       "      <td>Women who already had abortion earlier in ther...</td>\n",
       "      <td>[Women who already had abortion earlier in the...</td>\n",
       "      <td>[Women who already had abortion earlier in the...</td>\n",
       "      <td>In 2011 there were about 730,322 abortions rep...</td>\n",
       "    </tr>\n",
       "    <tr>\n",
       "      <th>1</th>\n",
       "      <td>Abortion is MURDER!!!!</td>\n",
       "      <td>[Abortion is wrong!, Abortion is MURDER!!!!]</td>\n",
       "      <td>[Abortion is wrong!, Abortion is MURDER!!!!]</td>\n",
       "      <td>Abortion is wrong! Abortion Is gross! Abortion...</td>\n",
       "    </tr>\n",
       "  </tbody>\n",
       "</table>\n",
       "</div>"
      ],
      "text/plain": [
       "                                       snippet-title  \\\n",
       "0  Women who already had abortion earlier in ther...   \n",
       "1                             Abortion is MURDER!!!!   \n",
       "\n",
       "                                       snippets-text  \\\n",
       "0  [Women who already had abortion earlier in the...   \n",
       "1       [Abortion is wrong!, Abortion is MURDER!!!!]   \n",
       "\n",
       "                                  generated_snippets  \\\n",
       "0  [Women who already had abortion earlier in the...   \n",
       "1       [Abortion is wrong!, Abortion is MURDER!!!!]   \n",
       "\n",
       "                                           sentences  \n",
       "0  In 2011 there were about 730,322 abortions rep...  \n",
       "1  Abortion is wrong! Abortion Is gross! Abortion...  "
      ]
     },
     "execution_count": 99,
     "metadata": {},
     "output_type": "execute_result"
    }
   ],
   "source": [
    "generated_snippets_df.head(2)"
   ]
  },
  {
   "cell_type": "code",
   "execution_count": 118,
   "id": "specified-disney",
   "metadata": {},
   "outputs": [],
   "source": [
    "generated_snippets_df['query'] = query_list "
   ]
  },
  {
   "cell_type": "code",
   "execution_count": 159,
   "id": "iraqi-depression",
   "metadata": {},
   "outputs": [],
   "source": [
    "generated_snippets_df_abotion = generated_snippets_df[generated_snippets_df[\"query\"] == \"vegan\"]"
   ]
  },
  {
   "cell_type": "code",
   "execution_count": 160,
   "id": "necessary-obligation",
   "metadata": {},
   "outputs": [
    {
     "data": {
      "text/html": [
       "<div>\n",
       "<style scoped>\n",
       "    .dataframe tbody tr th:only-of-type {\n",
       "        vertical-align: middle;\n",
       "    }\n",
       "\n",
       "    .dataframe tbody tr th {\n",
       "        vertical-align: top;\n",
       "    }\n",
       "\n",
       "    .dataframe thead th {\n",
       "        text-align: right;\n",
       "    }\n",
       "</style>\n",
       "<table border=\"1\" class=\"dataframe\">\n",
       "  <thead>\n",
       "    <tr style=\"text-align: right;\">\n",
       "      <th></th>\n",
       "      <th>snippet-title</th>\n",
       "      <th>snippets-text</th>\n",
       "      <th>generated_snippets</th>\n",
       "      <th>sentences</th>\n",
       "      <th>query</th>\n",
       "    </tr>\n",
       "  </thead>\n",
       "  <tbody>\n",
       "    <tr>\n",
       "      <th>42</th>\n",
       "      <td>If pro doesn't redefine, I will take \"people\" ...</td>\n",
       "      <td>[You'll see me draw several parallels between ...</td>\n",
       "      <td>[You'll see me draw several parallels between ...</td>\n",
       "      <td>Thank you for the great debate topic. Pro's de...</td>\n",
       "      <td>vegan</td>\n",
       "    </tr>\n",
       "    <tr>\n",
       "      <th>43</th>\n",
       "      <td>Theoretical Nutrition Because Pro has no data ...</td>\n",
       "      <td>[Theoretical Nutrition Because Pro has no data...</td>\n",
       "      <td>[A balanced diet is healthiest The American He...</td>\n",
       "      <td>This debate is about a vegan diet. Vegans are ...</td>\n",
       "      <td>vegan</td>\n",
       "    </tr>\n",
       "    <tr>\n",
       "      <th>44</th>\n",
       "      <td>Theoretical Nutrition Because Pro has no data ...</td>\n",
       "      <td>[Theoretical Nutrition Because Pro has no data...</td>\n",
       "      <td>[A balanced diet is healthiest The American He...</td>\n",
       "      <td>This debate is about a vegan diet. Vegans are ...</td>\n",
       "      <td>vegan</td>\n",
       "    </tr>\n",
       "    <tr>\n",
       "      <th>45</th>\n",
       "      <td>Being vegan is a luxury and wouldn't solve any...</td>\n",
       "      <td>[Everyone being vegan is not going to create a...</td>\n",
       "      <td>[Everyone being vegan is not going to create a...</td>\n",
       "      <td>Everyone being vegan is not going to create a ...</td>\n",
       "      <td>vegan</td>\n",
       "    </tr>\n",
       "    <tr>\n",
       "      <th>46</th>\n",
       "      <td>If pro doesn't redefine, I will take \"people\" ...</td>\n",
       "      <td>[If pro doesn't redefine, I will take \"people\"...</td>\n",
       "      <td>[My reasons for becoming vegan : 1) Its health...</td>\n",
       "      <td>Con, please excuse my forfeited, I have been b...</td>\n",
       "      <td>vegan</td>\n",
       "    </tr>\n",
       "    <tr>\n",
       "      <th>47</th>\n",
       "      <td>Why wouldn't everyone be vegan?</td>\n",
       "      <td>[Vegan is healthy, saves animals, and the plan...</td>\n",
       "      <td>[Vegan is healthy, saves animals, and the plan...</td>\n",
       "      <td>Vegan is healthy, saves animals, and the plane...</td>\n",
       "      <td>vegan</td>\n",
       "    </tr>\n",
       "    <tr>\n",
       "      <th>48</th>\n",
       "      <td>Summary Beyond the Average Person Con argued t...</td>\n",
       "      <td>[Summary Beyond the Average Person Con argued ...</td>\n",
       "      <td>[Disease I've used the very best science avail...</td>\n",
       "      <td>Con, being a much more experienced debater tha...</td>\n",
       "      <td>vegan</td>\n",
       "    </tr>\n",
       "    <tr>\n",
       "      <th>49</th>\n",
       "      <td>I hope pro will join the debate once again and...</td>\n",
       "      <td>[Just as it is not good for everybody to join ...</td>\n",
       "      <td>[Just as it is not good for everybody to join ...</td>\n",
       "      <td>tiff_mescudi forfeited this round. Con Since p...</td>\n",
       "      <td>vegan</td>\n",
       "    </tr>\n",
       "  </tbody>\n",
       "</table>\n",
       "</div>"
      ],
      "text/plain": [
       "                                        snippet-title  \\\n",
       "42  If pro doesn't redefine, I will take \"people\" ...   \n",
       "43  Theoretical Nutrition Because Pro has no data ...   \n",
       "44  Theoretical Nutrition Because Pro has no data ...   \n",
       "45  Being vegan is a luxury and wouldn't solve any...   \n",
       "46  If pro doesn't redefine, I will take \"people\" ...   \n",
       "47                    Why wouldn't everyone be vegan?   \n",
       "48  Summary Beyond the Average Person Con argued t...   \n",
       "49  I hope pro will join the debate once again and...   \n",
       "\n",
       "                                        snippets-text  \\\n",
       "42  [You'll see me draw several parallels between ...   \n",
       "43  [Theoretical Nutrition Because Pro has no data...   \n",
       "44  [Theoretical Nutrition Because Pro has no data...   \n",
       "45  [Everyone being vegan is not going to create a...   \n",
       "46  [If pro doesn't redefine, I will take \"people\"...   \n",
       "47  [Vegan is healthy, saves animals, and the plan...   \n",
       "48  [Summary Beyond the Average Person Con argued ...   \n",
       "49  [Just as it is not good for everybody to join ...   \n",
       "\n",
       "                                   generated_snippets  \\\n",
       "42  [You'll see me draw several parallels between ...   \n",
       "43  [A balanced diet is healthiest The American He...   \n",
       "44  [A balanced diet is healthiest The American He...   \n",
       "45  [Everyone being vegan is not going to create a...   \n",
       "46  [My reasons for becoming vegan : 1) Its health...   \n",
       "47  [Vegan is healthy, saves animals, and the plan...   \n",
       "48  [Disease I've used the very best science avail...   \n",
       "49  [Just as it is not good for everybody to join ...   \n",
       "\n",
       "                                            sentences  query  \n",
       "42  Thank you for the great debate topic. Pro's de...  vegan  \n",
       "43  This debate is about a vegan diet. Vegans are ...  vegan  \n",
       "44  This debate is about a vegan diet. Vegans are ...  vegan  \n",
       "45  Everyone being vegan is not going to create a ...  vegan  \n",
       "46  Con, please excuse my forfeited, I have been b...  vegan  \n",
       "47  Vegan is healthy, saves animals, and the plane...  vegan  \n",
       "48  Con, being a much more experienced debater tha...  vegan  \n",
       "49  tiff_mescudi forfeited this round. Con Since p...  vegan  "
      ]
     },
     "execution_count": 160,
     "metadata": {},
     "output_type": "execute_result"
    }
   ],
   "source": [
    "generated_snippets_df_abotion "
   ]
  },
  {
   "cell_type": "code",
   "execution_count": 161,
   "id": "alone-bleeding",
   "metadata": {},
   "outputs": [
    {
     "name": "stdout",
     "output_type": "stream",
     "text": [
      "4.0\n"
     ]
    },
    {
     "data": {
      "text/plain": [
       "50.0"
      ]
     },
     "execution_count": 161,
     "metadata": {},
     "output_type": "execute_result"
    }
   ],
   "source": [
    "count = 0\n",
    "for index, row in generated_snippets_df_abotion.iterrows():\n",
    "\n",
    "            # = dict object of aspect detected\n",
    "            snippets_detected=row['generated_snippets']\n",
    "            snippets_answer=row['snippets-text']\n",
    "            #print(other_args_dict)\n",
    "            for x in snippets_answer:\n",
    "                for y in snippets_detected:\n",
    "                    #print(x)\n",
    "                    #print(y)\n",
    "                    #print(\"-------------\")\n",
    "                    if x==y:\n",
    "                        count= count + 0.5\n",
    "                        #print('match')\n",
    "                        \n",
    "                        \n",
    "print(count)                        \n",
    "accuracy =(100.0 * count)/ (  len(generated_snippets_df_abotion))\n",
    "accuracy\n"
   ]
  },
  {
   "cell_type": "code",
   "execution_count": 162,
   "id": "visible-trash",
   "metadata": {},
   "outputs": [
    {
     "data": {
      "text/plain": [
       "4.0"
      ]
     },
     "execution_count": 162,
     "metadata": {},
     "output_type": "execute_result"
    }
   ],
   "source": [
    "count"
   ]
  },
  {
   "cell_type": "code",
   "execution_count": 163,
   "id": "hydraulic-ballot",
   "metadata": {},
   "outputs": [
    {
     "ename": "SyntaxError",
     "evalue": "invalid syntax (<ipython-input-163-337d38581ba0>, line 3)",
     "output_type": "error",
     "traceback": [
      "\u001B[1;36m  File \u001B[1;32m\"<ipython-input-163-337d38581ba0>\"\u001B[1;36m, line \u001B[1;32m3\u001B[0m\n\u001B[1;33m    if row['query'] = 'abortion':\u001B[0m\n\u001B[1;37m                    ^\u001B[0m\n\u001B[1;31mSyntaxError\u001B[0m\u001B[1;31m:\u001B[0m invalid syntax\n"
     ]
    }
   ],
   "source": [
    "count = 0\n",
    "for index, row in generated_snippets_df.iterrows():\n",
    "    if row['query'] = 'abortion':\n",
    "                # = dict object of aspect detected\n",
    "                snippets_detected=row['generated_snippets']\n",
    "                snippets_answer=row['snippets-text']\n",
    "                #print(other_args_dict)\n",
    "                for x in snippets_answer:\n",
    "                    for y in snippets_detected:\n",
    "                        #print(x)\n",
    "                        #print(y)\n",
    "                        #print(\"-------------\")\n",
    "                        if x==y:\n",
    "                            count= count + 0.5\n",
    "                            #print('match')"
   ]
  },
  {
   "cell_type": "code",
   "execution_count": 124,
   "id": "comprehensive-champagne",
   "metadata": {},
   "outputs": [
    {
     "data": {
      "text/plain": [
       "22.5"
      ]
     },
     "execution_count": 124,
     "metadata": {},
     "output_type": "execute_result"
    }
   ],
   "source": [
    "count"
   ]
  },
  {
   "cell_type": "code",
   "execution_count": 121,
   "id": "hollow-greensboro",
   "metadata": {},
   "outputs": [
    {
     "data": {
      "text/plain": [
       "45.0"
      ]
     },
     "execution_count": 121,
     "metadata": {},
     "output_type": "execute_result"
    }
   ],
   "source": [
    "accuracy =(100.0 * count)/ (  len(generated_snippets))\n",
    "accuracy"
   ]
  },
  {
   "cell_type": "code",
   "execution_count": null,
   "id": "critical-shepherd",
   "metadata": {},
   "outputs": [],
   "source": [
    "#import pickle5 as pickle\n",
    "#with open(\"data/argumentAspectsDataset_df_re.pkl\", \"rb\") as fh:\n",
    "  #Arguments_df = pickle.load(fh)"
   ]
  },
  {
   "cell_type": "code",
   "execution_count": null,
   "id": "logical-former",
   "metadata": {},
   "outputs": [],
   "source": [
    "import pandas as pd \n",
    "Arguments_df = pd.read_pickle('data/ArgumentsDatasets.pkl')\n",
    "Arguments_df.head(2)"
   ]
  },
  {
   "cell_type": "code",
   "execution_count": null,
   "id": "declared-external",
   "metadata": {},
   "outputs": [],
   "source": [
    "Arguments_df['arg_id'].nunique()"
   ]
  },
  {
   "cell_type": "code",
   "execution_count": null,
   "id": "changing-bermuda",
   "metadata": {},
   "outputs": [],
   "source": [
    "arguments_datasets_aspects = Arguments_df['dict_weighted_args_dataset_list_re']\n",
    "type(arguments_datasets_aspects[0])"
   ]
  },
  {
   "cell_type": "code",
   "execution_count": null,
   "id": "flying-discipline",
   "metadata": {},
   "outputs": [],
   "source": [
    "# from collections import OrderedDict\n",
    "argument_similar_ids=[]\n",
    "argument_similar_ids_count=[]\n",
    "\n",
    "for dict_aspects in arg_aspects:\n",
    "    print(dict_aspects)\n",
    "    score=0\n",
    "    arg_id_score= dict()\n",
    "    arg_id_list=[]\n",
    "\n",
    "\n",
    "\n",
    "    for aspect in dict_aspects:\n",
    "        aspect_word_count=len(aspect.split())\n",
    "        aspect_weight=dict_aspects[aspect]\n",
    "        if aspect_weight >= 0.33:\n",
    "            \n",
    "            for index, row in Arguments_df.iterrows():\n",
    "                    # x= dict object of aspect detected\n",
    "                    other_args_dict= row['dict_weighted_args_dataset_list_re']\n",
    "\n",
    "                    if aspect in other_args_dict and other_args_dict[aspect] >0.25:\n",
    "                        arg_id=row['arg_id']\n",
    "                        if arg_id in arg_id_score:\n",
    "                            # print('match found')\n",
    "                            # print(other_args_dict[aspect])\n",
    "                        \n",
    "                            # print(score)\n",
    "                            # print(arg_id)\n",
    "                            arg_id_score[arg_id]= score + other_args_dict[aspect]\n",
    "                        #other_args_dict[aspect]= round(other_args_dict[aspect],2)\n",
    "                        else:\n",
    "\n",
    "                            score=other_args_dict[aspect]\n",
    "                            arg_id_score[arg_id]=score\n",
    "                            \n",
    "    arg_id_score=dict(sorted(arg_id_score.items(), key=lambda item: item[1],reverse=True))\n",
    "    \n",
    "    #print(arg_id_score)\n",
    "    argument_similar_ids.append(arg_id_score)\n",
    "    #print(arg_id_score)\n",
    "    \n",
    "    argument_similar_ids_count.append(len(arg_id_score))\n",
    "    print(len(arg_id_score))"
   ]
  },
  {
   "cell_type": "code",
   "execution_count": null,
   "id": "frozen-thunder",
   "metadata": {},
   "outputs": [],
   "source": [
    "print(argument_similar_ids_count)"
   ]
  },
  {
   "cell_type": "code",
   "execution_count": null,
   "id": "respiratory-moldova",
   "metadata": {},
   "outputs": [],
   "source": [
    "import string\n",
    "string.punctuation"
   ]
  },
  {
   "cell_type": "code",
   "execution_count": null,
   "id": "fitting-editor",
   "metadata": {},
   "outputs": [],
   "source": [
    "f = open(\"data\\WikiAspects.txt\", encoding='utf8')\n",
    "aspect_list = f.read().lower().split('\\n')\n",
    "len(aspect_list)"
   ]
  },
  {
   "cell_type": "code",
   "execution_count": null,
   "id": "after-practice",
   "metadata": {},
   "outputs": [],
   "source": [
    "len(argument_similar_ids)"
   ]
  },
  {
   "cell_type": "code",
   "execution_count": null,
   "id": "previous-skill",
   "metadata": {},
   "outputs": [],
   "source": [
    "len(argument_similar_ids[0])"
   ]
  },
  {
   "cell_type": "code",
   "execution_count": null,
   "id": "framed-slovenia",
   "metadata": {},
   "outputs": [],
   "source": [
    "ArgumentativeText_args_list =[]\n",
    "for argument_similar_ids_dict in argument_similar_ids:\n",
    "    #print(len(argument_similar_ids_list))\n",
    "    # take first 50 arguments\n",
    "    argument_similar_ids_list = list(argument_similar_ids_dict.keys())\n",
    "    if len(argument_similar_ids_list) <= 50: \n",
    "        argument_similar_ids_top = argument_similar_ids_list\n",
    "    else:\n",
    "        argument_similar_ids_top = argument_similar_ids_list[:50]  \n",
    "        # print(type(argument_similar_ids_top)) \n",
    "    # print(len(argument_similar_ids_top))\n",
    "    ArgumentativeText_args = []\n",
    "    for argument_similar_id in argument_similar_ids_top:\n",
    "        # print(argument_similar_id)\n",
    "        ArgumentativeText = Arguments_df['text'][argument_similar_id] + Arguments_df['conclusion'][argument_similar_id]\n",
    "        ArgumentativeText_args.append(ArgumentativeText)\n",
    "    ArgumentativeText_args_list.append(ArgumentativeText_args)\n"
   ]
  },
  {
   "cell_type": "code",
   "execution_count": null,
   "id": "spanish-illustration",
   "metadata": {},
   "outputs": [],
   "source": [
    "len(ArgumentativeText_args_list)"
   ]
  },
  {
   "cell_type": "code",
   "execution_count": null,
   "id": "angry-music",
   "metadata": {},
   "outputs": [],
   "source": [
    "ArgumentativeText_args_list[-1]"
   ]
  },
  {
   "cell_type": "code",
   "execution_count": null,
   "id": "dutch-quantum",
   "metadata": {},
   "outputs": [],
   "source": [
    " Arguments_df['conclusion'][10939]"
   ]
  },
  {
   "cell_type": "code",
   "execution_count": null,
   "id": "pregnant-vintage",
   "metadata": {},
   "outputs": [],
   "source": [
    "Arguments_df['conclusion'][10939] + Arguments_df['text'][10939] "
   ]
  },
  {
   "cell_type": "code",
   "execution_count": null,
   "id": "guided-sitting",
   "metadata": {},
   "outputs": [],
   "source": []
  },
  {
   "cell_type": "code",
   "execution_count": 90,
   "id": "proprietary-bracket",
   "metadata": {},
   "outputs": [
    {
     "data": {
      "text/plain": [
       "50"
      ]
     },
     "execution_count": 90,
     "metadata": {},
     "output_type": "execute_result"
    }
   ],
   "source": [
    "len(test_args)"
   ]
  },
  {
   "cell_type": "code",
   "execution_count": 66,
   "id": "female-inspiration",
   "metadata": {},
   "outputs": [
    {
     "data": {
      "text/plain": [
       "50"
      ]
     },
     "execution_count": 66,
     "metadata": {},
     "output_type": "execute_result"
    }
   ],
   "source": [
    "len(generated_snippets)\n"
   ]
  },
  {
   "cell_type": "code",
   "execution_count": 91,
   "id": "otherwise-framing",
   "metadata": {},
   "outputs": [
    {
     "name": "stdout",
     "output_type": "stream",
     "text": [
      "22.5\n",
      "Accuracy  45.0\n"
     ]
    }
   ],
   "source": [
    "count = 0\n",
    "for sentence_index in range(0, len(test_args), 1):\n",
    "    actual_snippets = test_args[sentence_index]['snippet']\n",
    "\n",
    "    generated_snippet = generated_snippets[sentence_index]['snippets-text']\n",
    "\n",
    "    for x in actual_snippets:\n",
    "        for y in generated_snippet:\n",
    "            if x == y:\n",
    "                count += 0.5\n",
    "\n",
    "print(count)\n",
    "accuracy = (100.0 * count) / len(test_args)\n",
    "print(\"Accuracy \", accuracy)\n"
   ]
  }
 ],
 "metadata": {
  "kernelspec": {
   "display_name": "Python 3",
   "language": "python",
   "name": "python3"
  },
  "language_info": {
   "codemirror_mode": {
    "name": "ipython",
    "version": 3
   },
   "file_extension": ".py",
   "mimetype": "text/x-python",
   "name": "python",
   "nbconvert_exporter": "python",
   "pygments_lexer": "ipython3",
   "version": "3.7.10"
  }
 },
 "nbformat": 4,
 "nbformat_minor": 5
}