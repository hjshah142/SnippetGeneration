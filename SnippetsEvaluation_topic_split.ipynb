{
 "cells": [
  {
   "cell_type": "code",
   "execution_count": 1,
   "id": "98c72c44",
   "metadata": {},
   "outputs": [],
   "source": [
    "import json\n",
    "import os\n",
    "from pathlib import Path\n",
    "script_dir = os.path.dirname(Path())\n",
    "data_snippets = json.load(open(os.path.join(script_dir, \"data/snippets.txt\")), encoding='utf-8')"
   ]
  },
  {
   "cell_type": "code",
   "execution_count": 26,
   "id": "38a84898",
   "metadata": {},
   "outputs": [
    {
     "name": "stdout",
     "output_type": "stream",
     "text": [
      "100\n",
      "77\n"
     ]
    }
   ],
   "source": [
    "for idx, arguments in enumerate(data_snippets):\n",
    "    arguments['index'] = idx\n",
    "    # print(arguments)\n",
    "\n",
    "# removing arguments with sentences less then 3\n",
    "print(len(data_snippets))\n",
    "count = 0\n",
    "data_snippets_filtered = []\n",
    "for argument_x in data_snippets:\n",
    "\n",
    "    if len(argument_x['sentences']) >= 3:\n",
    "        data_snippets_filtered.append(argument_x)\n",
    "        count = count + 1\n",
    "\n",
    "print(count)"
   ]
  },
  {
   "cell_type": "code",
   "execution_count": 27,
   "id": "48bf5443",
   "metadata": {},
   "outputs": [],
   "source": [
    "argument_query_list =[]\n",
    "for arguments in data_snippets_filtered:\n",
    "    if arguments['query'] not in argument_query_list:\n",
    "        argument_query_list.append(arguments['query'])"
   ]
  },
  {
   "cell_type": "code",
   "execution_count": 28,
   "id": "cc065b4f",
   "metadata": {},
   "outputs": [
    {
     "data": {
      "text/plain": [
       "10"
      ]
     },
     "execution_count": 28,
     "metadata": {},
     "output_type": "execute_result"
    }
   ],
   "source": [
    "len(argument_query_list)"
   ]
  },
  {
   "cell_type": "code",
   "execution_count": 29,
   "id": "d275e8bf",
   "metadata": {},
   "outputs": [
    {
     "name": "stdout",
     "output_type": "stream",
     "text": [
      "['abortion', 'brexit', 'climate change', 'death_penalty', 'donald trump', 'feminism', 'google', 'nuclear_energy', 'trump', 'vegan']\n"
     ]
    }
   ],
   "source": [
    "print(argument_query_list)"
   ]
  },
  {
   "cell_type": "code",
   "execution_count": 30,
   "id": "383a3f0f",
   "metadata": {},
   "outputs": [],
   "source": [
    "for qurery in argument_query_list:\n",
    "    arguments_count = 0\n",
    "    for argument in data_snippets_filtered: \n",
    "            if argument['query']== qurery:\n",
    "                    arguments_count = arguments_count +1\n",
    "    arguments_query_count =  {}\n",
    "    arguments_query_count[qurery]= arguments_count\n",
    "    \n",
    "argument_count_list=arguments_query_count  "
   ]
  },
  {
   "cell_type": "code",
   "execution_count": 31,
   "id": "658b9fe2",
   "metadata": {},
   "outputs": [
    {
     "name": "stdout",
     "output_type": "stream",
     "text": [
      "{'vegan': 8}\n"
     ]
    }
   ],
   "source": [
    "print(argument_count_list)"
   ]
  },
  {
   "cell_type": "code",
   "execution_count": 32,
   "id": "83d612eb",
   "metadata": {},
   "outputs": [],
   "source": [
    "from sklearn.model_selection import train_test_split"
   ]
  },
  {
   "cell_type": "code",
   "execution_count": 33,
   "id": "940f57c1",
   "metadata": {},
   "outputs": [],
   "source": [
    "dev_args_set = ['abortion','death_penalty', 'vegan']"
   ]
  },
  {
   "cell_type": "code",
   "execution_count": 34,
   "id": "f4e97b39",
   "metadata": {},
   "outputs": [],
   "source": [
    "test_args =[]\n",
    "dev_args  =[]\n",
    "for args in data_snippets_filtered:\n",
    "    if args['query'] in dev_args_set:\n",
    "        dev_args.append(args)\n",
    "    else:\n",
    "        test_args.append(args)"
   ]
  },
  {
   "cell_type": "code",
   "execution_count": 35,
   "id": "df03e45a",
   "metadata": {},
   "outputs": [
    {
     "data": {
      "text/plain": [
       "50"
      ]
     },
     "execution_count": 35,
     "metadata": {},
     "output_type": "execute_result"
    }
   ],
   "source": [
    "len(test_args)"
   ]
  },
  {
   "cell_type": "code",
   "execution_count": 36,
   "id": "0928328b",
   "metadata": {},
   "outputs": [
    {
     "data": {
      "text/plain": [
       "27"
      ]
     },
     "execution_count": 36,
     "metadata": {},
     "output_type": "execute_result"
    }
   ],
   "source": [
    "len(dev_args)"
   ]
  },
  {
   "cell_type": "code",
   "execution_count": 37,
   "id": "720195f1",
   "metadata": {},
   "outputs": [],
   "source": [
    "from snippetGenerator import SnippetGenerator"
   ]
  },
  {
   "cell_type": "code",
   "execution_count": 38,
   "id": "791b6e8e",
   "metadata": {},
   "outputs": [],
   "source": [
    "def evaluation(arguments, d, mc_method, aspects_arguments_max, aspects_weights):\n",
    "    snippetGenerator = SnippetGenerator(arguments, d, mc_method, aspects_arguments_max, aspects_weights)\n",
    "    snippets = snippetGenerator.get_snippets(arguments)\n",
    "    count, accuracy= snippetGenerator.get_accuracy(arguments, snippets)\n",
    "    return count,accuracy"
   ]
  },
  {
   "cell_type": "code",
   "execution_count": 39,
   "id": "4bfc8d7b",
   "metadata": {},
   "outputs": [
    {
     "name": "stdout",
     "output_type": "stream",
     "text": [
      "index 0\n",
      "210\n",
      "index 1\n",
      "210\n",
      "index 2\n",
      "210\n",
      "index 3\n",
      "210\n",
      "index 4\n",
      "210\n",
      "index 5\n",
      "210\n",
      "index 6\n",
      "210\n",
      "index 7\n",
      "210\n",
      "index 8\n",
      "210\n",
      "index 9\n",
      "210\n",
      "index 30\n",
      "10\n",
      "index 31\n",
      "210\n",
      "index 32\n",
      "210\n",
      "index 33\n",
      "10\n",
      "index 35\n",
      "10\n",
      "index 36\n",
      "210\n",
      "index 37\n",
      "210\n",
      "index 38\n",
      "10\n",
      "index 39\n",
      "10\n",
      "index 90\n",
      "210\n",
      "index 92\n",
      "210\n",
      "index 93\n",
      "210\n",
      "index 94\n",
      "10\n",
      "index 95\n",
      "210\n",
      "index 96\n",
      "10\n",
      "index 98\n",
      "210\n",
      "index 99\n",
      "210\n",
      "27\n",
      "generated snippets...\n",
      "d  0\n",
      "Markov Chain Method linear\n",
      "210\n",
      "210\n",
      "210\n",
      "210\n",
      "210\n",
      "210\n",
      "210\n",
      "210\n",
      "210\n",
      "210\n",
      "10\n",
      "210\n",
      "210\n",
      "10\n",
      "10\n",
      "210\n",
      "210\n",
      "10\n",
      "10\n",
      "210\n",
      "210\n",
      "210\n",
      "10\n",
      "210\n",
      "10\n",
      "210\n",
      "210\n",
      "snippets generated File is created \n",
      "25\n",
      "46.2962962962963\n"
     ]
    }
   ],
   "source": [
    "\n",
    "d = 0\n",
    "# methodSet = ['power','eigen','linear','krylov']\n",
    "mc_method = 'linear'\n",
    "aspects_arguments_max = 200\n",
    "aspects_weights = [0, 0]\n",
    "#json_arguments = data_snippets_filtered\n",
    "arguments =dev_args\n",
    "count,accuracy  = evaluation(arguments, d, mc_method, aspects_arguments_max, aspects_weights)"
   ]
  },
  {
   "cell_type": "code",
   "execution_count": 40,
   "id": "f44f4bd5",
   "metadata": {},
   "outputs": [
    {
     "data": {
      "text/plain": [
       "25"
      ]
     },
     "execution_count": 40,
     "metadata": {},
     "output_type": "execute_result"
    }
   ],
   "source": [
    "count"
   ]
  },
  {
   "cell_type": "code",
   "execution_count": 41,
   "id": "a2f8ad37",
   "metadata": {},
   "outputs": [
    {
     "data": {
      "text/plain": [
       "46.2962962962963"
      ]
     },
     "execution_count": 41,
     "metadata": {},
     "output_type": "execute_result"
    }
   ],
   "source": [
    "accuracy"
   ]
  }
 ],
 "metadata": {
  "kernelspec": {
   "display_name": "Python 3",
   "language": "python",
   "name": "python3"
  },
  "language_info": {
   "codemirror_mode": {
    "name": "ipython",
    "version": 3
   },
   "file_extension": ".py",
   "mimetype": "text/x-python",
   "name": "python",
   "nbconvert_exporter": "python",
   "pygments_lexer": "ipython3",
   "version": "3.7.10"
  }
 },
 "nbformat": 4,
 "nbformat_minor": 5
}
